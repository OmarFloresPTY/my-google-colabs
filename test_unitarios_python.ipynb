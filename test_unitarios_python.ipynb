{
  "nbformat": 4,
  "nbformat_minor": 0,
  "metadata": {
    "colab": {
      "provenance": [],
      "toc_visible": true,
      "authorship_tag": "ABX9TyOa9lO7OagvOgiD7sh6bwBa",
      "include_colab_link": true
    },
    "kernelspec": {
      "name": "python3",
      "display_name": "Python 3"
    },
    "language_info": {
      "name": "python"
    }
  },
  "cells": [
    {
      "cell_type": "markdown",
      "metadata": {
        "id": "view-in-github",
        "colab_type": "text"
      },
      "source": [
        "<a href=\"https://colab.research.google.com/github/OmarFloresPTY/my-google-colabs/blob/master/test_unitarios_python.ipynb\" target=\"_parent\"><img src=\"https://colab.research.google.com/assets/colab-badge.svg\" alt=\"Open In Colab\"/></a>"
      ]
    },
    {
      "cell_type": "markdown",
      "source": [
        "# Test Unitarios en Python\n",
        "En python y en cualquier otro lenguaje de programación es importante saber como realizarles test a nuestro código, esto con el objetivo de conocer el verdadero funcionamiento del mismo.\n",
        "Existen diferentes tipos de pruebas:\n",
        "* Pruebas Unitarias.\n",
        "* Pruebas de integración.\n",
        "* Pruebas de regresión.\n",
        "\n",
        "En este cuaderno nos enfocaremos en las pruebas unitarias con el uso de dos módulos integrados en python.\n",
        "\n",
        "\n",
        "*   doctest\n",
        "*   unittest\n",
        "\n",
        "\n",
        "\n"
      ],
      "metadata": {
        "id": "uhMYKwt3dFM4"
      }
    },
    {
      "cell_type": "markdown",
      "source": [
        "## Doctest\n",
        "Nos permite realizar pruebas unitarias con la documentación.\n"
      ],
      "metadata": {
        "id": "ORftLjnIoWVT"
      }
    },
    {
      "cell_type": "markdown",
      "source": [
        "### Sintaxis\n",
        "Si en la documentación aparece:\n",
        "* '>>>' : El entorno entiende que a continuación viene código Python.\n",
        "* '...' : El entorno entiende que es una sentencia anidada.\n",
        "\n",
        "La respuesta esperada se escribe sin el '>>>'."
      ],
      "metadata": {
        "id": "rsRAa2ujorT5"
      }
    },
    {
      "cell_type": "markdown",
      "source": [
        "### Ejemplos"
      ],
      "metadata": {
        "id": "feJL4yY3pqvB"
      }
    },
    {
      "cell_type": "code",
      "source": [
        "import doctest"
      ],
      "metadata": {
        "id": "YRa58XQFqKrU"
      },
      "execution_count": null,
      "outputs": []
    },
    {
      "cell_type": "markdown",
      "source": [
        "1. Función que calcula el área de un triángulo y retorna el resultado. Se la pasa como parámetro la base y la altura."
      ],
      "metadata": {
        "id": "MxOTRiOip6Qb"
      }
    },
    {
      "cell_type": "code",
      "source": [
        "def areaTriangulo(base,altura):\n",
        "    \"\"\"\n",
        "        Calcula el área de un triángulo dado\n",
        "        >>> areaTriangulo(3,6)\n",
        "        9.0\n",
        "    \"\"\"\n",
        "    return (base*altura)/2"
      ],
      "metadata": {
        "id": "xQb5x2AhdJOo"
      },
      "execution_count": null,
      "outputs": []
    },
    {
      "cell_type": "code",
      "source": [
        "doctest.testmod(verbose=True)"
      ],
      "metadata": {
        "id": "BjwSiY5mtQFj"
      },
      "execution_count": null,
      "outputs": []
    },
    {
      "cell_type": "markdown",
      "source": [
        "2. Cálcula el cuadrado de un número y retorna el resultado. Se le pasa como parámetro un número."
      ],
      "metadata": {
        "id": "C-B3tX8zqQkh"
      }
    },
    {
      "cell_type": "code",
      "source": [
        "def cuadrado(num):\n",
        "     \"\"\"Calcula el cuadrado de un numero\n",
        "    >>> l = [0,1,2,3]\n",
        "    >>> for n in l:\n",
        "    ...    cuadrado(n)\n",
        "    0\n",
        "    1\n",
        "    4\n",
        "    9\n",
        "    \"\"\"\n",
        "     return num ** 2"
      ],
      "metadata": {
        "id": "nHd46ViQtLS_"
      },
      "execution_count": null,
      "outputs": []
    },
    {
      "cell_type": "code",
      "source": [
        "doctest.testmod(verbose=True)"
      ],
      "metadata": {
        "id": "gEoAQcU8tNMT"
      },
      "execution_count": null,
      "outputs": []
    },
    {
      "cell_type": "markdown",
      "source": [
        "3. Función que comprueba el formato de un email y retorna False si el formato es incorrecto y retorna True si el formato es correcto. Se le pasa como parámetro el email."
      ],
      "metadata": {
        "id": "eN2eXXrhtxVQ"
      }
    },
    {
      "cell_type": "code",
      "source": [
        "def compruebaMail(mailUsuario):\n",
        "    \"\"\"\n",
        "    La función compruebaMail evalúa un mail recibido\n",
        "    en busca de la @. Si tiene una @ es correcto,\n",
        "    si tiene más de una @ es incorrecto\n",
        "    si la @ está la final es incorrecto.\n",
        "\n",
        "    >>> compruebaMail('juan@cursos.es')\n",
        "    True\n",
        "    >>> compruebaMail('juancursos.es@')\n",
        "    False\n",
        "    >>> compruebaMail('juancursos.es')\n",
        "    False\n",
        "    >>> compruebaMail('juan@cursos@.es')\n",
        "    False\n",
        "    \"\"\"\n",
        "    arroba = mailUsuario.count('@')\n",
        "    if arroba !=1 or mailUsuario.rfind('@')==(len(mailUsuario)-1) or mailUsuario.find('@')==0:\n",
        "        return False\n",
        "    else:\n",
        "        return True"
      ],
      "metadata": {
        "id": "V5BgtUzmt8hv"
      },
      "execution_count": null,
      "outputs": []
    },
    {
      "cell_type": "code",
      "source": [
        "doctest.testmod(verbose=True)"
      ],
      "metadata": {
        "id": "jDs6Wls5uAIq"
      },
      "execution_count": null,
      "outputs": []
    },
    {
      "cell_type": "markdown",
      "source": [
        "4. Función que calcula la raíz cuadrada de cada elemento de una lista pasada como parámetros y retorna una lista nueva con los cuadrados de cada elemento."
      ],
      "metadata": {
        "id": "8sxE7PIZuyWE"
      }
    },
    {
      "cell_type": "code",
      "source": [
        "import math"
      ],
      "metadata": {
        "id": "HhcZnjecvRHX"
      },
      "execution_count": null,
      "outputs": []
    },
    {
      "cell_type": "code",
      "source": [
        "def raizCuadrada(ListaNumeros):\n",
        "    \"\"\"\n",
        "    La función devuelve una lista con la raíz\n",
        "    cuadrada con los elementos numérticos\n",
        "    pasados por parámetros en otra lista\n",
        "    >>> lista=[]\n",
        "    >>> for i in [4,9,16]:\n",
        "    ...    lista.append(i)\n",
        "    >>> raizCuadrada(lista)\n",
        "    [2.0, 3.0, 4.0]\n",
        "\n",
        "    >>> lista=[]\n",
        "    >>> for i in [4, -9, 16]:\n",
        "    ...    lista.append(i)\n",
        "    >>> raizCuadrada(lista)\n",
        "    Traceback (most recent call last):\n",
        "        ... \n",
        "    ValueError: math domain error\n",
        "    \"\"\"\n",
        "    return [math.sqrt(n) for n in ListaNumeros]"
      ],
      "metadata": {
        "id": "GbtT2YQZuyIs"
      },
      "execution_count": null,
      "outputs": []
    },
    {
      "cell_type": "code",
      "source": [
        "doctest.testmod(verbose=True)"
      ],
      "metadata": {
        "id": "xjcnMn8RvU8G"
      },
      "execution_count": null,
      "outputs": []
    },
    {
      "cell_type": "markdown",
      "source": [
        "## Unittest\n",
        "Unittest a diferencia de doctest es que debemos usar clases para crear los test y heredar una subclase.\n",
        "Dentro de esta escribimos los métodos que empiencen con test, que serán las pruebas que vamos a ejecutar.\n",
        "Si queremos ejecutar las pruebas debemos llamar el método main() del módulo unittest.\n",
        "\n",
        "\n"
      ],
      "metadata": {
        "id": "tK7T8Bn5w0B6"
      }
    },
    {
      "cell_type": "markdown",
      "source": [
        "### Sintaxis\n",
        "\n",
        "La sintaxis para escribir un test con el módulo Unittest es el siguiente.\n",
        "```\n",
        "import unittest\n",
        "class nombreClase(unittest.TestCase):\n",
        "    def test_metodos(self):\n",
        "          pass\n",
        "    def test_metodos(self):\n",
        "          pass\n",
        "    .\n",
        "    .\n",
        "    .\n",
        "    .\n",
        "\n",
        "unittest.main()\n",
        "```\n",
        "\n"
      ],
      "metadata": {
        "id": "Xo2cRipExnbF"
      }
    },
    {
      "cell_type": "markdown",
      "source": [
        "### Ejemplos"
      ],
      "metadata": {
        "id": "GqRM1t3iyYt4"
      }
    },
    {
      "cell_type": "code",
      "source": [
        "import unittest"
      ],
      "metadata": {
        "id": "190HQ0EoyOcd"
      },
      "execution_count": null,
      "outputs": []
    },
    {
      "cell_type": "markdown",
      "source": [
        "1. Función que calcula el cuadrado de un número mediante un parámetro y retorna el resultado."
      ],
      "metadata": {
        "id": "dLHFALYQygJh"
      }
    },
    {
      "cell_type": "code",
      "source": [
        "def cuadrado(num):\n",
        "    \"\"\"Calcula el cuadrado de un numero.\"\"\"\n",
        "    return num ** 2"
      ],
      "metadata": {
        "id": "PxfzCmucykGV"
      },
      "execution_count": null,
      "outputs": []
    },
    {
      "cell_type": "code",
      "source": [
        "class EjemploPruebas(unittest.TestCase):\n",
        "    def test(self):\n",
        "        l = [0, 1, 2, 3]\n",
        "        r = [cuadrado(n) for n in l]\n",
        "        self.assertEqual(r, [0, 1, 4, 9])"
      ],
      "metadata": {
        "id": "ZNcHxKy8yls1"
      },
      "execution_count": null,
      "outputs": []
    },
    {
      "cell_type": "code",
      "source": [
        "unittest.main()"
      ],
      "metadata": {
        "id": "DDG_BvCLygtJ"
      },
      "execution_count": null,
      "outputs": []
    },
    {
      "cell_type": "markdown",
      "source": [
        "2. Función que calcula el cuadrado de un número mediante un parámetro y retorna el resultado. (Otra versión)"
      ],
      "metadata": {
        "id": "0cmpOVGf4rDg"
      }
    },
    {
      "cell_type": "code",
      "source": [
        "import unittest"
      ],
      "metadata": {
        "id": "vzLdQ1dh41kp"
      },
      "execution_count": null,
      "outputs": []
    },
    {
      "cell_type": "code",
      "source": [
        "def cuadrado(num):\n",
        "    \"\"\"Calcula el cuadrado de un numero.\"\"\"\n",
        "    return num ** 2"
      ],
      "metadata": {
        "id": "LvT3_K4l42rf"
      },
      "execution_count": null,
      "outputs": []
    },
    {
      "cell_type": "code",
      "source": [
        "class EjemploFixture(unittest.TestCase):\n",
        "    def setUp(self): #Método para construir un contexto de prueba.\n",
        "        print(\"Preparando contexto\")\n",
        "        self.lista = [0, 1, 2, 3]\n",
        "    \n",
        "    def test(self):\n",
        "        print(\"Ejecutando prueba\")\n",
        "        r = [cuadrado(n) for n in self.lista]\n",
        "        self.assertEqual(r, [0, 1, 4, 9])\n",
        "    \n",
        "    def tearDown(self): #Método para eliminar el contexto de prueba.\n",
        "        print(\"Descontruyendo contexto\")\n",
        "        del self.lista"
      ],
      "metadata": {
        "id": "JVbgQ6x64w9Z"
      },
      "execution_count": null,
      "outputs": []
    },
    {
      "cell_type": "code",
      "source": [
        "unittest.main()"
      ],
      "metadata": {
        "id": "SYFjyqdb4zbi"
      },
      "execution_count": null,
      "outputs": []
    },
    {
      "cell_type": "markdown",
      "source": [
        "3. Función que calcula la suma de un objeto iterable pasado como parámetro y retorna la suma total."
      ],
      "metadata": {
        "id": "iprpWLoV5Ncx"
      }
    },
    {
      "cell_type": "code",
      "source": [
        "import unittest"
      ],
      "metadata": {
        "id": "iM45Bs9-5h9e"
      },
      "execution_count": null,
      "outputs": []
    },
    {
      "cell_type": "code",
      "source": [
        "def sum_numbers(numbers=None):\n",
        "    if numbers is None:\n",
        "        return sum(range(1,101))\n",
        "    return sum(numbers)"
      ],
      "metadata": {
        "id": "TpZ5yzPj5bI1"
      },
      "execution_count": null,
      "outputs": []
    },
    {
      "cell_type": "code",
      "source": [
        "class TestSum(unittest.TestCase):\n",
        "    def test_sum_numers_default_args(self):\n",
        "        self.assertEqual(sum_numbers(),5050)\n",
        "        self.assertEqual(sum_numbers(numbers=None),5050)\n",
        "    \n",
        "    def test_sum_numers_various_inputs(self):\n",
        "        self.assertEqual(sum_numbers(range(1,11)),55)\n",
        "        self.assertEqual(sum_numbers([1, 2, 3]),6)\n",
        "        self.assertEqual(sum((1, 2, 3)),6)\n",
        "        self.assertEqual(sum_numbers([]),0)"
      ],
      "metadata": {
        "id": "uISXr9lJ5cAT"
      },
      "execution_count": null,
      "outputs": []
    },
    {
      "cell_type": "code",
      "source": [
        "unittest.main()"
      ],
      "metadata": {
        "id": "fW88LMOM5hVN"
      },
      "execution_count": null,
      "outputs": []
    },
    {
      "cell_type": "markdown",
      "source": [
        "# Importante\n",
        "Estos ejemplos son sencillos, no tiene una gran nivel de dificultad, se recomienda para pruebas de alto nivel el módulo unittest.\n",
        "Por último, estos ejemplos se recomienda que se ejecuten por separados en archivos .py, ya que al ejecutarlos en un cuaderno puede causar problemas entre estos módulos.\n",
        "Gracias 🙂!"
      ],
      "metadata": {
        "id": "C3en_yFw5oGD"
      }
    }
  ]
}