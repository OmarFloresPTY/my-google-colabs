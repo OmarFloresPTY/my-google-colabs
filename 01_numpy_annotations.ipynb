{
  "cells": [
    {
      "cell_type": "markdown",
      "metadata": {
        "id": "view-in-github",
        "colab_type": "text"
      },
      "source": [
        "<a href=\"https://colab.research.google.com/github/OmarFloresPTY/my-google-colabs/blob/master/01_numpy_annotations.ipynb\" target=\"_parent\"><img src=\"https://colab.research.google.com/assets/colab-badge.svg\" alt=\"Open In Colab\"/></a>"
      ]
    },
    {
      "cell_type": "code",
      "execution_count": null,
      "id": "1a32ed42",
      "metadata": {
        "id": "1a32ed42"
      },
      "outputs": [],
      "source": [
        "import numpy as np"
      ]
    },
    {
      "cell_type": "code",
      "execution_count": null,
      "id": "97f7c543",
      "metadata": {
        "id": "97f7c543"
      },
      "outputs": [],
      "source": [
        "a = np.array([1,2,3,4]) #Array"
      ]
    },
    {
      "cell_type": "code",
      "execution_count": null,
      "id": "03f1df40",
      "metadata": {
        "id": "03f1df40"
      },
      "outputs": [],
      "source": [
        "lista = [1,2,3,4]"
      ]
    },
    {
      "cell_type": "code",
      "execution_count": null,
      "id": "3f7dc80c",
      "metadata": {
        "id": "3f7dc80c",
        "outputId": "ecb0a39a-d37e-4259-a6d1-3d22cd685c67"
      },
      "outputs": [
        {
          "data": {
            "text/plain": [
              "array([1, 2, 3, 4])"
            ]
          },
          "execution_count": 8,
          "metadata": {},
          "output_type": "execute_result"
        }
      ],
      "source": [
        "a"
      ]
    },
    {
      "cell_type": "code",
      "execution_count": null,
      "id": "d377ae49",
      "metadata": {
        "scrolled": false,
        "id": "d377ae49"
      },
      "outputs": [],
      "source": [
        "b = np.array([[1,2,3,4],[1,2,3,4]])"
      ]
    },
    {
      "cell_type": "code",
      "execution_count": null,
      "id": "74cabc27",
      "metadata": {
        "id": "74cabc27",
        "outputId": "e0a5ca0f-1caa-4af8-b75a-fc968f018218"
      },
      "outputs": [
        {
          "data": {
            "text/plain": [
              "array([[1, 2, 3, 4],\n",
              "       [1, 2, 3, 4]])"
            ]
          },
          "execution_count": 10,
          "metadata": {},
          "output_type": "execute_result"
        }
      ],
      "source": [
        "b"
      ]
    },
    {
      "cell_type": "code",
      "execution_count": null,
      "id": "7ececbea",
      "metadata": {
        "id": "7ececbea",
        "outputId": "3764209c-7a21-44d8-c170-ed0bdab5e6f7"
      },
      "outputs": [
        {
          "data": {
            "text/plain": [
              "4"
            ]
          },
          "execution_count": 11,
          "metadata": {},
          "output_type": "execute_result"
        }
      ],
      "source": [
        "a[2]\n",
        "a[0]+a[2] #0 + 3"
      ]
    },
    {
      "cell_type": "code",
      "execution_count": null,
      "id": "2f51b4b3",
      "metadata": {
        "id": "2f51b4b3",
        "outputId": "81294717-9b06-4bee-f742-1334f48291e4"
      },
      "outputs": [
        {
          "data": {
            "text/plain": [
              "array([2, 3, 4])"
            ]
          },
          "execution_count": 12,
          "metadata": {},
          "output_type": "execute_result"
        }
      ],
      "source": [
        "b[1]\n",
        "b[1][2]\n",
        "b[1][1:]"
      ]
    },
    {
      "cell_type": "markdown",
      "id": "9b44c61f",
      "metadata": {
        "id": "9b44c61f"
      },
      "source": [
        "# Cómo crear una matriz básica"
      ]
    },
    {
      "cell_type": "markdown",
      "id": "6c1b4cfe",
      "metadata": {
        "id": "6c1b4cfe"
      },
      "source": [
        "<img src=\"https://numpy.org/doc/stable/_images/np_array.png\">"
      ]
    },
    {
      "cell_type": "code",
      "execution_count": null,
      "id": "c2c1df24",
      "metadata": {
        "id": "c2c1df24"
      },
      "outputs": [],
      "source": [
        "a = np.array([1,2,3])"
      ]
    },
    {
      "cell_type": "code",
      "execution_count": null,
      "id": "31c85ca7",
      "metadata": {
        "id": "31c85ca7",
        "outputId": "9cd4f065-c029-48db-da37-3e2097d08f9b"
      },
      "outputs": [
        {
          "data": {
            "text/plain": [
              "array([[[0., 0., 0.],\n",
              "        [0., 0., 0.]],\n",
              "\n",
              "       [[0., 0., 0.],\n",
              "        [0., 0., 0.]],\n",
              "\n",
              "       [[0., 0., 0.],\n",
              "        [0., 0., 0.]],\n",
              "\n",
              "       [[0., 0., 0.],\n",
              "        [0., 0., 0.]],\n",
              "\n",
              "       [[0., 0., 0.],\n",
              "        [0., 0., 0.]]])"
            ]
          },
          "execution_count": 18,
          "metadata": {},
          "output_type": "execute_result"
        }
      ],
      "source": [
        "#np.zeros(2) #Crear Array de ceros\n",
        "#np.zeros(5)\n",
        "#np.zeros((5,2)) #Crear matriz de ceros\n",
        "np.zeros((5,2,3)) #Crear tensor de ceros"
      ]
    },
    {
      "cell_type": "code",
      "execution_count": null,
      "id": "8c2500bc",
      "metadata": {
        "id": "8c2500bc",
        "outputId": "cd4d47dd-9184-4eb9-8aa6-62676c9bbae7"
      },
      "outputs": [
        {
          "data": {
            "text/plain": [
              "array([[[1., 1.],\n",
              "        [1., 1.]],\n",
              "\n",
              "       [[1., 1.],\n",
              "        [1., 1.]]])"
            ]
          },
          "execution_count": 23,
          "metadata": {},
          "output_type": "execute_result"
        }
      ],
      "source": [
        "#np.ones(2)#Crear Array de 1`s\n",
        "#np.ones((2,2)) #Crear Matriz de 1`s\n",
        "np.ones((2,2,2)) #Crear Tensor de 1`s"
      ]
    },
    {
      "cell_type": "code",
      "execution_count": null,
      "id": "f05913a8",
      "metadata": {
        "id": "f05913a8",
        "outputId": "a4d03c8c-7c31-4610-df54-2c88bd65512b"
      },
      "outputs": [
        {
          "data": {
            "text/plain": [
              "array([5. , 5.5, 6. , 6.5, 7. , 7.5, 8. , 8.5, 9. , 9.5])"
            ]
          },
          "execution_count": 31,
          "metadata": {},
          "output_type": "execute_result"
        }
      ],
      "source": [
        "#np.arange(4) #Solo crea arreglos UNIDEMSIONAL\n",
        "#np.arange(5,10) #Rango inicial y final\n",
        "np.arange(5,10,0.5) #Rango inicial, final y pasos."
      ]
    },
    {
      "cell_type": "code",
      "execution_count": null,
      "id": "6f0b2c52",
      "metadata": {
        "id": "6f0b2c52"
      },
      "outputs": [],
      "source": [
        "arr = np.arange(5,20,5)"
      ]
    },
    {
      "cell_type": "code",
      "execution_count": null,
      "id": "4f474e02",
      "metadata": {
        "id": "4f474e02",
        "outputId": "ef35d595-162b-47de-e872-7358f3d383ef"
      },
      "outputs": [
        {
          "data": {
            "text/plain": [
              "dtype('float32')"
            ]
          },
          "execution_count": 35,
          "metadata": {},
          "output_type": "execute_result"
        }
      ],
      "source": [
        "arr.dtype"
      ]
    },
    {
      "cell_type": "code",
      "execution_count": null,
      "id": "3fa5457f",
      "metadata": {
        "id": "3fa5457f"
      },
      "outputs": [],
      "source": [
        "arr = np.arange(5,20,5,dtype=\"float32\") #Convertir de int a float"
      ]
    },
    {
      "cell_type": "code",
      "execution_count": null,
      "id": "21e8412e",
      "metadata": {
        "id": "21e8412e",
        "outputId": "fbb37222-128d-442f-fd3e-cc33abc4a5c5"
      },
      "outputs": [
        {
          "data": {
            "text/plain": [
              "array([ 5., 10., 15.], dtype=float32)"
            ]
          },
          "execution_count": 36,
          "metadata": {},
          "output_type": "execute_result"
        }
      ],
      "source": [
        "arr"
      ]
    },
    {
      "cell_type": "code",
      "execution_count": null,
      "id": "0683b03f",
      "metadata": {
        "id": "0683b03f"
      },
      "outputs": [],
      "source": [
        "arr = np.array([1.33,14.233,123.44])"
      ]
    },
    {
      "cell_type": "code",
      "execution_count": null,
      "id": "3afb3f20",
      "metadata": {
        "id": "3afb3f20",
        "outputId": "0436c7f7-d53e-4f4d-db7d-0d5394f74b45"
      },
      "outputs": [
        {
          "data": {
            "text/plain": [
              "dtype('float64')"
            ]
          },
          "execution_count": 44,
          "metadata": {},
          "output_type": "execute_result"
        }
      ],
      "source": [
        "arr.dtype"
      ]
    },
    {
      "cell_type": "code",
      "execution_count": null,
      "id": "1cb2ddc8",
      "metadata": {
        "id": "1cb2ddc8",
        "outputId": "3c21db35-3194-4398-991e-a4970cf03c67"
      },
      "outputs": [
        {
          "data": {
            "text/plain": [
              "array([  1.33 ,  14.233, 123.44 ])"
            ]
          },
          "execution_count": 45,
          "metadata": {},
          "output_type": "execute_result"
        }
      ],
      "source": [
        "arr"
      ]
    },
    {
      "cell_type": "code",
      "execution_count": null,
      "id": "f4a0ffbb",
      "metadata": {
        "id": "f4a0ffbb"
      },
      "outputs": [],
      "source": [
        "arr = np.array(arr,dtype=\"int32\") #Convertir de float a int"
      ]
    },
    {
      "cell_type": "code",
      "execution_count": null,
      "id": "05bb047c",
      "metadata": {
        "id": "05bb047c",
        "outputId": "6ea4d4c7-8966-4a8e-96ab-cea9de436aca"
      },
      "outputs": [
        {
          "data": {
            "text/plain": [
              "array([  1,  14, 123])"
            ]
          },
          "execution_count": 48,
          "metadata": {},
          "output_type": "execute_result"
        }
      ],
      "source": [
        "arr"
      ]
    },
    {
      "cell_type": "code",
      "execution_count": null,
      "id": "d67a80ac",
      "metadata": {
        "id": "d67a80ac"
      },
      "outputs": [],
      "source": [
        "string_array = np.array(['23.32','23.122','544.22'])"
      ]
    },
    {
      "cell_type": "code",
      "execution_count": null,
      "id": "fd9fda22",
      "metadata": {
        "id": "fd9fda22",
        "outputId": "50aef315-66ae-4223-d915-3f7443ef5a3d"
      },
      "outputs": [
        {
          "data": {
            "text/plain": [
              "array([ 23.32 ,  23.122, 544.22 ], dtype=float32)"
            ]
          },
          "execution_count": 52,
          "metadata": {},
          "output_type": "execute_result"
        }
      ],
      "source": [
        "string_array"
      ]
    },
    {
      "cell_type": "code",
      "execution_count": null,
      "id": "38c49a7a",
      "metadata": {
        "id": "38c49a7a"
      },
      "outputs": [],
      "source": [
        "string_array = np.array(string_array,dtype=\"float32\") #Convertir de string a float"
      ]
    },
    {
      "cell_type": "markdown",
      "id": "156bb295",
      "metadata": {
        "id": "156bb295"
      },
      "source": [
        "## Linspace vs Arange (UNIDEMENSIONAL)"
      ]
    },
    {
      "cell_type": "code",
      "execution_count": null,
      "id": "645eb0ef",
      "metadata": {
        "id": "645eb0ef",
        "outputId": "6878cc26-35ca-4cb1-a7bf-73d4e2192cad"
      },
      "outputs": [
        {
          "data": {
            "text/plain": [
              "array([ 0.        ,  0.52631579,  1.05263158,  1.57894737,  2.10526316,\n",
              "        2.63157895,  3.15789474,  3.68421053,  4.21052632,  4.73684211,\n",
              "        5.26315789,  5.78947368,  6.31578947,  6.84210526,  7.36842105,\n",
              "        7.89473684,  8.42105263,  8.94736842,  9.47368421, 10.        ])"
            ]
          },
          "execution_count": 59,
          "metadata": {},
          "output_type": "execute_result"
        }
      ],
      "source": [
        "np.linspace(0,10,num=20) #indica en CUANTOS ELEMENTOS queremos llegar al límite superior"
      ]
    },
    {
      "cell_type": "code",
      "execution_count": null,
      "id": "8b610bae",
      "metadata": {
        "scrolled": false,
        "id": "8b610bae",
        "outputId": "604ad592-5ef0-44b1-8c50-65d2559b1136"
      },
      "outputs": [
        {
          "data": {
            "text/plain": [
              "array([0. , 0.5, 1. , 1.5, 2. , 2.5, 3. , 3.5, 4. , 4.5, 5. , 5.5, 6. ,\n",
              "       6.5, 7. , 7.5, 8. , 8.5, 9. , 9.5])"
            ]
          },
          "execution_count": 56,
          "metadata": {},
          "output_type": "execute_result"
        }
      ],
      "source": [
        "np.arange(0,10,0.5) #indica de CUANTO EN CUANTO queremos llegar al límite superior."
      ]
    },
    {
      "cell_type": "markdown",
      "id": "4b321fba",
      "metadata": {
        "id": "4b321fba"
      },
      "source": [
        "## Adición, eliminación y clasificación de elementos"
      ]
    },
    {
      "cell_type": "code",
      "execution_count": null,
      "id": "9a013b47",
      "metadata": {
        "id": "9a013b47"
      },
      "outputs": [],
      "source": [
        "arr = np.array([2,1,5,3,7,4,6,8])"
      ]
    },
    {
      "cell_type": "code",
      "execution_count": null,
      "id": "e76f7083",
      "metadata": {
        "id": "e76f7083",
        "outputId": "37d133a6-e87f-4b0c-bc6b-13638632a066"
      },
      "outputs": [
        {
          "data": {
            "text/plain": [
              "array([2, 1, 5, 3, 7, 4, 6, 8])"
            ]
          },
          "execution_count": 61,
          "metadata": {},
          "output_type": "execute_result"
        }
      ],
      "source": [
        "arr"
      ]
    },
    {
      "cell_type": "code",
      "execution_count": null,
      "id": "8b4e8c81",
      "metadata": {
        "id": "8b4e8c81",
        "outputId": "742428d5-db46-4ecb-d130-35698e5a6f64"
      },
      "outputs": [
        {
          "data": {
            "text/plain": [
              "array([1, 2, 3, 4, 5, 6, 7, 8])"
            ]
          },
          "execution_count": 62,
          "metadata": {},
          "output_type": "execute_result"
        }
      ],
      "source": [
        "np.sort(arr) #Ordena el array de asc"
      ]
    },
    {
      "cell_type": "code",
      "execution_count": null,
      "id": "2f7e8f89",
      "metadata": {
        "id": "2f7e8f89",
        "outputId": "3f420697-c42d-4b62-af22-0da658d14525"
      },
      "outputs": [
        {
          "data": {
            "text/plain": [
              "array([1, 2, 3, 4, 5, 6, 7, 8])"
            ]
          },
          "execution_count": 66,
          "metadata": {},
          "output_type": "execute_result"
        }
      ],
      "source": [
        "np.sort(arr)"
      ]
    },
    {
      "cell_type": "code",
      "execution_count": null,
      "id": "0ddde0cb",
      "metadata": {
        "id": "0ddde0cb"
      },
      "outputs": [],
      "source": [
        "matriz = np.array([[10,50,30],[30,40,20]])"
      ]
    },
    {
      "cell_type": "code",
      "execution_count": null,
      "id": "35c6d564",
      "metadata": {
        "id": "35c6d564",
        "outputId": "931498e3-af45-4fe4-adb0-7b728cb83c98"
      },
      "outputs": [
        {
          "data": {
            "text/plain": [
              "array([[10, 40, 20],\n",
              "       [30, 50, 30]])"
            ]
          },
          "execution_count": 84,
          "metadata": {},
          "output_type": "execute_result"
        }
      ],
      "source": [
        "matriz"
      ]
    },
    {
      "cell_type": "code",
      "execution_count": null,
      "id": "a7d26aed",
      "metadata": {
        "id": "a7d26aed"
      },
      "outputs": [],
      "source": [
        "matriz = np.sort(matriz,axis=0) #Cuando se agrega el axis, nos permite ordenar por columnas."
      ]
    },
    {
      "cell_type": "code",
      "execution_count": null,
      "id": "6753031d",
      "metadata": {
        "id": "6753031d"
      },
      "outputs": [],
      "source": [
        "a = np.array([1,2,3,4])\n",
        "b = np.array([5,6,7,8])"
      ]
    },
    {
      "cell_type": "code",
      "execution_count": null,
      "id": "13fb47b6",
      "metadata": {
        "id": "13fb47b6",
        "outputId": "5d9803d9-251b-43ae-8e63-6cd0d9f6e8bd"
      },
      "outputs": [
        {
          "data": {
            "text/plain": [
              "array([1, 2, 3, 4, 5, 6, 7, 8])"
            ]
          },
          "execution_count": 86,
          "metadata": {},
          "output_type": "execute_result"
        }
      ],
      "source": [
        "np.concatenate((a,b)) #Concatena arrays"
      ]
    },
    {
      "cell_type": "code",
      "execution_count": null,
      "id": "00460b86",
      "metadata": {
        "id": "00460b86"
      },
      "outputs": [],
      "source": [
        "matriz_a = np.array([[1,2,3],[4,5,9]])"
      ]
    },
    {
      "cell_type": "code",
      "execution_count": null,
      "id": "966fefca",
      "metadata": {
        "id": "966fefca"
      },
      "outputs": [],
      "source": [
        "matriz_b = np.array([[11,22,12],[44,55,44]])"
      ]
    },
    {
      "cell_type": "code",
      "execution_count": null,
      "id": "493d021a",
      "metadata": {
        "scrolled": true,
        "id": "493d021a",
        "outputId": "f7297f9c-b45e-4695-feef-f71b34ca899a"
      },
      "outputs": [
        {
          "data": {
            "text/plain": [
              "array([[ 1,  2,  3, 11, 22, 12],\n",
              "       [ 4,  5,  9, 44, 55, 44]])"
            ]
          },
          "execution_count": 122,
          "metadata": {},
          "output_type": "execute_result"
        }
      ],
      "source": [
        "#np.concatenate((matriz_a,matriz_b)) #Por default se concatenan las columnas\n",
        "np.concatenate((matriz_a,matriz_b),axis=1) #Se concatenan las filas si se le especifica"
      ]
    },
    {
      "cell_type": "markdown",
      "id": "fe427c6a",
      "metadata": {
        "id": "fe427c6a"
      },
      "source": [
        "## ¿Cómo sabes la forma y el tamaño de una matriz?"
      ]
    },
    {
      "cell_type": "code",
      "execution_count": null,
      "id": "5878c361",
      "metadata": {
        "id": "5878c361"
      },
      "outputs": [],
      "source": [
        "array_example = np.array([[[0, 1, 2, 3],\n",
        "                           [4, 5, 6, 7]],\n",
        "\n",
        "                          [[0, 1, 2, 3],\n",
        "                           [4, 5, 6, 7]],\n",
        "\n",
        "                          [[0 ,1 ,2, 3],\n",
        "                           [4, 5, 6, 7]]])"
      ]
    },
    {
      "cell_type": "code",
      "execution_count": null,
      "id": "9c80bdeb",
      "metadata": {
        "id": "9c80bdeb",
        "outputId": "8638312f-b1ef-47ff-a64f-5bf32b7804d4"
      },
      "outputs": [
        {
          "data": {
            "text/plain": [
              "3"
            ]
          },
          "execution_count": 131,
          "metadata": {},
          "output_type": "execute_result"
        }
      ],
      "source": [
        "array_example.ndim #Sabemos la dimensión de la matriz"
      ]
    },
    {
      "cell_type": "code",
      "execution_count": null,
      "id": "ce0cacf4",
      "metadata": {
        "id": "ce0cacf4",
        "outputId": "d4a2f805-503c-4e29-edda-23da37e217ea"
      },
      "outputs": [
        {
          "data": {
            "text/plain": [
              "24"
            ]
          },
          "execution_count": 132,
          "metadata": {},
          "output_type": "execute_result"
        }
      ],
      "source": [
        "array_example.size #Sabemos cuantos elementos tiene la matriz"
      ]
    },
    {
      "cell_type": "code",
      "execution_count": null,
      "id": "ecff7e97",
      "metadata": {
        "id": "ecff7e97",
        "outputId": "ce466611-16df-4757-d303-6326c03ac974"
      },
      "outputs": [
        {
          "data": {
            "text/plain": [
              "(3, 2, 4)"
            ]
          },
          "execution_count": 133,
          "metadata": {},
          "output_type": "execute_result"
        }
      ],
      "source": [
        "array_example.shape #Sabemo la forma de la matriz"
      ]
    },
    {
      "cell_type": "markdown",
      "id": "5934567f",
      "metadata": {
        "id": "5934567f"
      },
      "source": [
        "## ¿Puedes remodelar una matriz?"
      ]
    },
    {
      "cell_type": "code",
      "execution_count": null,
      "id": "0d37398f",
      "metadata": {
        "id": "0d37398f"
      },
      "outputs": [],
      "source": [
        "matriz = np.array([np.arange(1,10),np.arange(21,30)])"
      ]
    },
    {
      "cell_type": "code",
      "execution_count": null,
      "id": "e429d990",
      "metadata": {
        "id": "e429d990",
        "outputId": "a7d7cc84-28cd-4d94-f5ba-ac8af513c0d8"
      },
      "outputs": [
        {
          "data": {
            "text/plain": [
              "array([[ 1,  2,  3,  4,  5,  6,  7,  8,  9],\n",
              "       [21, 22, 23, 24, 25, 26, 27, 28, 29]])"
            ]
          },
          "execution_count": 141,
          "metadata": {},
          "output_type": "execute_result"
        }
      ],
      "source": [
        "matriz"
      ]
    },
    {
      "cell_type": "code",
      "execution_count": null,
      "id": "fb6b283f",
      "metadata": {
        "id": "fb6b283f",
        "outputId": "14c17d6e-2c7c-42ca-88dd-a8257e85e088"
      },
      "outputs": [
        {
          "data": {
            "text/plain": [
              "(2, 9)"
            ]
          },
          "execution_count": 143,
          "metadata": {},
          "output_type": "execute_result"
        }
      ],
      "source": [
        "matriz.shape"
      ]
    },
    {
      "cell_type": "code",
      "execution_count": null,
      "id": "d7378ac2",
      "metadata": {
        "id": "d7378ac2",
        "outputId": "21ed55a4-f066-4fa0-c358-b3dd28b801b3"
      },
      "outputs": [
        {
          "data": {
            "text/plain": [
              "(9, 2)"
            ]
          },
          "execution_count": 145,
          "metadata": {},
          "output_type": "execute_result"
        }
      ],
      "source": [
        "matriz.T.shape #Matriz Transpuesta"
      ]
    },
    {
      "cell_type": "code",
      "execution_count": null,
      "id": "4d32c3e8",
      "metadata": {
        "id": "4d32c3e8",
        "outputId": "bca0b022-3a02-469e-c6d2-2f90e880e8fb"
      },
      "outputs": [
        {
          "data": {
            "text/plain": [
              "(6, 3)"
            ]
          },
          "execution_count": 152,
          "metadata": {},
          "output_type": "execute_result"
        }
      ],
      "source": [
        "matriz.reshape(6,3).shape"
      ]
    },
    {
      "cell_type": "code",
      "execution_count": null,
      "id": "e681a3ce",
      "metadata": {
        "id": "e681a3ce",
        "outputId": "f2661577-101c-4e6a-d9d7-7d64efbde2de"
      },
      "outputs": [
        {
          "data": {
            "text/plain": [
              "array([[ 1,  2,  3],\n",
              "       [ 4,  5,  6],\n",
              "       [ 7,  8,  9],\n",
              "       [21, 22, 23],\n",
              "       [24, 25, 26],\n",
              "       [27, 28, 29]])"
            ]
          },
          "execution_count": 149,
          "metadata": {},
          "output_type": "execute_result"
        }
      ],
      "source": [
        "matriz.reshape(6,3) #Remodela la matriz."
      ]
    },
    {
      "cell_type": "code",
      "execution_count": null,
      "id": "7bc09f25",
      "metadata": {
        "id": "7bc09f25",
        "outputId": "57c8c87f-2e81-42a8-b0af-b61981f73e8c"
      },
      "outputs": [
        {
          "data": {
            "text/plain": [
              "array([[ 1,  2,  3,  4,  5,  6],\n",
              "       [ 7,  8,  9, 21, 22, 23],\n",
              "       [24, 25, 26, 27, 28, 29]])"
            ]
          },
          "execution_count": 150,
          "metadata": {},
          "output_type": "execute_result"
        }
      ],
      "source": [
        "matriz.reshape(3,6)"
      ]
    },
    {
      "cell_type": "markdown",
      "id": "29f05345",
      "metadata": {
        "id": "29f05345"
      },
      "source": [
        "## Cómo convertir una matriz 1D en una matriz 2D"
      ]
    },
    {
      "cell_type": "code",
      "execution_count": null,
      "id": "c36ff67b",
      "metadata": {
        "id": "c36ff67b",
        "outputId": "9fe84523-2ae7-4094-fb8e-134ee30d2aeb"
      },
      "outputs": [
        {
          "data": {
            "text/plain": [
              "(6,)"
            ]
          },
          "execution_count": 154,
          "metadata": {},
          "output_type": "execute_result"
        }
      ],
      "source": [
        "a = np.array([1,2,3,4,5,6])\n",
        "a.shape"
      ]
    },
    {
      "cell_type": "code",
      "execution_count": null,
      "id": "df25f64d",
      "metadata": {
        "id": "df25f64d"
      },
      "outputs": [],
      "source": [
        "a2 = a[np.newaxis,:] #Le agrega solo una dimensión a nivel de fila."
      ]
    },
    {
      "cell_type": "code",
      "execution_count": null,
      "id": "653989d9",
      "metadata": {
        "id": "653989d9"
      },
      "outputs": [],
      "source": [
        "a2 = a[:,np.newaxis] #Le agrega solo una dimensión a nivel de columna."
      ]
    },
    {
      "cell_type": "code",
      "execution_count": null,
      "id": "2143bbb9",
      "metadata": {
        "id": "2143bbb9",
        "outputId": "8d52846b-056c-49e3-fa21-931ba9a28dee"
      },
      "outputs": [
        {
          "data": {
            "text/plain": [
              "(6, 1)"
            ]
          },
          "execution_count": 159,
          "metadata": {},
          "output_type": "execute_result"
        }
      ],
      "source": [
        "a2.shape"
      ]
    },
    {
      "cell_type": "code",
      "execution_count": null,
      "id": "147a78b7",
      "metadata": {
        "id": "147a78b7",
        "outputId": "cd919990-55f9-467a-b032-25c38e47f5e2"
      },
      "outputs": [
        {
          "data": {
            "text/plain": [
              "array([[1],\n",
              "       [2],\n",
              "       [3],\n",
              "       [4],\n",
              "       [5],\n",
              "       [6]])"
            ]
          },
          "execution_count": 160,
          "metadata": {},
          "output_type": "execute_result"
        }
      ],
      "source": [
        "a2"
      ]
    },
    {
      "cell_type": "code",
      "execution_count": null,
      "id": "fb9a4470",
      "metadata": {
        "id": "fb9a4470"
      },
      "outputs": [],
      "source": [
        "a = np.array([1,2,3,4,5,6])"
      ]
    },
    {
      "cell_type": "code",
      "execution_count": null,
      "id": "1628c0e8",
      "metadata": {
        "id": "1628c0e8",
        "outputId": "a4bc5d0f-05e9-4ef8-9fc7-5ecadde6e68b"
      },
      "outputs": [
        {
          "data": {
            "text/plain": [
              "(6,)"
            ]
          },
          "execution_count": 162,
          "metadata": {},
          "output_type": "execute_result"
        }
      ],
      "source": [
        "a.shape"
      ]
    },
    {
      "cell_type": "code",
      "execution_count": null,
      "id": "79571bcf",
      "metadata": {
        "id": "79571bcf",
        "outputId": "084e29bd-fcff-44e0-817d-463f2c412442"
      },
      "outputs": [
        {
          "data": {
            "text/plain": [
              "array([[1],\n",
              "       [2],\n",
              "       [3],\n",
              "       [4],\n",
              "       [5],\n",
              "       [6]])"
            ]
          },
          "execution_count": 163,
          "metadata": {},
          "output_type": "execute_result"
        }
      ],
      "source": [
        "b = np.expand_dims(a, axis=1)\n",
        "b"
      ]
    },
    {
      "cell_type": "code",
      "execution_count": null,
      "id": "29e77d7d",
      "metadata": {
        "id": "29e77d7d",
        "outputId": "11cfb22a-e730-431c-d4bc-62a922e12388"
      },
      "outputs": [
        {
          "data": {
            "text/plain": [
              "array([[[1]],\n",
              "\n",
              "       [[2]],\n",
              "\n",
              "       [[3]],\n",
              "\n",
              "       [[4]],\n",
              "\n",
              "       [[5]],\n",
              "\n",
              "       [[6]]])"
            ]
          },
          "execution_count": 173,
          "metadata": {},
          "output_type": "execute_result"
        }
      ],
      "source": [
        "z = np.expand_dims(b,axis=1)\n",
        "z"
      ]
    },
    {
      "cell_type": "code",
      "execution_count": null,
      "id": "04afd0a3",
      "metadata": {
        "id": "04afd0a3",
        "outputId": "d8325683-7845-424b-f00e-79bdb872ad6c"
      },
      "outputs": [
        {
          "data": {
            "text/plain": [
              "(6, 1, 1)"
            ]
          },
          "execution_count": 174,
          "metadata": {},
          "output_type": "execute_result"
        }
      ],
      "source": [
        "z.shape"
      ]
    },
    {
      "cell_type": "code",
      "execution_count": null,
      "id": "6c0e26dc",
      "metadata": {
        "id": "6c0e26dc",
        "outputId": "995ebbef-757f-4dfa-ff73-fa794f3c2aae"
      },
      "outputs": [
        {
          "data": {
            "text/plain": [
              "array([[1, 2, 3, 4, 5, 6]])"
            ]
          },
          "execution_count": 164,
          "metadata": {},
          "output_type": "execute_result"
        }
      ],
      "source": [
        "c = np.expand_dims(a,axis=0)#Muy similar al np.newaxis\n",
        "c"
      ]
    },
    {
      "cell_type": "markdown",
      "id": "6599347f",
      "metadata": {
        "id": "6599347f"
      },
      "source": [
        "### Operadores Lógicos con Numpy"
      ]
    },
    {
      "cell_type": "code",
      "execution_count": null,
      "id": "7dffa385",
      "metadata": {
        "id": "7dffa385"
      },
      "outputs": [],
      "source": [
        "lista = [1,2,3,4,5,6]"
      ]
    },
    {
      "cell_type": "code",
      "execution_count": null,
      "id": "22a00c4e",
      "metadata": {
        "scrolled": true,
        "id": "22a00c4e",
        "outputId": "52ba5dd5-2af7-41a2-cf38-523dd9d3fc65"
      },
      "outputs": [
        {
          "ename": "TypeError",
          "evalue": "'>' not supported between instances of 'list' and 'int'",
          "output_type": "error",
          "traceback": [
            "\u001b[1;31m---------------------------------------------------------------------------\u001b[0m",
            "\u001b[1;31mTypeError\u001b[0m                                 Traceback (most recent call last)",
            "Cell \u001b[1;32mIn[183], line 1\u001b[0m\n\u001b[1;32m----> 1\u001b[0m lista[\u001b[43mlista\u001b[49m\u001b[43m \u001b[49m\u001b[38;5;241;43m>\u001b[39;49m\u001b[43m \u001b[49m\u001b[38;5;241;43m4\u001b[39;49m]\n",
            "\u001b[1;31mTypeError\u001b[0m: '>' not supported between instances of 'list' and 'int'"
          ]
        }
      ],
      "source": [
        "lista[lista > 4] #En listas no es posible, experimento interesante."
      ]
    },
    {
      "cell_type": "code",
      "execution_count": null,
      "id": "bdcfa064",
      "metadata": {
        "id": "bdcfa064"
      },
      "outputs": [],
      "source": [
        "arr = np.array(lista)"
      ]
    },
    {
      "cell_type": "code",
      "execution_count": null,
      "id": "4d33fc56",
      "metadata": {
        "id": "4d33fc56",
        "outputId": "1f7c1787-cdc3-4535-b823-4fcad5600d95"
      },
      "outputs": [
        {
          "data": {
            "text/plain": [
              "array([5, 6])"
            ]
          },
          "execution_count": 185,
          "metadata": {},
          "output_type": "execute_result"
        }
      ],
      "source": [
        "arr[arr>4]"
      ]
    },
    {
      "cell_type": "code",
      "execution_count": null,
      "id": "21875119",
      "metadata": {
        "id": "21875119"
      },
      "outputs": [],
      "source": [
        "a = np.array([[1 , 2, 3, 4], [5, 6, 7, 8], [9, 10, 11, 12]])"
      ]
    },
    {
      "cell_type": "code",
      "execution_count": null,
      "id": "ca981cef",
      "metadata": {
        "id": "ca981cef",
        "outputId": "101a9c91-d255-453c-f84e-6a64e4c64c5a"
      },
      "outputs": [
        {
          "data": {
            "text/plain": [
              "array([[ 1,  2,  3,  4],\n",
              "       [ 5,  6,  7,  8],\n",
              "       [ 9, 10, 11, 12]])"
            ]
          },
          "execution_count": 208,
          "metadata": {},
          "output_type": "execute_result"
        }
      ],
      "source": [
        "a"
      ]
    },
    {
      "cell_type": "markdown",
      "id": "94912ffc",
      "metadata": {
        "id": "94912ffc"
      },
      "source": [
        "Filtrar: De esta forma podemos filtar datos que cumplan con esa condición"
      ]
    },
    {
      "cell_type": "code",
      "execution_count": null,
      "id": "64e5d964",
      "metadata": {
        "scrolled": true,
        "id": "64e5d964",
        "outputId": "5701e5cb-8f49-41a6-f783-f1905aa1be16"
      },
      "outputs": [
        {
          "data": {
            "text/plain": [
              "array([ 8, 10, 12])"
            ]
          },
          "execution_count": 195,
          "metadata": {},
          "output_type": "execute_result"
        }
      ],
      "source": [
        "#a[a%2==0] #Numeros pares\n",
        "a[(a>6) & (a%2==0)] #Numeros pares y que sean mayores que 6.   & para and y | para or"
      ]
    },
    {
      "cell_type": "code",
      "execution_count": null,
      "id": "d31ec1a5",
      "metadata": {
        "id": "d31ec1a5",
        "outputId": "c613baa4-7c0e-4ccb-84a5-de6a3cddef35"
      },
      "outputs": [
        {
          "data": {
            "text/plain": [
              "(array([0, 0, 0], dtype=int64), array([0, 1, 2], dtype=int64))"
            ]
          },
          "execution_count": 210,
          "metadata": {},
          "output_type": "execute_result"
        }
      ],
      "source": [
        "#El resultado son los indices de los elementos que cumplen con esa condición\n",
        "np.nonzero(a<4) #La primera matriz representa los índices de las filas y la segunda representa los índices de las columnas que cumplen con esa condición"
      ]
    },
    {
      "cell_type": "code",
      "execution_count": null,
      "id": "4ed5b9cb",
      "metadata": {
        "id": "4ed5b9cb"
      },
      "outputs": [],
      "source": [
        "b = np.nonzero(a<4)"
      ]
    },
    {
      "cell_type": "code",
      "execution_count": null,
      "id": "32d7a3c0",
      "metadata": {
        "id": "32d7a3c0"
      },
      "outputs": [],
      "source": [
        "lista_coordenadas = list(zip(b[0],b[1])) #Una forma de unir las coordenadas"
      ]
    },
    {
      "cell_type": "code",
      "execution_count": null,
      "id": "ce19c4c6",
      "metadata": {
        "id": "ce19c4c6",
        "outputId": "e614e7f5-bacc-47bb-a450-708cdf493a58"
      },
      "outputs": [
        {
          "data": {
            "text/plain": [
              "[(0, 0), (0, 1), (0, 2)]"
            ]
          },
          "execution_count": 216,
          "metadata": {},
          "output_type": "execute_result"
        }
      ],
      "source": [
        "lista_coordenadas"
      ]
    },
    {
      "cell_type": "markdown",
      "id": "0156a1e5",
      "metadata": {
        "id": "0156a1e5"
      },
      "source": [
        "Comprobar: De esta forma podemos comprobar que elemento cumple con esa condición"
      ]
    },
    {
      "cell_type": "code",
      "execution_count": null,
      "id": "44c6b656",
      "metadata": {
        "id": "44c6b656",
        "outputId": "94402158-d378-4d46-aa1f-fa90eaabd6a9"
      },
      "outputs": [
        {
          "data": {
            "text/plain": [
              "array([[ 1,  2,  3,  4],\n",
              "       [ 5,  6,  7,  8],\n",
              "       [ 9, 10, 11, 12]])"
            ]
          },
          "execution_count": 202,
          "metadata": {},
          "output_type": "execute_result"
        }
      ],
      "source": [
        "a"
      ]
    },
    {
      "cell_type": "code",
      "execution_count": null,
      "id": "eacb1340",
      "metadata": {
        "id": "eacb1340",
        "outputId": "86301709-e150-46f2-895c-e88c20250a89"
      },
      "outputs": [
        {
          "data": {
            "text/plain": [
              "array([[False,  True, False,  True],\n",
              "       [False,  True, False,  True],\n",
              "       [False,  True, False,  True]])"
            ]
          },
          "execution_count": 196,
          "metadata": {},
          "output_type": "execute_result"
        }
      ],
      "source": [
        "a % 2 == 0"
      ]
    },
    {
      "cell_type": "code",
      "execution_count": null,
      "id": "d727ebe7",
      "metadata": {
        "id": "d727ebe7",
        "outputId": "7d5ded8a-702f-4297-bfac-166a5966d35d"
      },
      "outputs": [
        {
          "data": {
            "text/plain": [
              "array([[False, False, False, False],\n",
              "       [False,  True, False,  True],\n",
              "       [False,  True, False,  True]])"
            ]
          },
          "execution_count": 201,
          "metadata": {},
          "output_type": "execute_result"
        }
      ],
      "source": [
        "(a % 2 == 0) & (a >= 6)"
      ]
    },
    {
      "cell_type": "markdown",
      "id": "cf55bf07",
      "metadata": {
        "id": "cf55bf07"
      },
      "source": [
        "¡IMPORTANTE!"
      ]
    },
    {
      "cell_type": "code",
      "execution_count": null,
      "id": "e4735de9",
      "metadata": {
        "id": "e4735de9"
      },
      "outputs": [],
      "source": [
        "a = np.array([[1, 2, 3, 4], [5, 6, 7, 8], [9, 10, 11, 12]])"
      ]
    },
    {
      "cell_type": "code",
      "execution_count": null,
      "id": "1ab6c777",
      "metadata": {
        "id": "1ab6c777",
        "outputId": "c02de092-4782-4945-b45a-d165e29ae2e9"
      },
      "outputs": [
        {
          "data": {
            "text/plain": [
              "array([1, 2, 3, 4])"
            ]
          },
          "execution_count": 246,
          "metadata": {},
          "output_type": "execute_result"
        }
      ],
      "source": [
        "b1 = a[0][:]\n",
        "b1"
      ]
    },
    {
      "cell_type": "code",
      "execution_count": null,
      "id": "a2d45b25",
      "metadata": {
        "id": "a2d45b25"
      },
      "outputs": [],
      "source": [
        "b1[3] = 99"
      ]
    },
    {
      "cell_type": "code",
      "execution_count": null,
      "id": "7deee5e4",
      "metadata": {
        "id": "7deee5e4",
        "outputId": "6170ad04-8e95-45aa-9dc9-5b1d15ef58e5"
      },
      "outputs": [
        {
          "data": {
            "text/plain": [
              "array([ 1,  2,  3, 99])"
            ]
          },
          "execution_count": 248,
          "metadata": {},
          "output_type": "execute_result"
        }
      ],
      "source": [
        "a[0] #Vemos como se modificó el elemento original y esto lo hicimos por medio de la variable b1"
      ]
    },
    {
      "cell_type": "code",
      "execution_count": null,
      "id": "182d5643",
      "metadata": {
        "id": "182d5643"
      },
      "outputs": [],
      "source": [
        "b1 = a[0][:].copy() #De esta forma podemos realizar una copia sin modificar la parte original"
      ]
    },
    {
      "cell_type": "code",
      "execution_count": null,
      "id": "be706d57",
      "metadata": {
        "id": "be706d57",
        "outputId": "d2f29750-2c13-4208-926f-0f4b2639273a"
      },
      "outputs": [
        {
          "data": {
            "text/plain": [
              "array([1, 2, 3, 4])"
            ]
          },
          "execution_count": 254,
          "metadata": {},
          "output_type": "execute_result"
        }
      ],
      "source": [
        "b1"
      ]
    }
  ],
  "metadata": {
    "kernelspec": {
      "display_name": "Python 3 (ipykernel)",
      "language": "python",
      "name": "python3"
    },
    "language_info": {
      "codemirror_mode": {
        "name": "ipython",
        "version": 3
      },
      "file_extension": ".py",
      "mimetype": "text/x-python",
      "name": "python",
      "nbconvert_exporter": "python",
      "pygments_lexer": "ipython3",
      "version": "3.11.4"
    },
    "colab": {
      "provenance": [],
      "include_colab_link": true
    }
  },
  "nbformat": 4,
  "nbformat_minor": 5
}