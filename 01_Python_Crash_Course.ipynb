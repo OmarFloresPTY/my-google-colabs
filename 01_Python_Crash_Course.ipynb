{
  "nbformat": 4,
  "nbformat_minor": 0,
  "metadata": {
    "colab": {
      "provenance": [],
      "authorship_tag": "ABX9TyOJKQA1lGzZZ47H5BHkCLBe",
      "include_colab_link": true
    },
    "kernelspec": {
      "name": "python3",
      "display_name": "Python 3"
    },
    "language_info": {
      "name": "python"
    }
  },
  "cells": [
    {
      "cell_type": "markdown",
      "metadata": {
        "id": "view-in-github",
        "colab_type": "text"
      },
      "source": [
        "<a href=\"https://colab.research.google.com/github/OmarFloresPTY/my-google-colabs/blob/master/01_Python_Crash_Course.ipynb\" target=\"_parent\"><img src=\"https://colab.research.google.com/assets/colab-badge.svg\" alt=\"Open In Colab\"/></a>"
      ]
    },
    {
      "cell_type": "markdown",
      "source": [
        "# **Anotaciones del libro \"Python Crash Course 3er Edition\"🐍 del autor Eric Matthes.**\n",
        "Por Omar Flores 🧑‍💻"
      ],
      "metadata": {
        "id": "tgkHcsHsviOC"
      }
    },
    {
      "cell_type": "markdown",
      "source": [
        "## A. Variables y Tipos de Datos Simples"
      ],
      "metadata": {
        "id": "aE0H4w6LC_J-"
      }
    },
    {
      "cell_type": "code",
      "execution_count": 4,
      "metadata": {
        "id": "jDAlvAeFtaDI"
      },
      "outputs": [],
      "source": [
        "message = 'Hola Mundo' #Este es el ejemplo de una variable que almacena un mensaje"
      ]
    },
    {
      "cell_type": "code",
      "source": [
        "print(message) #Esta es una funcion de python que nos permite ver el contenido de una variable."
      ],
      "metadata": {
        "colab": {
          "base_uri": "https://localhost:8080/"
        },
        "id": "1pgOjKWEM9iW",
        "outputId": "657fc25e-f6c7-469f-8997-a1dc9e62fde7"
      },
      "execution_count": 5,
      "outputs": [
        {
          "output_type": "stream",
          "name": "stdout",
          "text": [
            "Hola Mundo\n"
          ]
        }
      ]
    },
    {
      "cell_type": "code",
      "source": [
        "message = 'Hello Python Crash Course world!' #En la misma variable podemos asignarles otro valor, el nuevo valor reemplazará al antiguo!"
      ],
      "metadata": {
        "id": "jjQvSqnLpnq8"
      },
      "execution_count": 6,
      "outputs": []
    },
    {
      "cell_type": "code",
      "source": [
        "print(message)"
      ],
      "metadata": {
        "colab": {
          "base_uri": "https://localhost:8080/"
        },
        "id": "iIB-7N8KpwRR",
        "outputId": "a63e06b4-b7a0-4e21-a04e-588e4c6e6ed5"
      },
      "execution_count": 7,
      "outputs": [
        {
          "output_type": "stream",
          "name": "stdout",
          "text": [
            "Hello Python Crash Course world!\n"
          ]
        }
      ]
    },
    {
      "cell_type": "markdown",
      "source": [
        "Existen algunas reglas para escribir variables⚠️:\n",
        "1. El nombre de las variables no pueden comenzar con algún número.\n",
        "2. El nombre de la variables no puede contener mayúsculas.\n",
        "3. No se puede utilizar espacios entre nombres compuestos en la variable.\n",
        "3. Se puede utilizar el _ para escribir un nombre compuesto en la variable, pero no puedes usar el -.\n",
        "4. Es importante escribir nombres de variables que sean breves pero al mismo tiempo significativos."
      ],
      "metadata": {
        "id": "P2041Fl7sui8"
      }
    },
    {
      "cell_type": "code",
      "source": [
        "message_1 = 'Esta variable está bien escrita'"
      ],
      "metadata": {
        "id": "vs6FJQzAsdIy"
      },
      "execution_count": 9,
      "outputs": []
    },
    {
      "cell_type": "code",
      "source": [
        "1_message = 'Esta variable no está bien escrita'\n",
        "message-1 = 'Esta variable no está bien escrita'\n",
        "message 1 = 'Esta variable no está bien escrita'"
      ],
      "metadata": {
        "id": "By9PunB_so5b"
      },
      "execution_count": null,
      "outputs": []
    },
    {
      "cell_type": "code",
      "source": [
        "print(mesage) #Este es un error que sucede muchas veces al imprimir una variable. Por lo que es importante saber leer un traceback."
      ],
      "metadata": {
        "id": "YDl0padYv0Uo"
      },
      "execution_count": null,
      "outputs": []
    },
    {
      "cell_type": "markdown",
      "source": [
        "### a. String\n",
        "Los tipos de datos string son un conjunto de caracteres simples, estos siempre estarán acompañados de una o dos comillas, python interpretará esto como un dato de tipo string."
      ],
      "metadata": {
        "id": "YdYvqDnxxrkr"
      }
    },
    {
      "cell_type": "code",
      "source": [
        "\"Esto es un string\""
      ],
      "metadata": {
        "id": "JxdzoNCVwsCj"
      },
      "execution_count": null,
      "outputs": []
    },
    {
      "cell_type": "code",
      "source": [
        "'Esto también es un string'"
      ],
      "metadata": {
        "colab": {
          "base_uri": "https://localhost:8080/",
          "height": 35
        },
        "id": "YQgwbjJlyDTP",
        "outputId": "dcdf5f81-328f-4e2b-8aab-286bbd20c410"
      },
      "execution_count": 13,
      "outputs": [
        {
          "output_type": "execute_result",
          "data": {
            "text/plain": [
              "'Esto también es un string'"
            ],
            "application/vnd.google.colaboratory.intrinsic+json": {
              "type": "string"
            }
          },
          "metadata": {},
          "execution_count": 13
        }
      ]
    },
    {
      "cell_type": "code",
      "source": [
        "'Una de mis frases favoritas es \"Yo solo sé que nada sé\" ' #El uso de una o dos comillas nos permiten combinarlas dentro del entorno de python."
      ],
      "metadata": {
        "colab": {
          "base_uri": "https://localhost:8080/",
          "height": 35
        },
        "id": "sgml7C1zyZBA",
        "outputId": "466245b8-5ae2-4c94-8627-4691f40486ff"
      },
      "execution_count": 14,
      "outputs": [
        {
          "output_type": "execute_result",
          "data": {
            "text/plain": [
              "'Una de mis frases favoritas es \"Yo solo sé que nada sé\" '"
            ],
            "application/vnd.google.colaboratory.intrinsic+json": {
              "type": "string"
            }
          },
          "metadata": {},
          "execution_count": 14
        }
      ]
    },
    {
      "cell_type": "code",
      "source": [
        "\"Todos queremos aprender ese lenguaje hermoso llamado 'Python'\""
      ],
      "metadata": {
        "colab": {
          "base_uri": "https://localhost:8080/",
          "height": 35
        },
        "id": "UVL6vLBoyuAq",
        "outputId": "b9f8d124-2f72-4a98-948c-86f073827914"
      },
      "execution_count": 15,
      "outputs": [
        {
          "output_type": "execute_result",
          "data": {
            "text/plain": [
              "\"Todos queremos aprender ese lenguaje hermoso llamado 'Python'\""
            ],
            "application/vnd.google.colaboratory.intrinsic+json": {
              "type": "string"
            }
          },
          "metadata": {},
          "execution_count": 15
        }
      ]
    }
  ]
}