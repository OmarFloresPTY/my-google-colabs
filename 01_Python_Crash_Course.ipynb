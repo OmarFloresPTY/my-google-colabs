{
  "nbformat": 4,
  "nbformat_minor": 0,
  "metadata": {
    "colab": {
      "provenance": [],
      "toc_visible": true,
      "authorship_tag": "ABX9TyMVTPoQ+2mE7i+8F1fJGrsD",
      "include_colab_link": true
    },
    "kernelspec": {
      "name": "python3",
      "display_name": "Python 3"
    },
    "language_info": {
      "name": "python"
    }
  },
  "cells": [
    {
      "cell_type": "markdown",
      "metadata": {
        "id": "view-in-github",
        "colab_type": "text"
      },
      "source": [
        "<a href=\"https://colab.research.google.com/github/OmarFloresPTY/my-google-colabs/blob/master/01_Python_Crash_Course.ipynb\" target=\"_parent\"><img src=\"https://colab.research.google.com/assets/colab-badge.svg\" alt=\"Open In Colab\"/></a>"
      ]
    },
    {
      "cell_type": "markdown",
      "source": [
        "# **Anotaciones del libro \"Python Crash Course 3er Edition\"🐍 del autor Eric Matthes.**\n",
        "Por Omar Flores 🧑‍💻"
      ],
      "metadata": {
        "id": "tgkHcsHsviOC"
      }
    },
    {
      "cell_type": "markdown",
      "source": [
        "## A. Variables y Tipos de Datos Simples"
      ],
      "metadata": {
        "id": "aE0H4w6LC_J-"
      }
    },
    {
      "cell_type": "code",
      "execution_count": null,
      "metadata": {
        "id": "jDAlvAeFtaDI"
      },
      "outputs": [],
      "source": [
        "message = 'Hola Mundo' #Este es el ejemplo de una variable que almacena un mensaje"
      ]
    },
    {
      "cell_type": "code",
      "source": [
        "print(message) #Esta es una funcion de python que nos permite ver el contenido de una variable."
      ],
      "metadata": {
        "colab": {
          "base_uri": "https://localhost:8080/"
        },
        "id": "1pgOjKWEM9iW",
        "outputId": "657fc25e-f6c7-469f-8997-a1dc9e62fde7"
      },
      "execution_count": null,
      "outputs": [
        {
          "output_type": "stream",
          "name": "stdout",
          "text": [
            "Hola Mundo\n"
          ]
        }
      ]
    },
    {
      "cell_type": "code",
      "source": [
        "message = 'Hello Python Crash Course world!' #En la misma variable podemos asignarles otro valor, el nuevo valor reemplazará al antiguo!"
      ],
      "metadata": {
        "id": "jjQvSqnLpnq8"
      },
      "execution_count": null,
      "outputs": []
    },
    {
      "cell_type": "code",
      "source": [
        "print(message)"
      ],
      "metadata": {
        "colab": {
          "base_uri": "https://localhost:8080/"
        },
        "id": "iIB-7N8KpwRR",
        "outputId": "a63e06b4-b7a0-4e21-a04e-588e4c6e6ed5"
      },
      "execution_count": null,
      "outputs": [
        {
          "output_type": "stream",
          "name": "stdout",
          "text": [
            "Hello Python Crash Course world!\n"
          ]
        }
      ]
    },
    {
      "cell_type": "markdown",
      "source": [
        "Existen algunas reglas para escribir variables⚠️:\n",
        "1. El nombre de las variables no pueden comenzar con algún número.\n",
        "2. El nombre de la variables no puede contener mayúsculas.\n",
        "3. No se puede utilizar espacios entre nombres compuestos en la variable.\n",
        "3. Se puede utilizar el _ para escribir un nombre compuesto en la variable, pero no puedes usar el -.\n",
        "4. Es importante escribir nombres de variables que sean breves pero al mismo tiempo significativos."
      ],
      "metadata": {
        "id": "P2041Fl7sui8"
      }
    },
    {
      "cell_type": "code",
      "source": [
        "message_1 = 'Esta variable está bien escrita'"
      ],
      "metadata": {
        "id": "vs6FJQzAsdIy"
      },
      "execution_count": null,
      "outputs": []
    },
    {
      "cell_type": "code",
      "source": [
        "1_message = 'Esta variable no está bien escrita'\n",
        "message-1 = 'Esta variable no está bien escrita'\n",
        "message 1 = 'Esta variable no está bien escrita'"
      ],
      "metadata": {
        "id": "By9PunB_so5b"
      },
      "execution_count": null,
      "outputs": []
    },
    {
      "cell_type": "code",
      "source": [
        "print(mesage) #Este es un error que sucede muchas veces al imprimir una variable. Por lo que es importante saber leer un traceback."
      ],
      "metadata": {
        "id": "YDl0padYv0Uo"
      },
      "execution_count": null,
      "outputs": []
    },
    {
      "cell_type": "markdown",
      "source": [
        "### a. String\n",
        "Los tipos de datos string son un conjunto de caracteres simples, estos siempre estarán acompañados de una o dos comillas, python interpretará esto como un dato de tipo string."
      ],
      "metadata": {
        "id": "YdYvqDnxxrkr"
      }
    },
    {
      "cell_type": "code",
      "source": [
        "\"Esto es un string\""
      ],
      "metadata": {
        "id": "JxdzoNCVwsCj"
      },
      "execution_count": null,
      "outputs": []
    },
    {
      "cell_type": "code",
      "source": [
        "'Esto también es un string'"
      ],
      "metadata": {
        "colab": {
          "base_uri": "https://localhost:8080/",
          "height": 35
        },
        "id": "YQgwbjJlyDTP",
        "outputId": "dcdf5f81-328f-4e2b-8aab-286bbd20c410"
      },
      "execution_count": null,
      "outputs": [
        {
          "output_type": "execute_result",
          "data": {
            "text/plain": [
              "'Esto también es un string'"
            ],
            "application/vnd.google.colaboratory.intrinsic+json": {
              "type": "string"
            }
          },
          "metadata": {},
          "execution_count": 13
        }
      ]
    },
    {
      "cell_type": "code",
      "source": [
        "'Una de mis frases favoritas es \"Yo solo sé que nada sé\" ' #El uso de una o dos comillas nos permiten combinarlas dentro del entorno de python."
      ],
      "metadata": {
        "colab": {
          "base_uri": "https://localhost:8080/",
          "height": 35
        },
        "id": "sgml7C1zyZBA",
        "outputId": "466245b8-5ae2-4c94-8627-4691f40486ff"
      },
      "execution_count": null,
      "outputs": [
        {
          "output_type": "execute_result",
          "data": {
            "text/plain": [
              "'Una de mis frases favoritas es \"Yo solo sé que nada sé\" '"
            ],
            "application/vnd.google.colaboratory.intrinsic+json": {
              "type": "string"
            }
          },
          "metadata": {},
          "execution_count": 14
        }
      ]
    },
    {
      "cell_type": "code",
      "source": [
        "\"Todos queremos aprender ese lenguaje hermoso llamado 'Python'\""
      ],
      "metadata": {
        "colab": {
          "base_uri": "https://localhost:8080/",
          "height": 35
        },
        "id": "UVL6vLBoyuAq",
        "outputId": "b9f8d124-2f72-4a98-948c-86f073827914"
      },
      "execution_count": null,
      "outputs": [
        {
          "output_type": "execute_result",
          "data": {
            "text/plain": [
              "\"Todos queremos aprender ese lenguaje hermoso llamado 'Python'\""
            ],
            "application/vnd.google.colaboratory.intrinsic+json": {
              "type": "string"
            }
          },
          "metadata": {},
          "execution_count": 15
        }
      ]
    },
    {
      "cell_type": "markdown",
      "source": [
        "#### i. Métodos en String\n",
        "En python nos permite trabajar con los strings con la ayuda de los métodos, a continuación conoceremos los métodos más usados con los string."
      ],
      "metadata": {
        "id": "9rrNt_wilpkn"
      }
    },
    {
      "cell_type": "markdown",
      "source": [
        "***1. Método title()***"
      ],
      "metadata": {
        "id": "u7UrsI40ncrl"
      }
    },
    {
      "cell_type": "code",
      "source": [
        "name = 'ada lovelace'"
      ],
      "metadata": {
        "id": "7ClYJMWulvnH"
      },
      "execution_count": null,
      "outputs": []
    },
    {
      "cell_type": "code",
      "source": [
        "print(name.title()) #El método variable.title() nos permite poner en mayúscula las primeras letras de un string."
      ],
      "metadata": {
        "colab": {
          "base_uri": "https://localhost:8080/"
        },
        "id": "CmIYXdXvmPWH",
        "outputId": "f6641c43-994e-4b5f-fc5f-c35e65ae8168"
      },
      "execution_count": null,
      "outputs": [
        {
          "output_type": "stream",
          "name": "stdout",
          "text": [
            "Ada Lovelace\n"
          ]
        }
      ]
    },
    {
      "cell_type": "code",
      "source": [
        "print(name) #Pero el método como tal no transforma directamente a la variable, aquí podemos ver como al volver imprimir la variable, esta sigue como al principio."
      ],
      "metadata": {
        "colab": {
          "base_uri": "https://localhost:8080/"
        },
        "id": "H57N_rpUmvae",
        "outputId": "7922714c-28b7-4bf7-9c75-9ab7e7cbaf26"
      },
      "execution_count": null,
      "outputs": [
        {
          "output_type": "stream",
          "name": "stdout",
          "text": [
            "ada lovelace\n"
          ]
        }
      ]
    },
    {
      "cell_type": "code",
      "source": [
        "name = name.title() #De esta forma podemos guardar los cambios que realice el método llamado."
      ],
      "metadata": {
        "id": "W02m4bqanQSv"
      },
      "execution_count": null,
      "outputs": []
    },
    {
      "cell_type": "code",
      "source": [
        "print(name)"
      ],
      "metadata": {
        "colab": {
          "base_uri": "https://localhost:8080/"
        },
        "id": "vqTcM-bunSrm",
        "outputId": "7468184d-5edc-48ce-98b0-ca157dbb484c"
      },
      "execution_count": null,
      "outputs": [
        {
          "output_type": "stream",
          "name": "stdout",
          "text": [
            "Ada Lovelace\n"
          ]
        }
      ]
    },
    {
      "cell_type": "markdown",
      "source": [
        "**2. Método upper() y lower()**"
      ],
      "metadata": {
        "id": "_TjrWkAGqTVc"
      }
    },
    {
      "cell_type": "code",
      "source": [
        "name = 'Omar Flores'"
      ],
      "metadata": {
        "id": "PjjhqGM3qa3s"
      },
      "execution_count": null,
      "outputs": []
    },
    {
      "cell_type": "code",
      "source": [
        "print(name.upper()) #Nos permite convertir la cadena a Mayúscula"
      ],
      "metadata": {
        "colab": {
          "base_uri": "https://localhost:8080/"
        },
        "id": "yZY0jNDoqesj",
        "outputId": "b644a9e9-5ea1-43a5-f9e6-7dbf06591026"
      },
      "execution_count": null,
      "outputs": [
        {
          "output_type": "stream",
          "name": "stdout",
          "text": [
            "OMAR FLORES\n"
          ]
        }
      ]
    },
    {
      "cell_type": "code",
      "source": [
        "print(name.lower()) #Nos permite convertir la cadena a Minúscula"
      ],
      "metadata": {
        "colab": {
          "base_uri": "https://localhost:8080/"
        },
        "id": "qEK8QI7IqguL",
        "outputId": "25588ae0-128e-465a-ef57-e9fd17701ff4"
      },
      "execution_count": null,
      "outputs": [
        {
          "output_type": "stream",
          "name": "stdout",
          "text": [
            "omar flores\n"
          ]
        }
      ]
    },
    {
      "cell_type": "markdown",
      "source": [
        "**3. Utilizando el *f-string* para formatear las cadenas de string.**"
      ],
      "metadata": {
        "id": "4stMtD_qzJPo"
      }
    },
    {
      "cell_type": "code",
      "source": [
        "first_name = 'omar'\n",
        "last_name = 'flores'"
      ],
      "metadata": {
        "id": "dhpproG6ssPm"
      },
      "execution_count": null,
      "outputs": []
    },
    {
      "cell_type": "code",
      "source": [
        "full_name = f'{first_name} {last_name}'"
      ],
      "metadata": {
        "id": "IlHS26bNs2J6"
      },
      "execution_count": null,
      "outputs": []
    },
    {
      "cell_type": "code",
      "source": [
        "print(full_name)"
      ],
      "metadata": {
        "colab": {
          "base_uri": "https://localhost:8080/"
        },
        "id": "bRkNEMCUtDr8",
        "outputId": "791311b2-fe8d-4c04-f0e7-ca9d8b1940e6"
      },
      "execution_count": null,
      "outputs": [
        {
          "output_type": "stream",
          "name": "stdout",
          "text": [
            "omar flores\n"
          ]
        }
      ]
    },
    {
      "cell_type": "code",
      "source": [
        "message = f'Hola, mi nombre es {full_name.title()}!'"
      ],
      "metadata": {
        "id": "h72IXURO0FQV"
      },
      "execution_count": null,
      "outputs": []
    },
    {
      "cell_type": "code",
      "source": [
        "print(message)"
      ],
      "metadata": {
        "colab": {
          "base_uri": "https://localhost:8080/"
        },
        "id": "Z758RSbGzcCu",
        "outputId": "4e1897a1-5ac8-4cad-c6c2-695a92853bad"
      },
      "execution_count": null,
      "outputs": [
        {
          "output_type": "stream",
          "name": "stdout",
          "text": [
            "Hola, mi nombre es Omar Flores!\n"
          ]
        }
      ]
    },
    {
      "cell_type": "markdown",
      "source": [
        "**4. WhiteSpace (Espacios en blacos)**.\n",
        "En la programación se utilizan simbolos para imprimir espacios en blancos, tabs y saltos de líneas, esto ayuda a una mejor compresión en la salida da los usuarios."
      ],
      "metadata": {
        "id": "C_QlVslJ1NPH"
      }
    },
    {
      "cell_type": "code",
      "source": [
        "print('Hola Mundo \\t Este es un tab en python') # Simbolo \\t para realizar un tab."
      ],
      "metadata": {
        "colab": {
          "base_uri": "https://localhost:8080/"
        },
        "id": "-ykBBYh31WZu",
        "outputId": "19043fa3-b04e-4cdf-8866-34fdd608cbd7"
      },
      "execution_count": null,
      "outputs": [
        {
          "output_type": "stream",
          "name": "stdout",
          "text": [
            "Hola Mundo \t Este es un tab en python\n"
          ]
        }
      ]
    },
    {
      "cell_type": "code",
      "source": [
        "print('Los mejores lenguajes de programación son: \\n 1.Python\\n 2.C++ \\n 3.Js \\n 4.SQL') # Simbolo \\n para realizar un salto de línea"
      ],
      "metadata": {
        "colab": {
          "base_uri": "https://localhost:8080/"
        },
        "id": "5EOM_VXp1_1H",
        "outputId": "01f3233a-b15a-4874-d05b-79cb81216a18"
      },
      "execution_count": null,
      "outputs": [
        {
          "output_type": "stream",
          "name": "stdout",
          "text": [
            "Los mejores lenguajes de programación son: \n",
            " 1.Python\n",
            " 2.C++ \n",
            " 3.Js \n",
            " 4.SQL\n"
          ]
        }
      ]
    },
    {
      "cell_type": "code",
      "source": [
        "print('Los mejores lenguajes de programación son: \\n \\t1.Python\\n \\t2.C++ \\n \\t3.Js \\n \\t4.SQL') # Puedes combinar los simbolos para realizar un salto de línea y un tab."
      ],
      "metadata": {
        "colab": {
          "base_uri": "https://localhost:8080/"
        },
        "id": "b33pYzU_4mTG",
        "outputId": "e3ce93fd-9218-4341-be68-ed70a5d8a09c"
      },
      "execution_count": null,
      "outputs": [
        {
          "output_type": "stream",
          "name": "stdout",
          "text": [
            "Los mejores lenguajes de programación son: \n",
            " \t1.Python\n",
            " \t2.C++ \n",
            " \t3.Js \n",
            " \t4.SQL\n"
          ]
        }
      ]
    }
  ]
}