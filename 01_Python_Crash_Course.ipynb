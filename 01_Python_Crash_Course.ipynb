{
  "nbformat": 4,
  "nbformat_minor": 0,
  "metadata": {
    "colab": {
      "provenance": [],
      "authorship_tag": "ABX9TyMtK02GHnP6gZ6F5z4rw997",
      "include_colab_link": true
    },
    "kernelspec": {
      "name": "python3",
      "display_name": "Python 3"
    },
    "language_info": {
      "name": "python"
    }
  },
  "cells": [
    {
      "cell_type": "markdown",
      "metadata": {
        "id": "view-in-github",
        "colab_type": "text"
      },
      "source": [
        "<a href=\"https://colab.research.google.com/github/OmarFloresPTY/my-google-colabs/blob/master/01_Python_Crash_Course.ipynb\" target=\"_parent\"><img src=\"https://colab.research.google.com/assets/colab-badge.svg\" alt=\"Open In Colab\"/></a>"
      ]
    },
    {
      "cell_type": "markdown",
      "source": [
        "# **Anotaciones del libro \"Python Crash Course 3er Edition\"🐍 del autor Eric Matthes.**\n",
        "Por Omar Flores 🧑‍💻"
      ],
      "metadata": {
        "id": "tgkHcsHsviOC"
      }
    },
    {
      "cell_type": "markdown",
      "source": [
        "## A. Variables y Tipos de Datos Simples"
      ],
      "metadata": {
        "id": "aE0H4w6LC_J-"
      }
    },
    {
      "cell_type": "code",
      "execution_count": 4,
      "metadata": {
        "id": "jDAlvAeFtaDI"
      },
      "outputs": [],
      "source": [
        "message = 'Hola Mundo' #Este es el ejemplo de una variable que almacena un mensaje"
      ]
    },
    {
      "cell_type": "code",
      "source": [
        "print(message) #Esta es una funcion de python que nos permite ver el contenido de una variable."
      ],
      "metadata": {
        "colab": {
          "base_uri": "https://localhost:8080/"
        },
        "id": "1pgOjKWEM9iW",
        "outputId": "657fc25e-f6c7-469f-8997-a1dc9e62fde7"
      },
      "execution_count": 5,
      "outputs": [
        {
          "output_type": "stream",
          "name": "stdout",
          "text": [
            "Hola Mundo\n"
          ]
        }
      ]
    },
    {
      "cell_type": "code",
      "source": [
        "message = 'Hello Python Crash Course world!' #En la misma variable podemos asignarles otro valor, el nuevo valor reemplazará al antiguo!"
      ],
      "metadata": {
        "id": "jjQvSqnLpnq8"
      },
      "execution_count": 6,
      "outputs": []
    },
    {
      "cell_type": "code",
      "source": [
        "print(message)"
      ],
      "metadata": {
        "colab": {
          "base_uri": "https://localhost:8080/"
        },
        "id": "iIB-7N8KpwRR",
        "outputId": "a63e06b4-b7a0-4e21-a04e-588e4c6e6ed5"
      },
      "execution_count": 7,
      "outputs": [
        {
          "output_type": "stream",
          "name": "stdout",
          "text": [
            "Hello Python Crash Course world!\n"
          ]
        }
      ]
    }
  ]
}