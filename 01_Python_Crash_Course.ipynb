{
  "nbformat": 4,
  "nbformat_minor": 0,
  "metadata": {
    "colab": {
      "provenance": [],
      "authorship_tag": "ABX9TyNqjKeHz2iwJF0O87D4GaY9",
      "include_colab_link": true
    },
    "kernelspec": {
      "name": "python3",
      "display_name": "Python 3"
    },
    "language_info": {
      "name": "python"
    }
  },
  "cells": [
    {
      "cell_type": "markdown",
      "metadata": {
        "id": "view-in-github",
        "colab_type": "text"
      },
      "source": [
        "<a href=\"https://colab.research.google.com/github/OmarFloresPTY/my-google-colabs/blob/master/01_Python_Crash_Course.ipynb\" target=\"_parent\"><img src=\"https://colab.research.google.com/assets/colab-badge.svg\" alt=\"Open In Colab\"/></a>"
      ]
    },
    {
      "cell_type": "markdown",
      "source": [
        "# **Anotaciones del libro \"Python Crash Course 3er Edition\"🐍 del autor Eric Matthes.**\n",
        "Por Omar Flores 🧑‍💻"
      ],
      "metadata": {
        "id": "tgkHcsHsviOC"
      }
    },
    {
      "cell_type": "markdown",
      "source": [
        "## A. Variables y Tipos de Datos Simples"
      ],
      "metadata": {
        "id": "aE0H4w6LC_J-"
      }
    },
    {
      "cell_type": "code",
      "execution_count": null,
      "metadata": {
        "id": "jDAlvAeFtaDI"
      },
      "outputs": [],
      "source": []
    }
  ]
}