{
  "cells": [
    {
      "cell_type": "markdown",
      "metadata": {
        "id": "view-in-github",
        "colab_type": "text"
      },
      "source": [
        "<a href=\"https://colab.research.google.com/github/OmarFloresPTY/my-google-colabs/blob/master/numpy_pandas_manipulacion_datos.ipynb\" target=\"_parent\"><img src=\"https://colab.research.google.com/assets/colab-badge.svg\" alt=\"Open In Colab\"/></a>"
      ]
    },
    {
      "cell_type": "markdown",
      "metadata": {
        "id": "4QOj2wbhLRVD"
      },
      "source": [
        "# Manipulación y Transformación de Datos con Pandas y Numpy 📓🧮🐍"
      ]
    },
    {
      "cell_type": "markdown",
      "metadata": {
        "id": "pCckof4ALRVI"
      },
      "source": [
        "## 1. Uso de la librería Numpy"
      ]
    },
    {
      "cell_type": "code",
      "execution_count": 1,
      "metadata": {
        "id": "gZTfHqfkLRVL"
      },
      "outputs": [],
      "source": [
        "import numpy as np"
      ]
    },
    {
      "cell_type": "markdown",
      "metadata": {
        "id": "18BDjqCcLRVP"
      },
      "source": [
        "### 1.1 Aprendiendo sobre los arrays y matrices {bidi,tridi}.mensionales"
      ]
    },
    {
      "cell_type": "code",
      "execution_count": null,
      "metadata": {
        "id": "AYSGCe1fLRVQ",
        "outputId": "81050fec-828e-4091-b9d1-b0e2a43c02ba"
      },
      "outputs": [
        {
          "data": {
            "text/plain": [
              "[1, 2, 3, 4, 5, 6, 7, 8, 9]"
            ]
          },
          "execution_count": 2,
          "metadata": {},
          "output_type": "execute_result"
        }
      ],
      "source": [
        "lista = [1,2,3,4,5,6,7,8,9]\n",
        "lista"
      ]
    },
    {
      "cell_type": "code",
      "execution_count": null,
      "metadata": {
        "id": "NEU447RKLRVT"
      },
      "outputs": [],
      "source": [
        "arr = np.array(lista)"
      ]
    },
    {
      "cell_type": "code",
      "execution_count": null,
      "metadata": {
        "id": "it8eQRglLRVW",
        "outputId": "4f0bef59-1c53-47b7-c8b3-1061d4abcbc9"
      },
      "outputs": [
        {
          "data": {
            "text/plain": [
              "numpy.ndarray"
            ]
          },
          "execution_count": 4,
          "metadata": {},
          "output_type": "execute_result"
        }
      ],
      "source": [
        "type(arr)"
      ]
    },
    {
      "cell_type": "code",
      "execution_count": null,
      "metadata": {
        "scrolled": true,
        "id": "8YtzOAR4LRVX",
        "outputId": "14f378c1-5b07-4191-8d46-a80faed7ee2b"
      },
      "outputs": [
        {
          "data": {
            "text/plain": [
              "array([[1, 2, 3],\n",
              "       [4, 5, 6],\n",
              "       [7, 8, 9]])"
            ]
          },
          "execution_count": 5,
          "metadata": {},
          "output_type": "execute_result"
        }
      ],
      "source": [
        "matriz = [[1,2,3],[4,5,6],[7,8,9]]\n",
        "matriz = np.array(matriz)\n",
        "matriz"
      ]
    },
    {
      "cell_type": "code",
      "execution_count": null,
      "metadata": {
        "id": "c0TFahiVLRVZ",
        "outputId": "dd2fa1c1-b6b0-48ee-b378-529f8e904765"
      },
      "outputs": [
        {
          "data": {
            "text/plain": [
              "array([1, 2, 3, 4, 5, 6, 7, 8, 9])"
            ]
          },
          "execution_count": 6,
          "metadata": {},
          "output_type": "execute_result"
        }
      ],
      "source": [
        "arr"
      ]
    },
    {
      "cell_type": "code",
      "execution_count": null,
      "metadata": {
        "id": "LG9MVYXJLRVb",
        "outputId": "9e065f7f-4e09-409c-c821-b96fd3195356"
      },
      "outputs": [
        {
          "data": {
            "text/plain": [
              "1"
            ]
          },
          "execution_count": 14,
          "metadata": {},
          "output_type": "execute_result"
        }
      ],
      "source": [
        "arr[0]\n",
        "#arr[1]\n",
        "#arr[8]\n",
        "#arr[9]"
      ]
    },
    {
      "cell_type": "code",
      "execution_count": null,
      "metadata": {
        "id": "IaKsyPXiLRVc",
        "outputId": "75d18120-1bc7-405c-83c3-20e0d52bedaf"
      },
      "outputs": [
        {
          "data": {
            "text/plain": [
              "9"
            ]
          },
          "execution_count": 15,
          "metadata": {},
          "output_type": "execute_result"
        }
      ],
      "source": [
        "len(arr)"
      ]
    },
    {
      "cell_type": "code",
      "execution_count": null,
      "metadata": {
        "id": "iOzEg4SsLRVe",
        "outputId": "d179ae31-aac7-4971-f40e-b822f07f2ce6"
      },
      "outputs": [
        {
          "data": {
            "text/plain": [
              "7"
            ]
          },
          "execution_count": 16,
          "metadata": {},
          "output_type": "execute_result"
        }
      ],
      "source": [
        "arr[0] + arr[5]"
      ]
    },
    {
      "cell_type": "code",
      "execution_count": null,
      "metadata": {
        "id": "UcHHc4dYLRVf",
        "outputId": "59a4cf59-aff4-48dc-dd0a-34935d6d9ca8"
      },
      "outputs": [
        {
          "data": {
            "text/plain": [
              "3"
            ]
          },
          "execution_count": 19,
          "metadata": {},
          "output_type": "execute_result"
        }
      ],
      "source": [
        "matriz[0][2]"
      ]
    },
    {
      "cell_type": "code",
      "execution_count": null,
      "metadata": {
        "id": "k77VHsn9LRVg",
        "outputId": "6fb1141f-9c8b-4579-cfd8-eead86d5c039"
      },
      "outputs": [
        {
          "data": {
            "text/plain": [
              "array([1, 4, 7])"
            ]
          },
          "execution_count": 21,
          "metadata": {},
          "output_type": "execute_result"
        }
      ],
      "source": [
        "#arr[0:4]\n",
        "arr[::3]"
      ]
    },
    {
      "cell_type": "code",
      "execution_count": null,
      "metadata": {
        "id": "K1wY4WMfLRVg",
        "outputId": "c017cd4f-88a3-429b-f391-09b5bed0ef25"
      },
      "outputs": [
        {
          "data": {
            "text/plain": [
              "array([[4, 5],\n",
              "       [7, 8]])"
            ]
          },
          "execution_count": 23,
          "metadata": {},
          "output_type": "execute_result"
        }
      ],
      "source": [
        "matriz[1:,0:2]"
      ]
    },
    {
      "cell_type": "code",
      "execution_count": null,
      "metadata": {
        "id": "bfEbbEPoLRVh"
      },
      "outputs": [],
      "source": [
        "matriz_tridimensional = np.array([\n",
        "    [[1, 2, 3], [4, 5, 6], [7, 8, 9]],\n",
        "    [[10, 11, 12], [13, 14, 15], [16, 17, 18]],\n",
        "    [[19, 20, 21], [22, 23, 24], [25, 26, 27]]\n",
        "])"
      ]
    },
    {
      "cell_type": "code",
      "execution_count": null,
      "metadata": {
        "scrolled": true,
        "id": "5sb_q09wLRVh",
        "outputId": "13fe6eca-ba7b-4417-d042-a87ea3af9ec9"
      },
      "outputs": [
        {
          "data": {
            "text/plain": [
              "array([[[ 1,  2,  3],\n",
              "        [ 4,  5,  6],\n",
              "        [ 7,  8,  9]],\n",
              "\n",
              "       [[10, 11, 12],\n",
              "        [13, 14, 15],\n",
              "        [16, 17, 18]],\n",
              "\n",
              "       [[19, 20, 21],\n",
              "        [22, 23, 24],\n",
              "        [25, 26, 27]]])"
            ]
          },
          "execution_count": 29,
          "metadata": {},
          "output_type": "execute_result"
        }
      ],
      "source": [
        "matriz_tridimensional"
      ]
    },
    {
      "cell_type": "code",
      "execution_count": null,
      "metadata": {
        "id": "kXmr-wq3LRVi",
        "outputId": "1fedcef6-c4ec-433a-b77a-3d2e437fafa7"
      },
      "outputs": [
        {
          "data": {
            "text/plain": [
              "array([[1, 2, 3],\n",
              "       [4, 5, 6],\n",
              "       [7, 8, 9]])"
            ]
          },
          "execution_count": 30,
          "metadata": {},
          "output_type": "execute_result"
        }
      ],
      "source": [
        "#matriz_tridimensional[0]\n",
        "matriz_tridimensional[2]"
      ]
    },
    {
      "cell_type": "code",
      "execution_count": null,
      "metadata": {
        "id": "NeUdC8qhLRVi",
        "outputId": "43a2e0d1-9c49-4924-ccd8-014181009110"
      },
      "outputs": [
        {
          "data": {
            "text/plain": [
              "27"
            ]
          },
          "execution_count": 34,
          "metadata": {},
          "output_type": "execute_result"
        }
      ],
      "source": [
        "matriz_tridimensional[2][2][2]"
      ]
    },
    {
      "cell_type": "code",
      "execution_count": null,
      "metadata": {
        "id": "H4pyhgMALRVj",
        "outputId": "925d665b-393b-4738-9a44-d2156a56673c"
      },
      "outputs": [
        {
          "data": {
            "text/plain": [
              "array([[[10, 11],\n",
              "        [13, 14],\n",
              "        [16, 17]],\n",
              "\n",
              "       [[19, 20],\n",
              "        [22, 23],\n",
              "        [25, 26]]])"
            ]
          },
          "execution_count": 38,
          "metadata": {},
          "output_type": "execute_result"
        }
      ],
      "source": [
        "matriz_tridimensional[1:,:,0:2]"
      ]
    },
    {
      "cell_type": "markdown",
      "metadata": {
        "id": "Me1ZxJBVLRVj"
      },
      "source": [
        "### 1.2 Tipos de datos en Numpy"
      ]
    },
    {
      "cell_type": "markdown",
      "metadata": {
        "id": "CD5s7DWWLRVj"
      },
      "source": [
        "#### Tipo de dato int32"
      ]
    },
    {
      "cell_type": "code",
      "execution_count": null,
      "metadata": {
        "id": "bIR63y2PLRVk"
      },
      "outputs": [],
      "source": [
        "arr=np.array([0,1,2,3,4]) #método manual para crear un array del 0-4"
      ]
    },
    {
      "cell_type": "code",
      "execution_count": null,
      "metadata": {
        "id": "jK4BPiNoLRVk"
      },
      "outputs": [],
      "source": [
        "arr=np.arange(0,5) #método .arange(min,max-1) para crear un array del 0-4"
      ]
    },
    {
      "cell_type": "code",
      "execution_count": null,
      "metadata": {
        "id": "rDwyVmWLLRVl",
        "outputId": "a1ba1316-3f5c-45fc-873a-2afe78cc66f7"
      },
      "outputs": [
        {
          "data": {
            "text/plain": [
              "array([0, 1, 2, 3, 4])"
            ]
          },
          "execution_count": 68,
          "metadata": {},
          "output_type": "execute_result"
        }
      ],
      "source": [
        "arr"
      ]
    },
    {
      "cell_type": "code",
      "execution_count": null,
      "metadata": {
        "id": "84w1-xSSLRVm",
        "outputId": "3a2ee9f2-f5cd-41eb-f998-9c01774b4c5a"
      },
      "outputs": [
        {
          "data": {
            "text/plain": [
              "dtype('int32')"
            ]
          },
          "execution_count": 69,
          "metadata": {},
          "output_type": "execute_result"
        }
      ],
      "source": [
        "arr.dtype"
      ]
    },
    {
      "cell_type": "markdown",
      "metadata": {
        "id": "b3mIGL4qLRVm"
      },
      "source": [
        "#### Tipo de dato float64"
      ]
    },
    {
      "cell_type": "code",
      "execution_count": null,
      "metadata": {
        "id": "duUT3cTQLRVn"
      },
      "outputs": [],
      "source": [
        "arr=np.array([1,2,3,4])"
      ]
    },
    {
      "cell_type": "code",
      "execution_count": null,
      "metadata": {
        "id": "3QP7ivL5LRVn"
      },
      "outputs": [],
      "source": [
        "arr = np.array([1,2,3,4], dtype='float64') #método No.1 para castear un tipo de datos a otro tipo de datos numpy."
      ]
    },
    {
      "cell_type": "code",
      "execution_count": null,
      "metadata": {
        "id": "NKywtOLpLRVn",
        "outputId": "4b961d17-937c-485c-8ee9-d68717b5a7a9"
      },
      "outputs": [
        {
          "data": {
            "text/plain": [
              "array([1., 2., 3., 4.])"
            ]
          },
          "execution_count": 25,
          "metadata": {},
          "output_type": "execute_result"
        }
      ],
      "source": [
        "arr.astype(np.float64) #método No.2 para castear un tipo de datos a otro tipo de datos en numpy."
      ]
    },
    {
      "cell_type": "markdown",
      "metadata": {
        "id": "SQZv1vgiLRVo"
      },
      "source": [
        "#### Tipo de dato boole64"
      ]
    },
    {
      "cell_type": "code",
      "execution_count": null,
      "metadata": {
        "id": "sIHyBjCULRVo"
      },
      "outputs": [],
      "source": [
        "arr = np.array([0,1,2,3,4])"
      ]
    },
    {
      "cell_type": "code",
      "execution_count": null,
      "metadata": {
        "id": "Mrs61snvLRVo"
      },
      "outputs": [],
      "source": [
        "arr=arr.astype(np.bool_)"
      ]
    },
    {
      "cell_type": "code",
      "execution_count": null,
      "metadata": {
        "id": "ZT-ZXJ_gLRVp",
        "outputId": "67cb815c-c2ce-45a2-e8be-7d6a03ca1749"
      },
      "outputs": [
        {
          "data": {
            "text/plain": [
              "array([False,  True,  True,  True,  True])"
            ]
          },
          "execution_count": 38,
          "metadata": {},
          "output_type": "execute_result"
        }
      ],
      "source": [
        "arr"
      ]
    },
    {
      "cell_type": "markdown",
      "metadata": {
        "id": "Hmaz48odLRVp"
      },
      "source": [
        "#### Tipo de dato string64"
      ]
    },
    {
      "cell_type": "code",
      "execution_count": null,
      "metadata": {
        "id": "blZn2nrwLRVp"
      },
      "outputs": [],
      "source": [
        "arr = np.array([0,1,2,3,4])"
      ]
    },
    {
      "cell_type": "code",
      "execution_count": null,
      "metadata": {
        "id": "pKSO3z_TLRVp"
      },
      "outputs": [],
      "source": [
        "arr = arr.astype(np.string_)"
      ]
    },
    {
      "cell_type": "code",
      "execution_count": null,
      "metadata": {
        "scrolled": true,
        "id": "Vkn6fSJoLRVq",
        "outputId": "8144dcca-0225-4841-9836-324aa49d0d35"
      },
      "outputs": [
        {
          "data": {
            "text/plain": [
              "array([0, 1, 2, 3, 4], dtype=int8)"
            ]
          },
          "execution_count": 58,
          "metadata": {},
          "output_type": "execute_result"
        }
      ],
      "source": [
        "arr"
      ]
    },
    {
      "cell_type": "code",
      "execution_count": null,
      "metadata": {
        "id": "XqdUiNzrLRVq"
      },
      "outputs": [],
      "source": [
        "arr = np.array(['0','1','2','3','4'])\n",
        "#arr = np.array(['Hello','1','2','3','4']) #No puede convertir un texto a entero."
      ]
    },
    {
      "cell_type": "code",
      "execution_count": null,
      "metadata": {
        "scrolled": true,
        "id": "CdBbVeh_LRVq"
      },
      "outputs": [],
      "source": [
        "arr = arr.astype(np.int8) #Investigar int8 y int32"
      ]
    },
    {
      "cell_type": "markdown",
      "metadata": {
        "id": "wdGNFn-RLRVr"
      },
      "source": [
        "Si quieres conocer todos los tipos de datos de numpy, visita su sitio web oficial: https://numpy.org/doc/stable/user/basics.types.html"
      ]
    },
    {
      "cell_type": "markdown",
      "metadata": {
        "id": "jE7km1DpLRVr"
      },
      "source": [
        "### 1.3 Dimensiones"
      ]
    },
    {
      "cell_type": "markdown",
      "metadata": {
        "id": "VaWZmxrnLRVr"
      },
      "source": [
        "* Scalar = Un único valor por separado (unidad).\n",
        "* Vector = Una colección unidemensional de elementos del mismo tipo de datos.\n",
        "* Matrix = Una colección bidimensional de elementos del mismo tipo de datos. (Filas y Columnas)\n",
        "* Tensor = Una colección de n-dimension de elementos del mismo tipo de datos.\n",
        "\n",
        "<img src=\"https://mblogthumb-phinf.pstatic.net/MjAyMDA1MjVfMjQ0/MDAxNTkwMzcxNTgxMjgx.zVM_8O3aWx1DUjeKFx-FRXeHS1KVHWfdSiOBE2--1k4g.6z_U8ssbX1lwelBEqUxjtyutk2y6HSNTvk5a7pTYIWkg.PNG.nabilera1/image.png?type=w800\">"
      ]
    },
    {
      "cell_type": "code",
      "execution_count": null,
      "metadata": {
        "id": "3QKAemB-LRVr",
        "outputId": "a553cc59-6252-4d00-ac01-2553023a3de6"
      },
      "outputs": [
        {
          "name": "stdout",
          "output_type": "stream",
          "text": [
            "42\n"
          ]
        }
      ],
      "source": [
        "scalar = np.array(42)\n",
        "print(scalar)"
      ]
    },
    {
      "cell_type": "code",
      "execution_count": null,
      "metadata": {
        "id": "fPgvqVnNLRVs",
        "outputId": "d04ac3b7-dca4-43f2-a11a-3628d777955c"
      },
      "outputs": [
        {
          "data": {
            "text/plain": [
              "0"
            ]
          },
          "execution_count": 7,
          "metadata": {},
          "output_type": "execute_result"
        }
      ],
      "source": [
        "scalar.ndim #Nos permite saber cuantas dimensiones tiene nuestro objeto numpy creado."
      ]
    },
    {
      "cell_type": "code",
      "execution_count": null,
      "metadata": {
        "id": "yZ3rVZbYLRVs",
        "outputId": "e7a73fa7-3297-45c5-fcc1-21b52e7b5a61"
      },
      "outputs": [
        {
          "name": "stdout",
          "output_type": "stream",
          "text": [
            "[1 2 3]\n"
          ]
        }
      ],
      "source": [
        "vector = np.array([1,2,3])\n",
        "print(vector)"
      ]
    },
    {
      "cell_type": "code",
      "execution_count": null,
      "metadata": {
        "id": "-RHsJaBQLRVt",
        "outputId": "cbc89874-4cef-4217-a8f4-e633d7c5b56e"
      },
      "outputs": [
        {
          "data": {
            "text/plain": [
              "1"
            ]
          },
          "execution_count": 9,
          "metadata": {},
          "output_type": "execute_result"
        }
      ],
      "source": [
        "vector.ndim"
      ]
    },
    {
      "cell_type": "code",
      "execution_count": null,
      "metadata": {
        "id": "JaUQWahgLRVt",
        "outputId": "dbb71d04-cd39-4879-c64e-edaf96f7522b"
      },
      "outputs": [
        {
          "name": "stdout",
          "output_type": "stream",
          "text": [
            "[[1 2 3]\n",
            " [4 5 6]]\n"
          ]
        }
      ],
      "source": [
        "matrix = np.array([[1,2,3],[4,5,6]])\n",
        "print(matrix)"
      ]
    },
    {
      "cell_type": "code",
      "execution_count": null,
      "metadata": {
        "id": "xNM1Zb9kLRVt",
        "outputId": "1bd06655-6753-4134-c32c-3ad6ac9cf4dc"
      },
      "outputs": [
        {
          "data": {
            "text/plain": [
              "2"
            ]
          },
          "execution_count": 18,
          "metadata": {},
          "output_type": "execute_result"
        }
      ],
      "source": [
        "matrix.ndim"
      ]
    },
    {
      "cell_type": "code",
      "execution_count": null,
      "metadata": {
        "id": "uOobWQzxLRVt",
        "outputId": "fc3843b2-ed84-40f7-f5eb-479126bcbfcf"
      },
      "outputs": [
        {
          "name": "stdout",
          "output_type": "stream",
          "text": [
            "[[[1 2 3]\n",
            "  [4 5 6]]\n",
            "\n",
            " [[1 2 3]\n",
            "  [4 5 6]]]\n"
          ]
        }
      ],
      "source": [
        "tensor = np.array([[[1,2,3],[4,5,6]],[[1,2,3],[4,5,6]]])\n",
        "print(tensor)"
      ]
    },
    {
      "cell_type": "code",
      "execution_count": null,
      "metadata": {
        "id": "hKceO97uLRVu",
        "outputId": "c91600d2-15ca-433c-d25d-603bdbacdeb5"
      },
      "outputs": [
        {
          "data": {
            "text/plain": [
              "3"
            ]
          },
          "execution_count": 20,
          "metadata": {},
          "output_type": "execute_result"
        }
      ],
      "source": [
        "tensor.ndim"
      ]
    },
    {
      "cell_type": "markdown",
      "metadata": {
        "id": "j1XxCV3ILRVu"
      },
      "source": [
        "### 1.4 Creando arrays\n",
        "Creando arrays con las diferentes funciones que tiene numpy, hasta el momento hemos creado esta estructura de datos pasando como parámetro una lista."
      ]
    },
    {
      "cell_type": "markdown",
      "metadata": {
        "id": "Pc2jtKr-LRVu"
      },
      "source": [
        "#### range(min,max)\n",
        "* El método range(min,max)es un método creado por python pero no por numpy."
      ]
    },
    {
      "cell_type": "code",
      "execution_count": null,
      "metadata": {
        "scrolled": true,
        "id": "iRcsvU_9LRVv",
        "outputId": "64652c11-bc6c-4ab4-88b5-604d62c0842b"
      },
      "outputs": [
        {
          "data": {
            "text/plain": [
              "[0, 1, 2, 3, 4, 5, 6, 7, 8, 9]"
            ]
          },
          "execution_count": 4,
          "metadata": {},
          "output_type": "execute_result"
        }
      ],
      "source": [
        "list(range(0,10))"
      ]
    },
    {
      "cell_type": "markdown",
      "metadata": {
        "id": "YnWjnwQPLRVv"
      },
      "source": [
        "#### np.arange(min,max-1,pasos) \n",
        "* El método np.arange(min,max-1,pasos) sí es un método creado por numpy para crear arrays desde un rango dado."
      ]
    },
    {
      "cell_type": "code",
      "execution_count": null,
      "metadata": {
        "scrolled": true,
        "id": "Vd0rSPUCLRVv",
        "outputId": "02f16d5c-6850-44ed-d1f6-c8c8e877e4d5"
      },
      "outputs": [
        {
          "data": {
            "text/plain": [
              "array([ 0,  2,  4,  6,  8, 10, 12, 14, 16, 18])"
            ]
          },
          "execution_count": 29,
          "metadata": {},
          "output_type": "execute_result"
        }
      ],
      "source": [
        "np.arange(0,20,2)"
      ]
    },
    {
      "cell_type": "markdown",
      "metadata": {
        "id": "nEgilHzRLRVw"
      },
      "source": [
        "#### np.zeros(n) (vector)\n",
        "* El método np.zeros(n) crea un array con la cantidad de ceros indicados en n."
      ]
    },
    {
      "cell_type": "code",
      "execution_count": null,
      "metadata": {
        "id": "HN1MvZ0RLRVw",
        "outputId": "db56a7cc-79cd-40b7-b064-402c86267bae"
      },
      "outputs": [
        {
          "data": {
            "text/plain": [
              "array([0., 0., 0.])"
            ]
          },
          "execution_count": 31,
          "metadata": {},
          "output_type": "execute_result"
        }
      ],
      "source": [
        "np.zeros(3)"
      ]
    },
    {
      "cell_type": "markdown",
      "metadata": {
        "id": "g2J8wkCwLRVw"
      },
      "source": [
        "#### np.zeros((n,m)) (matriz)\n",
        "* Crea una matriz de ceros con la sintaxis np.zeros((n,m)) ==> n y m son pasados como parámetros."
      ]
    },
    {
      "cell_type": "code",
      "execution_count": null,
      "metadata": {
        "scrolled": false,
        "id": "-OZ2bekvLRVx",
        "outputId": "120cbd41-5e0f-40a3-a06c-e3b76c7a7559"
      },
      "outputs": [
        {
          "data": {
            "text/plain": [
              "array([[0., 0., 0., 0., 0., 0., 0., 0., 0., 0.],\n",
              "       [0., 0., 0., 0., 0., 0., 0., 0., 0., 0.],\n",
              "       [0., 0., 0., 0., 0., 0., 0., 0., 0., 0.],\n",
              "       [0., 0., 0., 0., 0., 0., 0., 0., 0., 0.],\n",
              "       [0., 0., 0., 0., 0., 0., 0., 0., 0., 0.],\n",
              "       [0., 0., 0., 0., 0., 0., 0., 0., 0., 0.],\n",
              "       [0., 0., 0., 0., 0., 0., 0., 0., 0., 0.],\n",
              "       [0., 0., 0., 0., 0., 0., 0., 0., 0., 0.],\n",
              "       [0., 0., 0., 0., 0., 0., 0., 0., 0., 0.],\n",
              "       [0., 0., 0., 0., 0., 0., 0., 0., 0., 0.]])"
            ]
          },
          "execution_count": 28,
          "metadata": {},
          "output_type": "execute_result"
        }
      ],
      "source": [
        "#np.zeros((3,3))\n",
        "np.zeros((10,10))"
      ]
    },
    {
      "cell_type": "markdown",
      "metadata": {
        "id": "tCgB7BocLRVx"
      },
      "source": [
        "#### np.ones((n,m))\n",
        "* Crea una matriz de unos con la sintaxis np.ones((n,m)) ==> n y m son pasados como parámetros."
      ]
    },
    {
      "cell_type": "code",
      "execution_count": null,
      "metadata": {
        "id": "QQJdtu8cLRVx",
        "outputId": "6656818c-cf98-458c-8a86-c097cf9963c7"
      },
      "outputs": [
        {
          "data": {
            "text/plain": [
              "array([[1., 1., 1., 1., 1.],\n",
              "       [1., 1., 1., 1., 1.],\n",
              "       [1., 1., 1., 1., 1.],\n",
              "       [1., 1., 1., 1., 1.],\n",
              "       [1., 1., 1., 1., 1.],\n",
              "       [1., 1., 1., 1., 1.],\n",
              "       [1., 1., 1., 1., 1.],\n",
              "       [1., 1., 1., 1., 1.],\n",
              "       [1., 1., 1., 1., 1.],\n",
              "       [1., 1., 1., 1., 1.]])"
            ]
          },
          "execution_count": 30,
          "metadata": {},
          "output_type": "execute_result"
        }
      ],
      "source": [
        "np.ones((10,10))"
      ]
    },
    {
      "cell_type": "markdown",
      "metadata": {
        "id": "GUXTD1EoLRVy"
      },
      "source": [
        "#### np.linspace(min,max,cant)\n",
        "* Crea una distribución normalizada y ordenada de datos del 0 al 10 generados a partir de 100 datos."
      ]
    },
    {
      "cell_type": "code",
      "execution_count": null,
      "metadata": {
        "scrolled": true,
        "id": "2yex8q0HLRVy",
        "outputId": "e852462c-1d0e-4ee2-849e-fcbb56ef2d26"
      },
      "outputs": [
        {
          "data": {
            "text/plain": [
              "array([ 0.        ,  0.1010101 ,  0.2020202 ,  0.3030303 ,  0.4040404 ,\n",
              "        0.50505051,  0.60606061,  0.70707071,  0.80808081,  0.90909091,\n",
              "        1.01010101,  1.11111111,  1.21212121,  1.31313131,  1.41414141,\n",
              "        1.51515152,  1.61616162,  1.71717172,  1.81818182,  1.91919192,\n",
              "        2.02020202,  2.12121212,  2.22222222,  2.32323232,  2.42424242,\n",
              "        2.52525253,  2.62626263,  2.72727273,  2.82828283,  2.92929293,\n",
              "        3.03030303,  3.13131313,  3.23232323,  3.33333333,  3.43434343,\n",
              "        3.53535354,  3.63636364,  3.73737374,  3.83838384,  3.93939394,\n",
              "        4.04040404,  4.14141414,  4.24242424,  4.34343434,  4.44444444,\n",
              "        4.54545455,  4.64646465,  4.74747475,  4.84848485,  4.94949495,\n",
              "        5.05050505,  5.15151515,  5.25252525,  5.35353535,  5.45454545,\n",
              "        5.55555556,  5.65656566,  5.75757576,  5.85858586,  5.95959596,\n",
              "        6.06060606,  6.16161616,  6.26262626,  6.36363636,  6.46464646,\n",
              "        6.56565657,  6.66666667,  6.76767677,  6.86868687,  6.96969697,\n",
              "        7.07070707,  7.17171717,  7.27272727,  7.37373737,  7.47474747,\n",
              "        7.57575758,  7.67676768,  7.77777778,  7.87878788,  7.97979798,\n",
              "        8.08080808,  8.18181818,  8.28282828,  8.38383838,  8.48484848,\n",
              "        8.58585859,  8.68686869,  8.78787879,  8.88888889,  8.98989899,\n",
              "        9.09090909,  9.19191919,  9.29292929,  9.39393939,  9.49494949,\n",
              "        9.5959596 ,  9.6969697 ,  9.7979798 ,  9.8989899 , 10.        ])"
            ]
          },
          "execution_count": 17,
          "metadata": {},
          "output_type": "execute_result"
        }
      ],
      "source": [
        "np.linspace(0,10,100) #Crea una distribución normalizada y ordenada de datos del 0 al 10 generados a partir de 100 datos."
      ]
    },
    {
      "cell_type": "markdown",
      "metadata": {
        "id": "VTFmfeq3LRVy"
      },
      "source": [
        "#### np.eye(n)\n",
        "* Genera una matriz identidad NxN donde N es el valor pasado como parámetro."
      ]
    },
    {
      "cell_type": "code",
      "execution_count": null,
      "metadata": {
        "id": "l9GSGYouLRVy",
        "outputId": "79c9ca4a-387b-4a9b-ab74-2434328f1a19"
      },
      "outputs": [
        {
          "data": {
            "text/plain": [
              "array([[1., 0., 0., 0.],\n",
              "       [0., 1., 0., 0.],\n",
              "       [0., 0., 1., 0.],\n",
              "       [0., 0., 0., 1.]])"
            ]
          },
          "execution_count": 19,
          "metadata": {},
          "output_type": "execute_result"
        }
      ],
      "source": [
        "np.eye(4) "
      ]
    },
    {
      "cell_type": "markdown",
      "metadata": {
        "id": "peP6tZudLRVz"
      },
      "source": [
        "#### np.random\n",
        "* np.random.rand() genera un escalar del 0 al 1.\n",
        "* np.random.rand(n) generara un array con n cantidad de elementos del 0 al 1.\n",
        "* np.rand(n,m) genera una matriz de n,m cantidad de elementos del 0 al 1.\n",
        "* np.randint(min,max) genera un número aleatorio entre el min y el max.\n",
        "* np.randint(min,max,(n,m)) genera un matriz de n,m de elementos aleatorios entre el min y el max.\n"
      ]
    },
    {
      "cell_type": "code",
      "execution_count": null,
      "metadata": {
        "id": "QxLO_yi8LRVz",
        "outputId": "04bc17c7-b1b4-47bc-944f-95778cf7e3c2"
      },
      "outputs": [
        {
          "data": {
            "text/plain": [
              "0.6906089723726002"
            ]
          },
          "execution_count": 21,
          "metadata": {},
          "output_type": "execute_result"
        }
      ],
      "source": [
        "np.random.rand()"
      ]
    },
    {
      "cell_type": "code",
      "execution_count": null,
      "metadata": {
        "id": "W3IIRMr0LRVz",
        "outputId": "884aa24c-42fb-4ff4-9ed7-573778ab5056"
      },
      "outputs": [
        {
          "data": {
            "text/plain": [
              "array([0.96685689, 0.63863924, 0.42806768, 0.03635644])"
            ]
          },
          "execution_count": 22,
          "metadata": {},
          "output_type": "execute_result"
        }
      ],
      "source": [
        "np.random.rand(4)"
      ]
    },
    {
      "cell_type": "code",
      "execution_count": null,
      "metadata": {
        "id": "OtZpN5rFLRV0",
        "outputId": "7ee41c58-687f-40a5-8378-94becf65935a"
      },
      "outputs": [
        {
          "data": {
            "text/plain": [
              "array([[0.02808761, 0.43323258, 0.50477401, 0.67823693],\n",
              "       [0.52756445, 0.22223687, 0.14752001, 0.8626257 ],\n",
              "       [0.05345123, 0.54952941, 0.33329937, 0.81996029],\n",
              "       [0.37559612, 0.80355444, 0.33105405, 0.64180839]])"
            ]
          },
          "execution_count": 23,
          "metadata": {},
          "output_type": "execute_result"
        }
      ],
      "source": [
        "np.random.rand(4,4)"
      ]
    },
    {
      "cell_type": "code",
      "execution_count": null,
      "metadata": {
        "id": "Ea44MxKaLRV0",
        "outputId": "acd0630e-c710-4309-f8dd-a949dc8b3665"
      },
      "outputs": [
        {
          "data": {
            "text/plain": [
              "14"
            ]
          },
          "execution_count": 24,
          "metadata": {},
          "output_type": "execute_result"
        }
      ],
      "source": [
        "np.random.randint(1,15)"
      ]
    },
    {
      "cell_type": "code",
      "execution_count": 93,
      "metadata": {
        "id": "t6qyYgLoLRV1",
        "outputId": "a383ab94-e845-435e-da47-68149a520736",
        "colab": {
          "base_uri": "https://localhost:8080/"
        }
      },
      "outputs": [
        {
          "output_type": "execute_result",
          "data": {
            "text/plain": [
              "array([[17, 14, 80, 33, 45, 75, 35, 61, 96, 99],\n",
              "       [ 4, 49, 36, 31, 55, 77, 36, 71,  1, 24],\n",
              "       [88, 75,  6, 12, 70, 22, 86,  8, 33, 50],\n",
              "       [ 7, 45, 68, 94, 83, 46, 83, 45, 18, 85],\n",
              "       [39, 29, 55, 96,  5, 37, 61, 77, 54,  3],\n",
              "       [77,  3, 67, 46,  5, 45, 65, 76, 79, 60],\n",
              "       [31, 67,  1, 85, 13,  9,  1, 80, 59,  4],\n",
              "       [88, 98, 74, 66,  8, 85, 37, 65, 68, 17],\n",
              "       [49, 83, 84, 38, 42, 24, 77,  6, 35, 37],\n",
              "       [79, 39, 93, 67, 77, 44, 32, 63, 34, 25]])"
            ]
          },
          "metadata": {},
          "execution_count": 93
        }
      ],
      "source": [
        "np.random.randint(1,100,(10,10))"
      ]
    },
    {
      "cell_type": "markdown",
      "metadata": {
        "id": "940jF-MqLRV1"
      },
      "source": [
        "### 1.5 Shape y Reshape\n",
        "El método shape nos permite ver como está construido el objeto numpy, eso quiere decir que nos muestra las dimensiones y el reshape nos da la opción de ordenarlos de diferente forma siempre y cuando se respete la cantidad de elementos en el objeto numpy."
      ]
    },
    {
      "cell_type": "code",
      "execution_count": 14,
      "metadata": {
        "id": "RovB-ckxLRV1"
      },
      "outputs": [],
      "source": [
        "arr = np.random.randint(1,10,(3,2))"
      ]
    },
    {
      "cell_type": "code",
      "source": [
        "arr.shape"
      ],
      "metadata": {
        "colab": {
          "base_uri": "https://localhost:8080/"
        },
        "id": "f-8aA83CXaxb",
        "outputId": "aa371d5a-0987-4118-b576-bdab6192ffe4"
      },
      "execution_count": 15,
      "outputs": [
        {
          "output_type": "execute_result",
          "data": {
            "text/plain": [
              "(3, 2)"
            ]
          },
          "metadata": {},
          "execution_count": 15
        }
      ]
    },
    {
      "cell_type": "code",
      "source": [
        "arr"
      ],
      "metadata": {
        "colab": {
          "base_uri": "https://localhost:8080/"
        },
        "id": "9GELwHPYXnLy",
        "outputId": "376d2ff4-8f8c-4135-a96f-c2cd50d7e2a2"
      },
      "execution_count": 16,
      "outputs": [
        {
          "output_type": "execute_result",
          "data": {
            "text/plain": [
              "array([[6, 8],\n",
              "       [1, 7],\n",
              "       [7, 1]])"
            ]
          },
          "metadata": {},
          "execution_count": 16
        }
      ]
    },
    {
      "cell_type": "code",
      "source": [
        "arr.reshape(1,6)\n",
        "#arr.reshape(2,3)\n",
        "#arr.reshape(6,1)"
      ],
      "metadata": {
        "colab": {
          "base_uri": "https://localhost:8080/"
        },
        "id": "H5i9JX6sXqPA",
        "outputId": "f827ec79-df2f-4beb-fbda-bf291800b8d7"
      },
      "execution_count": 21,
      "outputs": [
        {
          "output_type": "execute_result",
          "data": {
            "text/plain": [
              "array([[6, 8, 1, 7, 7, 1]])"
            ]
          },
          "metadata": {},
          "execution_count": 21
        }
      ]
    },
    {
      "cell_type": "code",
      "source": [
        "np.reshape(arr,(1,6))"
      ],
      "metadata": {
        "colab": {
          "base_uri": "https://localhost:8080/"
        },
        "id": "q3TrscFphf4N",
        "outputId": "3a7a106d-eb49-47a2-9806-c62da7ba9b21"
      },
      "execution_count": 20,
      "outputs": [
        {
          "output_type": "execute_result",
          "data": {
            "text/plain": [
              "array([[6, 8, 1, 7, 7, 1]])"
            ]
          },
          "metadata": {},
          "execution_count": 20
        }
      ]
    },
    {
      "cell_type": "code",
      "source": [
        "np.reshape(arr,(2,3),'C')"
      ],
      "metadata": {
        "colab": {
          "base_uri": "https://localhost:8080/"
        },
        "id": "x6J7AN_Ohois",
        "outputId": "e512a1e8-92a6-4c16-a369-e6adf18d1364"
      },
      "execution_count": 22,
      "outputs": [
        {
          "output_type": "execute_result",
          "data": {
            "text/plain": [
              "array([[6, 8, 1],\n",
              "       [7, 7, 1]])"
            ]
          },
          "metadata": {},
          "execution_count": 22
        }
      ]
    },
    {
      "cell_type": "code",
      "source": [
        "np.reshape(arr,(2,3),'F')"
      ],
      "metadata": {
        "colab": {
          "base_uri": "https://localhost:8080/"
        },
        "id": "CACoePmSiBsR",
        "outputId": "b97790d6-377b-46b1-e1b1-4af598cec948"
      },
      "execution_count": 23,
      "outputs": [
        {
          "output_type": "execute_result",
          "data": {
            "text/plain": [
              "array([[6, 7, 7],\n",
              "       [1, 8, 1]])"
            ]
          },
          "metadata": {},
          "execution_count": 23
        }
      ]
    },
    {
      "cell_type": "code",
      "source": [
        "np.reshape(arr,(2,3),'A')"
      ],
      "metadata": {
        "colab": {
          "base_uri": "https://localhost:8080/"
        },
        "id": "Mv9LZI2JiI4N",
        "outputId": "4423bb43-4cb8-4d0d-c080-59d87ed20d5c"
      },
      "execution_count": 24,
      "outputs": [
        {
          "output_type": "execute_result",
          "data": {
            "text/plain": [
              "array([[6, 8, 1],\n",
              "       [7, 7, 1]])"
            ]
          },
          "metadata": {},
          "execution_count": 24
        }
      ]
    },
    {
      "cell_type": "markdown",
      "source": [
        "### 1.6 Funciones Principales de Numpy"
      ],
      "metadata": {
        "id": "4eaUNDC5j8al"
      }
    },
    {
      "cell_type": "code",
      "source": [
        "arr = np.random.randint(1,20,10)"
      ],
      "metadata": {
        "id": "ZzsnWC50kAK_"
      },
      "execution_count": 26,
      "outputs": []
    },
    {
      "cell_type": "code",
      "source": [
        "arr"
      ],
      "metadata": {
        "colab": {
          "base_uri": "https://localhost:8080/"
        },
        "id": "wgV8lxLVlNh0",
        "outputId": "b6675ca9-1fba-4fd5-93a4-5290e8efd0d4"
      },
      "execution_count": 33,
      "outputs": [
        {
          "output_type": "execute_result",
          "data": {
            "text/plain": [
              "array([ 2,  1,  9,  5, 11, 14,  2,  6,  9, 17])"
            ]
          },
          "metadata": {},
          "execution_count": 33
        }
      ]
    },
    {
      "cell_type": "code",
      "source": [
        "matriz = arr.reshape(2,5)"
      ],
      "metadata": {
        "id": "VxOMLBS-lAjR"
      },
      "execution_count": 34,
      "outputs": []
    },
    {
      "cell_type": "code",
      "source": [
        "matriz"
      ],
      "metadata": {
        "colab": {
          "base_uri": "https://localhost:8080/"
        },
        "id": "rTvIojMQlrbD",
        "outputId": "3393da96-6f9d-4c99-c704-95e834bb0cfb"
      },
      "execution_count": 35,
      "outputs": [
        {
          "output_type": "execute_result",
          "data": {
            "text/plain": [
              "array([[ 2,  1,  9,  5, 11],\n",
              "       [14,  2,  6,  9, 17]])"
            ]
          },
          "metadata": {},
          "execution_count": 35
        }
      ]
    },
    {
      "cell_type": "markdown",
      "source": [
        "#### max()\n",
        "max() nos trae el valor máximo de un array o de una matriz, este método se le puede pasar dos parámetro como lo son el 0 y el 1.\n",
        "* max(0): Trae los valores máximos de cada columna. Devuelve un array.\n",
        "* max(1): Trae los valores máximos de cada fila. Devuelve un array."
      ],
      "metadata": {
        "id": "QmUkS6ItxEFC"
      }
    },
    {
      "cell_type": "code",
      "source": [
        "arr.max()"
      ],
      "metadata": {
        "colab": {
          "base_uri": "https://localhost:8080/"
        },
        "id": "OCFpSXOQlT7q",
        "outputId": "478ad888-b3d1-444b-e282-029f496032a7"
      },
      "execution_count": 36,
      "outputs": [
        {
          "output_type": "execute_result",
          "data": {
            "text/plain": [
              "17"
            ]
          },
          "metadata": {},
          "execution_count": 36
        }
      ]
    },
    {
      "cell_type": "code",
      "source": [
        "matriz.max()"
      ],
      "metadata": {
        "colab": {
          "base_uri": "https://localhost:8080/"
        },
        "id": "_CO443MJlfum",
        "outputId": "8764d49f-5a34-4d6d-e13d-b22ac3eb0d19"
      },
      "execution_count": 37,
      "outputs": [
        {
          "output_type": "execute_result",
          "data": {
            "text/plain": [
              "17"
            ]
          },
          "metadata": {},
          "execution_count": 37
        }
      ]
    },
    {
      "cell_type": "code",
      "source": [
        "matriz.max(1) #Realiza la búsqueda del mayor por fila\n",
        "#matriz.max(0) #Realiza la búsqueda del mayor por columna"
      ],
      "metadata": {
        "colab": {
          "base_uri": "https://localhost:8080/"
        },
        "id": "iJv9UN4hmASD",
        "outputId": "e87446d3-f6a6-4b4c-80fe-0b21cb6b0f3a"
      },
      "execution_count": 40,
      "outputs": [
        {
          "output_type": "execute_result",
          "data": {
            "text/plain": [
              "array([14,  2,  9,  9, 17])"
            ]
          },
          "metadata": {},
          "execution_count": 40
        }
      ]
    },
    {
      "cell_type": "markdown",
      "source": [
        "#### argmax()\n",
        "argmax() a diferencia del max() este solo trae la posición del valor mayor dentro de la array o matriz, este método se le puede pasar dos paráremtros como lo son el 0 y el 1.\n",
        "* argmax(0): Trae los indices de los valores máximos de cada columna. Devuelve un array.\n",
        "* argmax(1): Trae los indices de los valores máximos de cada fila. Devuelve un array."
      ],
      "metadata": {
        "id": "SE-36Lgixvxb"
      }
    },
    {
      "cell_type": "code",
      "source": [
        "matriz.argmax()"
      ],
      "metadata": {
        "colab": {
          "base_uri": "https://localhost:8080/"
        },
        "id": "JVPiZJNAmjrf",
        "outputId": "d572b5fe-dd88-4a56-cf69-944c66aaff6a"
      },
      "execution_count": 41,
      "outputs": [
        {
          "output_type": "execute_result",
          "data": {
            "text/plain": [
              "9"
            ]
          },
          "metadata": {},
          "execution_count": 41
        }
      ]
    },
    {
      "cell_type": "code",
      "source": [
        "matriz.argmax(0) #Por columna\n",
        "#matriz.argmax(1) #Por fila"
      ],
      "metadata": {
        "colab": {
          "base_uri": "https://localhost:8080/"
        },
        "id": "9dHr09K1mx6y",
        "outputId": "3a98e11c-be9c-4a40-fa8a-704255c968da"
      },
      "execution_count": 45,
      "outputs": [
        {
          "output_type": "execute_result",
          "data": {
            "text/plain": [
              "array([1, 1, 0, 1, 1])"
            ]
          },
          "metadata": {},
          "execution_count": 45
        }
      ]
    },
    {
      "cell_type": "markdown",
      "source": [
        "#### min()\n",
        "min() nos trae el valor mínimo de un array o de una matriz, este método se le puede pasar dos parámetro como lo son el 0 y el 1.\n",
        "* min(0): Trae los valores mínimos de cada columna. Devuelve un array.\n",
        "* min(1): Trae los valores mínimos de cada fila. Devuelve un array."
      ],
      "metadata": {
        "id": "_tEp9QQzyeTo"
      }
    },
    {
      "cell_type": "code",
      "source": [
        "arr.min()"
      ],
      "metadata": {
        "colab": {
          "base_uri": "https://localhost:8080/"
        },
        "id": "kvi_TgLZwSIU",
        "outputId": "f5d81784-a0dd-4241-8c92-3bd996d78520"
      },
      "execution_count": 46,
      "outputs": [
        {
          "output_type": "execute_result",
          "data": {
            "text/plain": [
              "1"
            ]
          },
          "metadata": {},
          "execution_count": 46
        }
      ]
    },
    {
      "cell_type": "code",
      "source": [
        "matriz.min()"
      ],
      "metadata": {
        "colab": {
          "base_uri": "https://localhost:8080/"
        },
        "id": "16orzxGQwZg1",
        "outputId": "0319a329-0284-475b-a24e-371b611a70cc"
      },
      "execution_count": 48,
      "outputs": [
        {
          "output_type": "execute_result",
          "data": {
            "text/plain": [
              "1"
            ]
          },
          "metadata": {},
          "execution_count": 48
        }
      ]
    },
    {
      "cell_type": "code",
      "source": [
        "#matriz.min(0)\n",
        "matriz.min(1)"
      ],
      "metadata": {
        "colab": {
          "base_uri": "https://localhost:8080/"
        },
        "id": "oDCDeMcJweKB",
        "outputId": "e641dcf8-b46a-471e-9f9d-2f711f84ed1e"
      },
      "execution_count": 50,
      "outputs": [
        {
          "output_type": "execute_result",
          "data": {
            "text/plain": [
              "array([1, 2])"
            ]
          },
          "metadata": {},
          "execution_count": 50
        }
      ]
    },
    {
      "cell_type": "markdown",
      "source": [
        "#### argmin()\n",
        "argmin() a diferencia del min() este solo trae la posición del valor menor dentro de la array o matriz, este método se le puede pasar dos paráremtros como lo son el 0 y el 1.\n",
        "* argmin(0): Trae los indices de los valores mínimos de cada columna. Devuelve un array.\n",
        "* argmax(1): Trae los indices de los valores mínimos de cada fila. Devuelve un array."
      ],
      "metadata": {
        "id": "fUu8P5dVzBdw"
      }
    },
    {
      "cell_type": "code",
      "source": [
        "matriz.argmin()"
      ],
      "metadata": {
        "colab": {
          "base_uri": "https://localhost:8080/"
        },
        "id": "dbaDDOcTwr5g",
        "outputId": "602f57b4-4974-4839-d898-72bdd5d0b69c"
      },
      "execution_count": 51,
      "outputs": [
        {
          "output_type": "execute_result",
          "data": {
            "text/plain": [
              "1"
            ]
          },
          "metadata": {},
          "execution_count": 51
        }
      ]
    },
    {
      "cell_type": "code",
      "source": [
        "matriz.argmin(0)\n",
        "#matriz.argmin(1)"
      ],
      "metadata": {
        "colab": {
          "base_uri": "https://localhost:8080/"
        },
        "id": "X_2NjtFkwwb8",
        "outputId": "4973cd3e-8bd5-4c38-c21f-ef9170936f95"
      },
      "execution_count": 52,
      "outputs": [
        {
          "output_type": "execute_result",
          "data": {
            "text/plain": [
              "array([0, 0, 1, 0, 0])"
            ]
          },
          "metadata": {},
          "execution_count": 52
        }
      ]
    },
    {
      "cell_type": "markdown",
      "source": [
        "#### ptp()\n",
        "Calcula la diferencia entre el valor máximo y el mínimo de cada array o matriz. Al igual que los otros métodos podemos aplicarlo a las filas y a las columnas"
      ],
      "metadata": {
        "id": "52uwNYKizTSy"
      }
    },
    {
      "cell_type": "code",
      "source": [
        "arr.ptp()"
      ],
      "metadata": {
        "colab": {
          "base_uri": "https://localhost:8080/"
        },
        "id": "d1NTZEC1zWKw",
        "outputId": "27e151fe-3a73-460d-8888-8e0749061011"
      },
      "execution_count": 57,
      "outputs": [
        {
          "output_type": "execute_result",
          "data": {
            "text/plain": [
              "16"
            ]
          },
          "metadata": {},
          "execution_count": 57
        }
      ]
    },
    {
      "cell_type": "code",
      "source": [
        "matriz.ptp()"
      ],
      "metadata": {
        "colab": {
          "base_uri": "https://localhost:8080/"
        },
        "id": "uKHLaUOezqQt",
        "outputId": "082c48c5-7574-49d5-ca1b-ce78679e4733"
      },
      "execution_count": 58,
      "outputs": [
        {
          "output_type": "execute_result",
          "data": {
            "text/plain": [
              "16"
            ]
          },
          "metadata": {},
          "execution_count": 58
        }
      ]
    },
    {
      "cell_type": "code",
      "source": [
        "matriz"
      ],
      "metadata": {
        "colab": {
          "base_uri": "https://localhost:8080/"
        },
        "id": "1FigcWNIz23H",
        "outputId": "98f55a5a-19bf-4e78-ecd1-0cad44316a8d"
      },
      "execution_count": 61,
      "outputs": [
        {
          "output_type": "execute_result",
          "data": {
            "text/plain": [
              "array([[ 2,  1,  9,  5, 11],\n",
              "       [14,  2,  6,  9, 17]])"
            ]
          },
          "metadata": {},
          "execution_count": 61
        }
      ]
    },
    {
      "cell_type": "code",
      "source": [
        "matriz.ptp(0)\n",
        "#matriz.ptp(1)"
      ],
      "metadata": {
        "colab": {
          "base_uri": "https://localhost:8080/"
        },
        "id": "ZIWKk3pDzxMl",
        "outputId": "bb1fb764-6a34-4ff7-f0b9-c1657a789085"
      },
      "execution_count": 60,
      "outputs": [
        {
          "output_type": "execute_result",
          "data": {
            "text/plain": [
              "array([12,  1,  3,  4,  6])"
            ]
          },
          "metadata": {},
          "execution_count": 60
        }
      ]
    },
    {
      "cell_type": "markdown",
      "source": [
        "#### percentile()\n",
        "Los percentiles son valores que dividen un conjunto de datos estadísticos, de forma que un porcentaje de los mismos quede por debajo de dicho valor."
      ],
      "metadata": {
        "id": "iwuNom3t0UqZ"
      }
    },
    {
      "cell_type": "code",
      "source": [
        "arr.sort() #sort() es un método que nos permite ordenar los elementos.\n",
        "print(arr)\n",
        "matriz.sort()\n",
        "print(f'=====================\\n{matriz}')"
      ],
      "metadata": {
        "colab": {
          "base_uri": "https://localhost:8080/"
        },
        "id": "6fNnRHXV1sBI",
        "outputId": "270af648-86fb-49d7-a005-4e9e33bf98f1"
      },
      "execution_count": 81,
      "outputs": [
        {
          "output_type": "stream",
          "name": "stdout",
          "text": [
            "[ 1  2  2  5  6  9  9 11 14 17]\n",
            "=====================\n",
            "[[ 1  2  2  5  6]\n",
            " [ 9  9 11 14 17]]\n"
          ]
        }
      ]
    },
    {
      "cell_type": "code",
      "source": [
        "np.percentile(arr,50)"
      ],
      "metadata": {
        "colab": {
          "base_uri": "https://localhost:8080/"
        },
        "id": "Cd7zpm8Z1LIK",
        "outputId": "5f744fba-5a90-4521-fb9f-522fa7c78dd8"
      },
      "execution_count": 63,
      "outputs": [
        {
          "output_type": "execute_result",
          "data": {
            "text/plain": [
              "7.5"
            ]
          },
          "metadata": {},
          "execution_count": 63
        }
      ]
    },
    {
      "cell_type": "code",
      "source": [
        "np.percentile(matriz,50)"
      ],
      "metadata": {
        "colab": {
          "base_uri": "https://localhost:8080/"
        },
        "id": "SFUEqsXi1E1Q",
        "outputId": "541bf225-2672-4428-852b-5ee821f31a46"
      },
      "execution_count": 64,
      "outputs": [
        {
          "output_type": "execute_result",
          "data": {
            "text/plain": [
              "7.5"
            ]
          },
          "metadata": {},
          "execution_count": 64
        }
      ]
    },
    {
      "cell_type": "markdown",
      "source": [
        "#### median()\n",
        "Calcula la mediana de un conjunto de datos.\n",
        "Al igual que todas la funciones que hemos visto hasta aquí nos permite realizar estas operaciones de forma general, por fila y columna"
      ],
      "metadata": {
        "id": "dGWAB0oO4ttT"
      }
    },
    {
      "cell_type": "code",
      "source": [
        "np.median(arr)"
      ],
      "metadata": {
        "id": "rgi3Z5_N4yy_"
      },
      "execution_count": null,
      "outputs": []
    },
    {
      "cell_type": "code",
      "source": [
        "np.median(matriz,1)"
      ],
      "metadata": {
        "colab": {
          "base_uri": "https://localhost:8080/"
        },
        "id": "jQzSHWsu41kY",
        "outputId": "4555307e-613e-41cd-acb7-54afbd942521"
      },
      "execution_count": 84,
      "outputs": [
        {
          "output_type": "execute_result",
          "data": {
            "text/plain": [
              "array([ 2., 11.])"
            ]
          },
          "metadata": {},
          "execution_count": 84
        }
      ]
    },
    {
      "cell_type": "markdown",
      "source": [
        "#### std()\n",
        "Nos permite conocer la desviación estándar de un conjunto de datos.\n",
        "Se puede calcular de forma general o por filas o por columnas."
      ],
      "metadata": {
        "id": "sog7KevF5Jcq"
      }
    },
    {
      "cell_type": "code",
      "source": [
        "np.std(arr)"
      ],
      "metadata": {
        "colab": {
          "base_uri": "https://localhost:8080/"
        },
        "id": "hIZqlaG35ZpQ",
        "outputId": "73619b16-254c-4ae6-dfff-d15e3ede2013"
      },
      "execution_count": 85,
      "outputs": [
        {
          "output_type": "execute_result",
          "data": {
            "text/plain": [
              "5.102940328869229"
            ]
          },
          "metadata": {},
          "execution_count": 85
        }
      ]
    },
    {
      "cell_type": "code",
      "source": [
        "np.std(matriz,0)"
      ],
      "metadata": {
        "colab": {
          "base_uri": "https://localhost:8080/"
        },
        "id": "HxJ0632x5dL3",
        "outputId": "3af9b666-c586-4004-c919-f1583318f0b1"
      },
      "execution_count": 86,
      "outputs": [
        {
          "output_type": "execute_result",
          "data": {
            "text/plain": [
              "array([4. , 3.5, 4.5, 4.5, 5.5])"
            ]
          },
          "metadata": {},
          "execution_count": 86
        }
      ]
    },
    {
      "cell_type": "markdown",
      "source": [
        "#### var()\n",
        "Podemos tener la varianza en un conjunto de datos. Se puede calcular de forma general o por filas o por columnas."
      ],
      "metadata": {
        "id": "uAQrRIJY5pZd"
      }
    },
    {
      "cell_type": "code",
      "source": [
        "np.var(arr)"
      ],
      "metadata": {
        "colab": {
          "base_uri": "https://localhost:8080/"
        },
        "id": "1DyUpp8s5yr3",
        "outputId": "eda464bb-7bbd-4dd6-d428-481b7fc618cb"
      },
      "execution_count": 87,
      "outputs": [
        {
          "output_type": "execute_result",
          "data": {
            "text/plain": [
              "26.04"
            ]
          },
          "metadata": {},
          "execution_count": 87
        }
      ]
    },
    {
      "cell_type": "code",
      "source": [
        "np.var(matriz,0)"
      ],
      "metadata": {
        "id": "-DHx1EiQ51Jt"
      },
      "execution_count": null,
      "outputs": []
    },
    {
      "cell_type": "markdown",
      "source": [
        "#### mean()\n",
        "Calcula la media de un conjunto de datos. Se puede calcular de forma general o por filas o por columnas."
      ],
      "metadata": {
        "id": "Lk_RWuNY6DR5"
      }
    },
    {
      "cell_type": "code",
      "source": [
        "np.mean(arr)"
      ],
      "metadata": {
        "colab": {
          "base_uri": "https://localhost:8080/"
        },
        "id": "TLUSpZSC6N6O",
        "outputId": "2af9244a-b577-4aa7-8cad-10bc65dd8905"
      },
      "execution_count": 89,
      "outputs": [
        {
          "output_type": "execute_result",
          "data": {
            "text/plain": [
              "7.6"
            ]
          },
          "metadata": {},
          "execution_count": 89
        }
      ]
    },
    {
      "cell_type": "code",
      "source": [
        "np.mean(matriz)"
      ],
      "metadata": {
        "colab": {
          "base_uri": "https://localhost:8080/"
        },
        "id": "GrIlK4yK6TUJ",
        "outputId": "24c8d02b-abe3-41ea-8e4b-ea598a595491"
      },
      "execution_count": 91,
      "outputs": [
        {
          "output_type": "execute_result",
          "data": {
            "text/plain": [
              "7.6"
            ]
          },
          "metadata": {},
          "execution_count": 91
        }
      ]
    },
    {
      "cell_type": "code",
      "source": [
        "np.mean(matriz,0)"
      ],
      "metadata": {
        "colab": {
          "base_uri": "https://localhost:8080/"
        },
        "id": "1hZ4-Jf36YES",
        "outputId": "f7ad9e95-632b-474a-fe2d-db1e2e43bb40"
      },
      "execution_count": 92,
      "outputs": [
        {
          "output_type": "execute_result",
          "data": {
            "text/plain": [
              "array([ 5. ,  5.5,  6.5,  9.5, 11.5])"
            ]
          },
          "metadata": {},
          "execution_count": 92
        }
      ]
    },
    {
      "cell_type": "markdown",
      "source": [
        "#### concatener(array1,array2)\n",
        "Nos permite concatenear arrays."
      ],
      "metadata": {
        "id": "p45-IvPe6aPo"
      }
    },
    {
      "cell_type": "code",
      "source": [
        "a = np.random.randint(1,10,(2,2))\n",
        "b = np.random.randint(1,10,(2,2))"
      ],
      "metadata": {
        "id": "GoAlotjS6scq"
      },
      "execution_count": 124,
      "outputs": []
    },
    {
      "cell_type": "code",
      "source": [
        "a,b"
      ],
      "metadata": {
        "colab": {
          "base_uri": "https://localhost:8080/"
        },
        "id": "QdE02yCK7TLN",
        "outputId": "94e05323-5086-42cd-9187-5e6295050da8"
      },
      "execution_count": 99,
      "outputs": [
        {
          "output_type": "execute_result",
          "data": {
            "text/plain": [
              "(array([[7, 4],\n",
              "        [2, 8]]),\n",
              " array([[8, 4],\n",
              "        [5, 1]]))"
            ]
          },
          "metadata": {},
          "execution_count": 99
        }
      ]
    },
    {
      "cell_type": "code",
      "source": [
        "np.concatenate((a,b))"
      ],
      "metadata": {
        "colab": {
          "base_uri": "https://localhost:8080/"
        },
        "id": "Aex7_H9e7YXh",
        "outputId": "e107248b-a819-4cca-bb1e-d30db40ef819"
      },
      "execution_count": 100,
      "outputs": [
        {
          "output_type": "execute_result",
          "data": {
            "text/plain": [
              "array([[7, 4],\n",
              "       [2, 8],\n",
              "       [8, 4],\n",
              "       [5, 1]])"
            ]
          },
          "metadata": {},
          "execution_count": 100
        }
      ]
    },
    {
      "cell_type": "code",
      "source": [
        "np.concatenate((a,b),axis=1)"
      ],
      "metadata": {
        "colab": {
          "base_uri": "https://localhost:8080/"
        },
        "id": "5rPX81V07pse",
        "outputId": "e2db1c7e-4171-43c2-e76e-0780d02d60de"
      },
      "execution_count": 104,
      "outputs": [
        {
          "output_type": "execute_result",
          "data": {
            "text/plain": [
              "array([[7, 4, 8, 4],\n",
              "       [2, 8, 5, 1]])"
            ]
          },
          "metadata": {},
          "execution_count": 104
        }
      ]
    },
    {
      "cell_type": "markdown",
      "source": [
        "#### expand_dim()\n",
        "Nos permite expandir la dimensión de un array."
      ],
      "metadata": {
        "id": "BTpu2pSk8ozS"
      }
    },
    {
      "cell_type": "code",
      "source": [
        "c = np.array([1,2])\n",
        "c.ndim"
      ],
      "metadata": {
        "colab": {
          "base_uri": "https://localhost:8080/"
        },
        "id": "kcXn6J_48P7W",
        "outputId": "d1a27be6-61b1-434f-b38b-1049e21bff68"
      },
      "execution_count": 147,
      "outputs": [
        {
          "output_type": "execute_result",
          "data": {
            "text/plain": [
              "1"
            ]
          },
          "metadata": {},
          "execution_count": 147
        }
      ]
    },
    {
      "cell_type": "code",
      "source": [
        "c = np.expand_dims(c,axis=0)\n",
        "c"
      ],
      "metadata": {
        "colab": {
          "base_uri": "https://localhost:8080/"
        },
        "id": "WifV0ZSt9oe_",
        "outputId": "dbf515b8-f85a-4b9f-d276-cd8e7cc744df"
      },
      "execution_count": 139,
      "outputs": [
        {
          "output_type": "execute_result",
          "data": {
            "text/plain": [
              "array([[1, 2]])"
            ]
          },
          "metadata": {},
          "execution_count": 139
        }
      ]
    },
    {
      "cell_type": "code",
      "source": [
        "c = np.expand_dims(c,axis=1)\n",
        "c"
      ],
      "metadata": {
        "colab": {
          "base_uri": "https://localhost:8080/"
        },
        "id": "l3T9hmjL9AhM",
        "outputId": "600e34fb-676d-4fa1-baa9-4c108fd47d26"
      },
      "execution_count": 131,
      "outputs": [
        {
          "output_type": "execute_result",
          "data": {
            "text/plain": [
              "array([[1],\n",
              "       [2]])"
            ]
          },
          "metadata": {},
          "execution_count": 131
        }
      ]
    },
    {
      "cell_type": "code",
      "source": [
        "np.concatenate((a,c),axis=0)\n",
        "#np.concatenate((a,c),axis=1) #Nos genera un error porque aunque sean de la misma dimensión, no son del mismo tamaño de la matriz."
      ],
      "metadata": {
        "colab": {
          "base_uri": "https://localhost:8080/"
        },
        "id": "vYgtEMl096tt",
        "outputId": "5cc427d5-8617-41f1-ee5d-91980b7c3dc3"
      },
      "execution_count": 144,
      "outputs": [
        {
          "output_type": "execute_result",
          "data": {
            "text/plain": [
              "array([[6, 3],\n",
              "       [7, 7],\n",
              "       [1, 2]])"
            ]
          },
          "metadata": {},
          "execution_count": 144
        }
      ]
    },
    {
      "cell_type": "markdown",
      "source": [
        "#### T (Transpuesta de una matriz)"
      ],
      "metadata": {
        "id": "_EMZgbub_akg"
      }
    },
    {
      "cell_type": "code",
      "source": [
        "d = np.random.randint(2,10,(2,3))\n",
        "d"
      ],
      "metadata": {
        "colab": {
          "base_uri": "https://localhost:8080/"
        },
        "id": "wGa89aJx_dwZ",
        "outputId": "fb822673-58ef-4ca5-e6c9-8fa2dadef3d9"
      },
      "execution_count": 151,
      "outputs": [
        {
          "output_type": "execute_result",
          "data": {
            "text/plain": [
              "array([[9, 4, 6],\n",
              "       [7, 7, 8]])"
            ]
          },
          "metadata": {},
          "execution_count": 151
        }
      ]
    },
    {
      "cell_type": "code",
      "source": [
        "d.T"
      ],
      "metadata": {
        "colab": {
          "base_uri": "https://localhost:8080/"
        },
        "id": "X0KgpwmD_8s8",
        "outputId": "162154a5-c8c5-423d-83c6-2eeda19d9fd4"
      },
      "execution_count": 152,
      "outputs": [
        {
          "output_type": "execute_result",
          "data": {
            "text/plain": [
              "array([[9, 7],\n",
              "       [4, 7],\n",
              "       [6, 8]])"
            ]
          },
          "metadata": {},
          "execution_count": 152
        }
      ]
    }
  ],
  "metadata": {
    "kernelspec": {
      "display_name": "Python 3 (ipykernel)",
      "language": "python",
      "name": "python3"
    },
    "language_info": {
      "codemirror_mode": {
        "name": "ipython",
        "version": 3
      },
      "file_extension": ".py",
      "mimetype": "text/x-python",
      "name": "python",
      "nbconvert_exporter": "python",
      "pygments_lexer": "ipython3",
      "version": "3.11.3"
    },
    "colab": {
      "provenance": [],
      "include_colab_link": true
    }
  },
  "nbformat": 4,
  "nbformat_minor": 0
}