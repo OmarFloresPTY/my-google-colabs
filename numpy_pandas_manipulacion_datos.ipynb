{
  "cells": [
    {
      "cell_type": "markdown",
      "metadata": {
        "id": "view-in-github",
        "colab_type": "text"
      },
      "source": [
        "<a href=\"https://colab.research.google.com/github/OmarFloresPTY/my-google-colabs/blob/master/numpy_pandas_manipulacion_datos.ipynb\" target=\"_parent\"><img src=\"https://colab.research.google.com/assets/colab-badge.svg\" alt=\"Open In Colab\"/></a>"
      ]
    },
    {
      "cell_type": "markdown",
      "metadata": {
        "id": "4QOj2wbhLRVD"
      },
      "source": [
        "# Manipulación y Transformación de Datos con Pandas y Numpy 📓🧮🐍"
      ]
    },
    {
      "cell_type": "markdown",
      "metadata": {
        "id": "pCckof4ALRVI"
      },
      "source": [
        "## 1. Uso de la librería Numpy"
      ]
    },
    {
      "cell_type": "code",
      "execution_count": null,
      "metadata": {
        "id": "gZTfHqfkLRVL"
      },
      "outputs": [],
      "source": [
        "import numpy as np"
      ]
    },
    {
      "cell_type": "markdown",
      "metadata": {
        "id": "18BDjqCcLRVP"
      },
      "source": [
        "### 1.1 Aprendiendo sobre los arrays y matrices {bidi,tridi}.mensionales"
      ]
    },
    {
      "cell_type": "code",
      "execution_count": null,
      "metadata": {
        "id": "AYSGCe1fLRVQ",
        "outputId": "81050fec-828e-4091-b9d1-b0e2a43c02ba"
      },
      "outputs": [
        {
          "data": {
            "text/plain": [
              "[1, 2, 3, 4, 5, 6, 7, 8, 9]"
            ]
          },
          "execution_count": 2,
          "metadata": {},
          "output_type": "execute_result"
        }
      ],
      "source": [
        "lista = [1,2,3,4,5,6,7,8,9]\n",
        "lista"
      ]
    },
    {
      "cell_type": "code",
      "execution_count": null,
      "metadata": {
        "id": "NEU447RKLRVT"
      },
      "outputs": [],
      "source": [
        "arr = np.array(lista)"
      ]
    },
    {
      "cell_type": "code",
      "execution_count": null,
      "metadata": {
        "id": "it8eQRglLRVW",
        "outputId": "4f0bef59-1c53-47b7-c8b3-1061d4abcbc9"
      },
      "outputs": [
        {
          "data": {
            "text/plain": [
              "numpy.ndarray"
            ]
          },
          "execution_count": 4,
          "metadata": {},
          "output_type": "execute_result"
        }
      ],
      "source": [
        "type(arr)"
      ]
    },
    {
      "cell_type": "code",
      "execution_count": null,
      "metadata": {
        "scrolled": true,
        "id": "8YtzOAR4LRVX",
        "outputId": "14f378c1-5b07-4191-8d46-a80faed7ee2b"
      },
      "outputs": [
        {
          "data": {
            "text/plain": [
              "array([[1, 2, 3],\n",
              "       [4, 5, 6],\n",
              "       [7, 8, 9]])"
            ]
          },
          "execution_count": 5,
          "metadata": {},
          "output_type": "execute_result"
        }
      ],
      "source": [
        "matriz = [[1,2,3],[4,5,6],[7,8,9]]\n",
        "matriz = np.array(matriz)\n",
        "matriz"
      ]
    },
    {
      "cell_type": "code",
      "execution_count": null,
      "metadata": {
        "id": "c0TFahiVLRVZ",
        "outputId": "dd2fa1c1-b6b0-48ee-b378-529f8e904765"
      },
      "outputs": [
        {
          "data": {
            "text/plain": [
              "array([1, 2, 3, 4, 5, 6, 7, 8, 9])"
            ]
          },
          "execution_count": 6,
          "metadata": {},
          "output_type": "execute_result"
        }
      ],
      "source": [
        "arr"
      ]
    },
    {
      "cell_type": "code",
      "execution_count": null,
      "metadata": {
        "id": "LG9MVYXJLRVb",
        "outputId": "9e065f7f-4e09-409c-c821-b96fd3195356"
      },
      "outputs": [
        {
          "data": {
            "text/plain": [
              "1"
            ]
          },
          "execution_count": 14,
          "metadata": {},
          "output_type": "execute_result"
        }
      ],
      "source": [
        "arr[0]\n",
        "#arr[1]\n",
        "#arr[8]\n",
        "#arr[9]"
      ]
    },
    {
      "cell_type": "code",
      "execution_count": null,
      "metadata": {
        "id": "IaKsyPXiLRVc",
        "outputId": "75d18120-1bc7-405c-83c3-20e0d52bedaf"
      },
      "outputs": [
        {
          "data": {
            "text/plain": [
              "9"
            ]
          },
          "execution_count": 15,
          "metadata": {},
          "output_type": "execute_result"
        }
      ],
      "source": [
        "len(arr)"
      ]
    },
    {
      "cell_type": "code",
      "execution_count": null,
      "metadata": {
        "id": "iOzEg4SsLRVe",
        "outputId": "d179ae31-aac7-4971-f40e-b822f07f2ce6"
      },
      "outputs": [
        {
          "data": {
            "text/plain": [
              "7"
            ]
          },
          "execution_count": 16,
          "metadata": {},
          "output_type": "execute_result"
        }
      ],
      "source": [
        "arr[0] + arr[5]"
      ]
    },
    {
      "cell_type": "code",
      "execution_count": null,
      "metadata": {
        "id": "UcHHc4dYLRVf",
        "outputId": "59a4cf59-aff4-48dc-dd0a-34935d6d9ca8"
      },
      "outputs": [
        {
          "data": {
            "text/plain": [
              "3"
            ]
          },
          "execution_count": 19,
          "metadata": {},
          "output_type": "execute_result"
        }
      ],
      "source": [
        "matriz[0][2]"
      ]
    },
    {
      "cell_type": "code",
      "execution_count": null,
      "metadata": {
        "id": "k77VHsn9LRVg",
        "outputId": "6fb1141f-9c8b-4579-cfd8-eead86d5c039"
      },
      "outputs": [
        {
          "data": {
            "text/plain": [
              "array([1, 4, 7])"
            ]
          },
          "execution_count": 21,
          "metadata": {},
          "output_type": "execute_result"
        }
      ],
      "source": [
        "#arr[0:4]\n",
        "arr[::3]"
      ]
    },
    {
      "cell_type": "code",
      "execution_count": null,
      "metadata": {
        "id": "K1wY4WMfLRVg",
        "outputId": "c017cd4f-88a3-429b-f391-09b5bed0ef25"
      },
      "outputs": [
        {
          "data": {
            "text/plain": [
              "array([[4, 5],\n",
              "       [7, 8]])"
            ]
          },
          "execution_count": 23,
          "metadata": {},
          "output_type": "execute_result"
        }
      ],
      "source": [
        "matriz[1:,0:2]"
      ]
    },
    {
      "cell_type": "code",
      "execution_count": null,
      "metadata": {
        "id": "bfEbbEPoLRVh"
      },
      "outputs": [],
      "source": [
        "matriz_tridimensional = np.array([\n",
        "    [[1, 2, 3], [4, 5, 6], [7, 8, 9]],\n",
        "    [[10, 11, 12], [13, 14, 15], [16, 17, 18]],\n",
        "    [[19, 20, 21], [22, 23, 24], [25, 26, 27]]\n",
        "])"
      ]
    },
    {
      "cell_type": "code",
      "execution_count": null,
      "metadata": {
        "scrolled": true,
        "id": "5sb_q09wLRVh",
        "outputId": "13fe6eca-ba7b-4417-d042-a87ea3af9ec9"
      },
      "outputs": [
        {
          "data": {
            "text/plain": [
              "array([[[ 1,  2,  3],\n",
              "        [ 4,  5,  6],\n",
              "        [ 7,  8,  9]],\n",
              "\n",
              "       [[10, 11, 12],\n",
              "        [13, 14, 15],\n",
              "        [16, 17, 18]],\n",
              "\n",
              "       [[19, 20, 21],\n",
              "        [22, 23, 24],\n",
              "        [25, 26, 27]]])"
            ]
          },
          "execution_count": 29,
          "metadata": {},
          "output_type": "execute_result"
        }
      ],
      "source": [
        "matriz_tridimensional"
      ]
    },
    {
      "cell_type": "code",
      "execution_count": null,
      "metadata": {
        "id": "kXmr-wq3LRVi",
        "outputId": "1fedcef6-c4ec-433a-b77a-3d2e437fafa7"
      },
      "outputs": [
        {
          "data": {
            "text/plain": [
              "array([[1, 2, 3],\n",
              "       [4, 5, 6],\n",
              "       [7, 8, 9]])"
            ]
          },
          "execution_count": 30,
          "metadata": {},
          "output_type": "execute_result"
        }
      ],
      "source": [
        "#matriz_tridimensional[0]\n",
        "matriz_tridimensional[2]"
      ]
    },
    {
      "cell_type": "code",
      "execution_count": null,
      "metadata": {
        "id": "NeUdC8qhLRVi",
        "outputId": "43a2e0d1-9c49-4924-ccd8-014181009110"
      },
      "outputs": [
        {
          "data": {
            "text/plain": [
              "27"
            ]
          },
          "execution_count": 34,
          "metadata": {},
          "output_type": "execute_result"
        }
      ],
      "source": [
        "matriz_tridimensional[2][2][2]"
      ]
    },
    {
      "cell_type": "code",
      "execution_count": null,
      "metadata": {
        "id": "H4pyhgMALRVj",
        "outputId": "925d665b-393b-4738-9a44-d2156a56673c"
      },
      "outputs": [
        {
          "data": {
            "text/plain": [
              "array([[[10, 11],\n",
              "        [13, 14],\n",
              "        [16, 17]],\n",
              "\n",
              "       [[19, 20],\n",
              "        [22, 23],\n",
              "        [25, 26]]])"
            ]
          },
          "execution_count": 38,
          "metadata": {},
          "output_type": "execute_result"
        }
      ],
      "source": [
        "matriz_tridimensional[1:,:,0:2]"
      ]
    },
    {
      "cell_type": "markdown",
      "metadata": {
        "id": "Me1ZxJBVLRVj"
      },
      "source": [
        "### 1.2 Tipos de datos en Numpy"
      ]
    },
    {
      "cell_type": "markdown",
      "metadata": {
        "id": "CD5s7DWWLRVj"
      },
      "source": [
        "#### Tipo de dato int32"
      ]
    },
    {
      "cell_type": "code",
      "execution_count": null,
      "metadata": {
        "id": "bIR63y2PLRVk"
      },
      "outputs": [],
      "source": [
        "arr=np.array([0,1,2,3,4]) #método manual para crear un array del 0-4"
      ]
    },
    {
      "cell_type": "code",
      "execution_count": null,
      "metadata": {
        "id": "jK4BPiNoLRVk"
      },
      "outputs": [],
      "source": [
        "arr=np.arange(0,5) #método .arange(min,max-1) para crear un array del 0-4"
      ]
    },
    {
      "cell_type": "code",
      "execution_count": null,
      "metadata": {
        "id": "rDwyVmWLLRVl",
        "outputId": "a1ba1316-3f5c-45fc-873a-2afe78cc66f7"
      },
      "outputs": [
        {
          "data": {
            "text/plain": [
              "array([0, 1, 2, 3, 4])"
            ]
          },
          "execution_count": 68,
          "metadata": {},
          "output_type": "execute_result"
        }
      ],
      "source": [
        "arr"
      ]
    },
    {
      "cell_type": "code",
      "execution_count": null,
      "metadata": {
        "id": "84w1-xSSLRVm",
        "outputId": "3a2ee9f2-f5cd-41eb-f998-9c01774b4c5a"
      },
      "outputs": [
        {
          "data": {
            "text/plain": [
              "dtype('int32')"
            ]
          },
          "execution_count": 69,
          "metadata": {},
          "output_type": "execute_result"
        }
      ],
      "source": [
        "arr.dtype"
      ]
    },
    {
      "cell_type": "markdown",
      "metadata": {
        "id": "b3mIGL4qLRVm"
      },
      "source": [
        "#### Tipo de dato float64"
      ]
    },
    {
      "cell_type": "code",
      "execution_count": null,
      "metadata": {
        "id": "duUT3cTQLRVn"
      },
      "outputs": [],
      "source": [
        "arr=np.array([1,2,3,4])"
      ]
    },
    {
      "cell_type": "code",
      "execution_count": null,
      "metadata": {
        "id": "3QP7ivL5LRVn"
      },
      "outputs": [],
      "source": [
        "arr = np.array([1,2,3,4], dtype='float64') #método No.1 para castear un tipo de datos a otro tipo de datos numpy."
      ]
    },
    {
      "cell_type": "code",
      "execution_count": null,
      "metadata": {
        "id": "NKywtOLpLRVn",
        "outputId": "4b961d17-937c-485c-8ee9-d68717b5a7a9"
      },
      "outputs": [
        {
          "data": {
            "text/plain": [
              "array([1., 2., 3., 4.])"
            ]
          },
          "execution_count": 25,
          "metadata": {},
          "output_type": "execute_result"
        }
      ],
      "source": [
        "arr.astype(np.float64) #método No.2 para castear un tipo de datos a otro tipo de datos en numpy."
      ]
    },
    {
      "cell_type": "markdown",
      "metadata": {
        "id": "SQZv1vgiLRVo"
      },
      "source": [
        "#### Tipo de dato boole64"
      ]
    },
    {
      "cell_type": "code",
      "execution_count": null,
      "metadata": {
        "id": "sIHyBjCULRVo"
      },
      "outputs": [],
      "source": [
        "arr = np.array([0,1,2,3,4])"
      ]
    },
    {
      "cell_type": "code",
      "execution_count": null,
      "metadata": {
        "id": "Mrs61snvLRVo"
      },
      "outputs": [],
      "source": [
        "arr=arr.astype(np.bool_)"
      ]
    },
    {
      "cell_type": "code",
      "execution_count": null,
      "metadata": {
        "id": "ZT-ZXJ_gLRVp",
        "outputId": "67cb815c-c2ce-45a2-e8be-7d6a03ca1749"
      },
      "outputs": [
        {
          "data": {
            "text/plain": [
              "array([False,  True,  True,  True,  True])"
            ]
          },
          "execution_count": 38,
          "metadata": {},
          "output_type": "execute_result"
        }
      ],
      "source": [
        "arr"
      ]
    },
    {
      "cell_type": "markdown",
      "metadata": {
        "id": "Hmaz48odLRVp"
      },
      "source": [
        "#### Tipo de dato string64"
      ]
    },
    {
      "cell_type": "code",
      "execution_count": null,
      "metadata": {
        "id": "blZn2nrwLRVp"
      },
      "outputs": [],
      "source": [
        "arr = np.array([0,1,2,3,4])"
      ]
    },
    {
      "cell_type": "code",
      "execution_count": null,
      "metadata": {
        "id": "pKSO3z_TLRVp"
      },
      "outputs": [],
      "source": [
        "arr = arr.astype(np.string_)"
      ]
    },
    {
      "cell_type": "code",
      "execution_count": null,
      "metadata": {
        "scrolled": true,
        "id": "Vkn6fSJoLRVq",
        "outputId": "8144dcca-0225-4841-9836-324aa49d0d35"
      },
      "outputs": [
        {
          "data": {
            "text/plain": [
              "array([0, 1, 2, 3, 4], dtype=int8)"
            ]
          },
          "execution_count": 58,
          "metadata": {},
          "output_type": "execute_result"
        }
      ],
      "source": [
        "arr"
      ]
    },
    {
      "cell_type": "code",
      "execution_count": null,
      "metadata": {
        "id": "XqdUiNzrLRVq"
      },
      "outputs": [],
      "source": [
        "arr = np.array(['0','1','2','3','4'])\n",
        "#arr = np.array(['Hello','1','2','3','4']) #No puede convertir un texto a entero."
      ]
    },
    {
      "cell_type": "code",
      "execution_count": null,
      "metadata": {
        "scrolled": true,
        "id": "CdBbVeh_LRVq"
      },
      "outputs": [],
      "source": [
        "arr = arr.astype(np.int8) #Investigar int8 y int32"
      ]
    },
    {
      "cell_type": "markdown",
      "metadata": {
        "id": "wdGNFn-RLRVr"
      },
      "source": [
        "Si quieres conocer todos los tipos de datos de numpy, visita su sitio web oficial: https://numpy.org/doc/stable/user/basics.types.html"
      ]
    },
    {
      "cell_type": "markdown",
      "metadata": {
        "id": "jE7km1DpLRVr"
      },
      "source": [
        "### 1.3 Dimensiones"
      ]
    },
    {
      "cell_type": "markdown",
      "metadata": {
        "id": "VaWZmxrnLRVr"
      },
      "source": [
        "* Scalar = Un único valor por separado (unidad).\n",
        "* Vector = Una colección unidemensional de elementos del mismo tipo de datos.\n",
        "* Matrix = Una colección bidimensional de elementos del mismo tipo de datos. (Filas y Columnas)\n",
        "* Tensor = Una colección de n-dimension de elementos del mismo tipo de datos.\n",
        "\n",
        "<img src=\"https://mblogthumb-phinf.pstatic.net/MjAyMDA1MjVfMjQ0/MDAxNTkwMzcxNTgxMjgx.zVM_8O3aWx1DUjeKFx-FRXeHS1KVHWfdSiOBE2--1k4g.6z_U8ssbX1lwelBEqUxjtyutk2y6HSNTvk5a7pTYIWkg.PNG.nabilera1/image.png?type=w800\">"
      ]
    },
    {
      "cell_type": "code",
      "execution_count": null,
      "metadata": {
        "id": "3QKAemB-LRVr",
        "outputId": "a553cc59-6252-4d00-ac01-2553023a3de6"
      },
      "outputs": [
        {
          "name": "stdout",
          "output_type": "stream",
          "text": [
            "42\n"
          ]
        }
      ],
      "source": [
        "scalar = np.array(42)\n",
        "print(scalar)"
      ]
    },
    {
      "cell_type": "code",
      "execution_count": null,
      "metadata": {
        "id": "fPgvqVnNLRVs",
        "outputId": "d04ac3b7-dca4-43f2-a11a-3628d777955c"
      },
      "outputs": [
        {
          "data": {
            "text/plain": [
              "0"
            ]
          },
          "execution_count": 7,
          "metadata": {},
          "output_type": "execute_result"
        }
      ],
      "source": [
        "scalar.ndim #Nos permite saber cuantas dimensiones tiene nuestro objeto numpy creado."
      ]
    },
    {
      "cell_type": "code",
      "execution_count": null,
      "metadata": {
        "id": "yZ3rVZbYLRVs",
        "outputId": "e7a73fa7-3297-45c5-fcc1-21b52e7b5a61"
      },
      "outputs": [
        {
          "name": "stdout",
          "output_type": "stream",
          "text": [
            "[1 2 3]\n"
          ]
        }
      ],
      "source": [
        "vector = np.array([1,2,3])\n",
        "print(vector)"
      ]
    },
    {
      "cell_type": "code",
      "execution_count": null,
      "metadata": {
        "id": "-RHsJaBQLRVt",
        "outputId": "cbc89874-4cef-4217-a8f4-e633d7c5b56e"
      },
      "outputs": [
        {
          "data": {
            "text/plain": [
              "1"
            ]
          },
          "execution_count": 9,
          "metadata": {},
          "output_type": "execute_result"
        }
      ],
      "source": [
        "vector.ndim"
      ]
    },
    {
      "cell_type": "code",
      "execution_count": null,
      "metadata": {
        "id": "JaUQWahgLRVt",
        "outputId": "dbb71d04-cd39-4879-c64e-edaf96f7522b"
      },
      "outputs": [
        {
          "name": "stdout",
          "output_type": "stream",
          "text": [
            "[[1 2 3]\n",
            " [4 5 6]]\n"
          ]
        }
      ],
      "source": [
        "matrix = np.array([[1,2,3],[4,5,6]])\n",
        "print(matrix)"
      ]
    },
    {
      "cell_type": "code",
      "execution_count": null,
      "metadata": {
        "id": "xNM1Zb9kLRVt",
        "outputId": "1bd06655-6753-4134-c32c-3ad6ac9cf4dc"
      },
      "outputs": [
        {
          "data": {
            "text/plain": [
              "2"
            ]
          },
          "execution_count": 18,
          "metadata": {},
          "output_type": "execute_result"
        }
      ],
      "source": [
        "matrix.ndim"
      ]
    },
    {
      "cell_type": "code",
      "execution_count": null,
      "metadata": {
        "id": "uOobWQzxLRVt",
        "outputId": "fc3843b2-ed84-40f7-f5eb-479126bcbfcf"
      },
      "outputs": [
        {
          "name": "stdout",
          "output_type": "stream",
          "text": [
            "[[[1 2 3]\n",
            "  [4 5 6]]\n",
            "\n",
            " [[1 2 3]\n",
            "  [4 5 6]]]\n"
          ]
        }
      ],
      "source": [
        "tensor = np.array([[[1,2,3],[4,5,6]],[[1,2,3],[4,5,6]]])\n",
        "print(tensor)"
      ]
    },
    {
      "cell_type": "code",
      "execution_count": null,
      "metadata": {
        "id": "hKceO97uLRVu",
        "outputId": "c91600d2-15ca-433c-d25d-603bdbacdeb5"
      },
      "outputs": [
        {
          "data": {
            "text/plain": [
              "3"
            ]
          },
          "execution_count": 20,
          "metadata": {},
          "output_type": "execute_result"
        }
      ],
      "source": [
        "tensor.ndim"
      ]
    },
    {
      "cell_type": "markdown",
      "metadata": {
        "id": "j1XxCV3ILRVu"
      },
      "source": [
        "### 1.4 Creando arrays\n",
        "Creando arrays con las diferentes funciones que tiene numpy, hasta el momento hemos creado esta estructura de datos pasando como parámetro una lista."
      ]
    },
    {
      "cell_type": "markdown",
      "metadata": {
        "id": "Pc2jtKr-LRVu"
      },
      "source": [
        "#### range(min,max)\n",
        "* El método range(min,max)es un método creado por python pero no por numpy."
      ]
    },
    {
      "cell_type": "code",
      "execution_count": null,
      "metadata": {
        "scrolled": true,
        "id": "iRcsvU_9LRVv",
        "outputId": "64652c11-bc6c-4ab4-88b5-604d62c0842b"
      },
      "outputs": [
        {
          "data": {
            "text/plain": [
              "[0, 1, 2, 3, 4, 5, 6, 7, 8, 9]"
            ]
          },
          "execution_count": 4,
          "metadata": {},
          "output_type": "execute_result"
        }
      ],
      "source": [
        "list(range(0,10))"
      ]
    },
    {
      "cell_type": "markdown",
      "metadata": {
        "id": "YnWjnwQPLRVv"
      },
      "source": [
        "#### np.arange(min,max-1,pasos) \n",
        "* El método np.arange(min,max-1,pasos) sí es un método creado por numpy para crear arrays desde un rango dado."
      ]
    },
    {
      "cell_type": "code",
      "execution_count": null,
      "metadata": {
        "scrolled": true,
        "id": "Vd0rSPUCLRVv",
        "outputId": "02f16d5c-6850-44ed-d1f6-c8c8e877e4d5"
      },
      "outputs": [
        {
          "data": {
            "text/plain": [
              "array([ 0,  2,  4,  6,  8, 10, 12, 14, 16, 18])"
            ]
          },
          "execution_count": 29,
          "metadata": {},
          "output_type": "execute_result"
        }
      ],
      "source": [
        "np.arange(0,20,2)"
      ]
    },
    {
      "cell_type": "markdown",
      "metadata": {
        "id": "nEgilHzRLRVw"
      },
      "source": [
        "#### np.zeros(n) (vector)\n",
        "* El método np.zeros(n) crea un array con la cantidad de ceros indicados en n."
      ]
    },
    {
      "cell_type": "code",
      "execution_count": null,
      "metadata": {
        "id": "HN1MvZ0RLRVw",
        "outputId": "db56a7cc-79cd-40b7-b064-402c86267bae"
      },
      "outputs": [
        {
          "data": {
            "text/plain": [
              "array([0., 0., 0.])"
            ]
          },
          "execution_count": 31,
          "metadata": {},
          "output_type": "execute_result"
        }
      ],
      "source": [
        "np.zeros(3)"
      ]
    },
    {
      "cell_type": "markdown",
      "metadata": {
        "id": "g2J8wkCwLRVw"
      },
      "source": [
        "#### np.zeros((n,m)) (matriz)\n",
        "* Crea una matriz de ceros con la sintaxis np.zeros((n,m)) ==> n y m son pasados como parámetros."
      ]
    },
    {
      "cell_type": "code",
      "execution_count": null,
      "metadata": {
        "scrolled": false,
        "id": "-OZ2bekvLRVx",
        "outputId": "120cbd41-5e0f-40a3-a06c-e3b76c7a7559"
      },
      "outputs": [
        {
          "data": {
            "text/plain": [
              "array([[0., 0., 0., 0., 0., 0., 0., 0., 0., 0.],\n",
              "       [0., 0., 0., 0., 0., 0., 0., 0., 0., 0.],\n",
              "       [0., 0., 0., 0., 0., 0., 0., 0., 0., 0.],\n",
              "       [0., 0., 0., 0., 0., 0., 0., 0., 0., 0.],\n",
              "       [0., 0., 0., 0., 0., 0., 0., 0., 0., 0.],\n",
              "       [0., 0., 0., 0., 0., 0., 0., 0., 0., 0.],\n",
              "       [0., 0., 0., 0., 0., 0., 0., 0., 0., 0.],\n",
              "       [0., 0., 0., 0., 0., 0., 0., 0., 0., 0.],\n",
              "       [0., 0., 0., 0., 0., 0., 0., 0., 0., 0.],\n",
              "       [0., 0., 0., 0., 0., 0., 0., 0., 0., 0.]])"
            ]
          },
          "execution_count": 28,
          "metadata": {},
          "output_type": "execute_result"
        }
      ],
      "source": [
        "#np.zeros((3,3))\n",
        "np.zeros((10,10))"
      ]
    },
    {
      "cell_type": "markdown",
      "metadata": {
        "id": "tCgB7BocLRVx"
      },
      "source": [
        "#### np.ones((n,m))\n",
        "* Crea una matriz de unos con la sintaxis np.ones((n,m)) ==> n y m son pasados como parámetros."
      ]
    },
    {
      "cell_type": "code",
      "execution_count": null,
      "metadata": {
        "id": "QQJdtu8cLRVx",
        "outputId": "6656818c-cf98-458c-8a86-c097cf9963c7"
      },
      "outputs": [
        {
          "data": {
            "text/plain": [
              "array([[1., 1., 1., 1., 1.],\n",
              "       [1., 1., 1., 1., 1.],\n",
              "       [1., 1., 1., 1., 1.],\n",
              "       [1., 1., 1., 1., 1.],\n",
              "       [1., 1., 1., 1., 1.],\n",
              "       [1., 1., 1., 1., 1.],\n",
              "       [1., 1., 1., 1., 1.],\n",
              "       [1., 1., 1., 1., 1.],\n",
              "       [1., 1., 1., 1., 1.],\n",
              "       [1., 1., 1., 1., 1.]])"
            ]
          },
          "execution_count": 30,
          "metadata": {},
          "output_type": "execute_result"
        }
      ],
      "source": [
        "np.ones((10,10))"
      ]
    },
    {
      "cell_type": "markdown",
      "metadata": {
        "id": "GUXTD1EoLRVy"
      },
      "source": [
        "#### np.linspace(min,max,cant)\n",
        "* Crea una distribución normalizada y ordenada de datos del 0 al 10 generados a partir de 100 datos."
      ]
    },
    {
      "cell_type": "code",
      "execution_count": null,
      "metadata": {
        "scrolled": true,
        "id": "2yex8q0HLRVy",
        "outputId": "e852462c-1d0e-4ee2-849e-fcbb56ef2d26"
      },
      "outputs": [
        {
          "data": {
            "text/plain": [
              "array([ 0.        ,  0.1010101 ,  0.2020202 ,  0.3030303 ,  0.4040404 ,\n",
              "        0.50505051,  0.60606061,  0.70707071,  0.80808081,  0.90909091,\n",
              "        1.01010101,  1.11111111,  1.21212121,  1.31313131,  1.41414141,\n",
              "        1.51515152,  1.61616162,  1.71717172,  1.81818182,  1.91919192,\n",
              "        2.02020202,  2.12121212,  2.22222222,  2.32323232,  2.42424242,\n",
              "        2.52525253,  2.62626263,  2.72727273,  2.82828283,  2.92929293,\n",
              "        3.03030303,  3.13131313,  3.23232323,  3.33333333,  3.43434343,\n",
              "        3.53535354,  3.63636364,  3.73737374,  3.83838384,  3.93939394,\n",
              "        4.04040404,  4.14141414,  4.24242424,  4.34343434,  4.44444444,\n",
              "        4.54545455,  4.64646465,  4.74747475,  4.84848485,  4.94949495,\n",
              "        5.05050505,  5.15151515,  5.25252525,  5.35353535,  5.45454545,\n",
              "        5.55555556,  5.65656566,  5.75757576,  5.85858586,  5.95959596,\n",
              "        6.06060606,  6.16161616,  6.26262626,  6.36363636,  6.46464646,\n",
              "        6.56565657,  6.66666667,  6.76767677,  6.86868687,  6.96969697,\n",
              "        7.07070707,  7.17171717,  7.27272727,  7.37373737,  7.47474747,\n",
              "        7.57575758,  7.67676768,  7.77777778,  7.87878788,  7.97979798,\n",
              "        8.08080808,  8.18181818,  8.28282828,  8.38383838,  8.48484848,\n",
              "        8.58585859,  8.68686869,  8.78787879,  8.88888889,  8.98989899,\n",
              "        9.09090909,  9.19191919,  9.29292929,  9.39393939,  9.49494949,\n",
              "        9.5959596 ,  9.6969697 ,  9.7979798 ,  9.8989899 , 10.        ])"
            ]
          },
          "execution_count": 17,
          "metadata": {},
          "output_type": "execute_result"
        }
      ],
      "source": [
        "np.linspace(0,10,100) #Crea una distribución normalizada y ordenada de datos del 0 al 10 generados a partir de 100 datos."
      ]
    },
    {
      "cell_type": "markdown",
      "metadata": {
        "id": "VTFmfeq3LRVy"
      },
      "source": [
        "#### np.eye(n)\n",
        "* Genera una matriz identidad NxN donde N es el valor pasado como parámetro."
      ]
    },
    {
      "cell_type": "code",
      "execution_count": null,
      "metadata": {
        "id": "l9GSGYouLRVy",
        "outputId": "79c9ca4a-387b-4a9b-ab74-2434328f1a19"
      },
      "outputs": [
        {
          "data": {
            "text/plain": [
              "array([[1., 0., 0., 0.],\n",
              "       [0., 1., 0., 0.],\n",
              "       [0., 0., 1., 0.],\n",
              "       [0., 0., 0., 1.]])"
            ]
          },
          "execution_count": 19,
          "metadata": {},
          "output_type": "execute_result"
        }
      ],
      "source": [
        "np.eye(4) "
      ]
    },
    {
      "cell_type": "markdown",
      "metadata": {
        "id": "peP6tZudLRVz"
      },
      "source": [
        "#### np.random\n",
        "* np.random.rand() genera un escalar del 0 al 1.\n",
        "* np.random.rand(n) generara un array con n cantidad de elementos del 0 al 1.\n",
        "* np.rand(n,m) genera una matriz de n,m cantidad de elementos del 0 al 1.\n",
        "* np.randint(min,max) genera un número aleatorio entre el min y el max.\n",
        "* np.randint(min,max,(n,m)) genera un matriz de n,m de elementos aleatorios entre el min y el max.\n"
      ]
    },
    {
      "cell_type": "code",
      "execution_count": null,
      "metadata": {
        "id": "QxLO_yi8LRVz",
        "outputId": "04bc17c7-b1b4-47bc-944f-95778cf7e3c2"
      },
      "outputs": [
        {
          "data": {
            "text/plain": [
              "0.6906089723726002"
            ]
          },
          "execution_count": 21,
          "metadata": {},
          "output_type": "execute_result"
        }
      ],
      "source": [
        "np.random.rand()"
      ]
    },
    {
      "cell_type": "code",
      "execution_count": null,
      "metadata": {
        "id": "W3IIRMr0LRVz",
        "outputId": "884aa24c-42fb-4ff4-9ed7-573778ab5056"
      },
      "outputs": [
        {
          "data": {
            "text/plain": [
              "array([0.96685689, 0.63863924, 0.42806768, 0.03635644])"
            ]
          },
          "execution_count": 22,
          "metadata": {},
          "output_type": "execute_result"
        }
      ],
      "source": [
        "np.random.rand(4)"
      ]
    },
    {
      "cell_type": "code",
      "execution_count": null,
      "metadata": {
        "id": "OtZpN5rFLRV0",
        "outputId": "7ee41c58-687f-40a5-8378-94becf65935a"
      },
      "outputs": [
        {
          "data": {
            "text/plain": [
              "array([[0.02808761, 0.43323258, 0.50477401, 0.67823693],\n",
              "       [0.52756445, 0.22223687, 0.14752001, 0.8626257 ],\n",
              "       [0.05345123, 0.54952941, 0.33329937, 0.81996029],\n",
              "       [0.37559612, 0.80355444, 0.33105405, 0.64180839]])"
            ]
          },
          "execution_count": 23,
          "metadata": {},
          "output_type": "execute_result"
        }
      ],
      "source": [
        "np.random.rand(4,4)"
      ]
    },
    {
      "cell_type": "code",
      "execution_count": null,
      "metadata": {
        "id": "Ea44MxKaLRV0",
        "outputId": "acd0630e-c710-4309-f8dd-a949dc8b3665"
      },
      "outputs": [
        {
          "data": {
            "text/plain": [
              "14"
            ]
          },
          "execution_count": 24,
          "metadata": {},
          "output_type": "execute_result"
        }
      ],
      "source": [
        "np.random.randint(1,15)"
      ]
    },
    {
      "cell_type": "code",
      "execution_count": null,
      "metadata": {
        "id": "t6qyYgLoLRV1"
      },
      "outputs": [],
      "source": [
        "np.random.randint(1,100,(10,10))"
      ]
    },
    {
      "cell_type": "markdown",
      "metadata": {
        "id": "940jF-MqLRV1"
      },
      "source": [
        "### 1.5 Shape y Reshape"
      ]
    },
    {
      "cell_type": "code",
      "execution_count": null,
      "metadata": {
        "id": "RovB-ckxLRV1"
      },
      "outputs": [],
      "source": []
    }
  ],
  "metadata": {
    "kernelspec": {
      "display_name": "Python 3 (ipykernel)",
      "language": "python",
      "name": "python3"
    },
    "language_info": {
      "codemirror_mode": {
        "name": "ipython",
        "version": 3
      },
      "file_extension": ".py",
      "mimetype": "text/x-python",
      "name": "python",
      "nbconvert_exporter": "python",
      "pygments_lexer": "ipython3",
      "version": "3.11.3"
    },
    "colab": {
      "provenance": [],
      "include_colab_link": true
    }
  },
  "nbformat": 4,
  "nbformat_minor": 0
}