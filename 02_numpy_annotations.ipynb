{
 "cells": [
  {
   "cell_type": "markdown",
   "id": "db32f457",
   "metadata": {},
   "source": [
    "# Operaciones básicas de matriz con Numpy🧮\n",
    "Esta sección cubre sumas, restas, multiplicaciones, divisiones y más."
   ]
  },
  {
   "cell_type": "code",
   "execution_count": 2,
   "id": "596dc5ec",
   "metadata": {},
   "outputs": [],
   "source": [
    "import numpy as np"
   ]
  },
  {
   "cell_type": "markdown",
   "id": "cc1f62c0",
   "metadata": {},
   "source": [
    "<img src=\"https://numpy.org/doc/stable/_images/np_matrix_broadcasting.png\">"
   ]
  },
  {
   "cell_type": "code",
   "execution_count": 9,
   "id": "5a04260c",
   "metadata": {},
   "outputs": [
    {
     "data": {
      "text/plain": [
       "array([[ 1,  2,  3,  4],\n",
       "       [20, 21, 22, 23]])"
      ]
     },
     "execution_count": 9,
     "metadata": {},
     "output_type": "execute_result"
    }
   ],
   "source": [
    "a = np.array([np.arange(1,5),np.arange(20,24)])\n",
    "a"
   ]
  },
  {
   "cell_type": "code",
   "execution_count": 10,
   "id": "87380e9a",
   "metadata": {},
   "outputs": [
    {
     "data": {
      "text/plain": [
       "array([[1, 1, 1, 1],\n",
       "       [1, 1, 1, 1]])"
      ]
     },
     "execution_count": 10,
     "metadata": {},
     "output_type": "execute_result"
    }
   ],
   "source": [
    "b = np.ones((2,4),dtype=\"int32\")\n",
    "b"
   ]
  },
  {
   "cell_type": "code",
   "execution_count": 16,
   "id": "f16b730f",
   "metadata": {},
   "outputs": [
    {
     "data": {
      "text/plain": [
       "array([[ 2,  3,  4,  5],\n",
       "       [21, 22, 23, 24]])"
      ]
     },
     "execution_count": 16,
     "metadata": {},
     "output_type": "execute_result"
    }
   ],
   "source": [
    "a + b #Suma de matrices"
   ]
  },
  {
   "cell_type": "code",
   "execution_count": 17,
   "id": "dbb45885",
   "metadata": {},
   "outputs": [
    {
     "data": {
      "text/plain": [
       "array([[ 0,  1,  2,  3],\n",
       "       [19, 20, 21, 22]])"
      ]
     },
     "execution_count": 17,
     "metadata": {},
     "output_type": "execute_result"
    }
   ],
   "source": [
    "a - b #Resta de matrices"
   ]
  },
  {
   "cell_type": "code",
   "execution_count": 18,
   "id": "e7feffc4",
   "metadata": {},
   "outputs": [
    {
     "data": {
      "text/plain": [
       "array([[ 1,  2,  3,  4],\n",
       "       [20, 21, 22, 23]])"
      ]
     },
     "execution_count": 18,
     "metadata": {},
     "output_type": "execute_result"
    }
   ],
   "source": [
    "a * b #Multiplicación de matrices"
   ]
  },
  {
   "cell_type": "code",
   "execution_count": 19,
   "id": "e6a74781",
   "metadata": {
    "scrolled": true
   },
   "outputs": [
    {
     "data": {
      "text/plain": [
       "array([[ 1.,  2.,  3.,  4.],\n",
       "       [20., 21., 22., 23.]])"
      ]
     },
     "execution_count": 19,
     "metadata": {},
     "output_type": "execute_result"
    }
   ],
   "source": [
    "a / b #División de matrices"
   ]
  },
  {
   "cell_type": "markdown",
   "id": "8fa19ade",
   "metadata": {},
   "source": [
    "## Sumatoria de elementos"
   ]
  },
  {
   "cell_type": "code",
   "execution_count": 23,
   "id": "6f825e11",
   "metadata": {
    "scrolled": true
   },
   "outputs": [
    {
     "data": {
      "text/plain": [
       "96"
      ]
     },
     "execution_count": 23,
     "metadata": {},
     "output_type": "execute_result"
    }
   ],
   "source": [
    "a.sum() #Default, suma todos los elementos de la matrices."
   ]
  },
  {
   "cell_type": "code",
   "execution_count": 24,
   "id": "aaf254cf",
   "metadata": {},
   "outputs": [
    {
     "data": {
      "text/plain": [
       "array([21, 23, 25, 27])"
      ]
     },
     "execution_count": 24,
     "metadata": {},
     "output_type": "execute_result"
    }
   ],
   "source": [
    "a.sum(axis=0) #Suma solo las columnas"
   ]
  },
  {
   "cell_type": "code",
   "execution_count": 25,
   "id": "e69d238a",
   "metadata": {},
   "outputs": [
    {
     "data": {
      "text/plain": [
       "array([10, 86])"
      ]
     },
     "execution_count": 25,
     "metadata": {},
     "output_type": "execute_result"
    }
   ],
   "source": [
    "a.sum(axis=1) #Suma solo las filas"
   ]
  },
  {
   "cell_type": "markdown",
   "id": "73cccdbc",
   "metadata": {},
   "source": [
    "## Producto Escalar"
   ]
  },
  {
   "cell_type": "code",
   "execution_count": 26,
   "id": "73da3024",
   "metadata": {},
   "outputs": [
    {
     "data": {
      "text/plain": [
       "array([[ 1,  2,  3,  4],\n",
       "       [20, 21, 22, 23]])"
      ]
     },
     "execution_count": 26,
     "metadata": {},
     "output_type": "execute_result"
    }
   ],
   "source": [
    "a"
   ]
  },
  {
   "cell_type": "code",
   "execution_count": 27,
   "id": "63a37b77",
   "metadata": {},
   "outputs": [
    {
     "data": {
      "text/plain": [
       "array([[ 2,  4,  6,  8],\n",
       "       [40, 42, 44, 46]])"
      ]
     },
     "execution_count": 27,
     "metadata": {},
     "output_type": "execute_result"
    }
   ],
   "source": [
    "a * 2"
   ]
  },
  {
   "cell_type": "markdown",
   "id": "13064a36",
   "metadata": {},
   "source": [
    "# Operaciones de matriz más útiles 🧑‍🔬🧠\n",
    "Esta sección cubre máximo, mínimo, suma, media, producto, desviación estándar y más"
   ]
  },
  {
   "cell_type": "markdown",
   "id": "2f097c57",
   "metadata": {},
   "source": [
    "<img src=\"https://numpy.org/doc/stable/_images/np_matrix_aggregation.png\">"
   ]
  },
  {
   "cell_type": "markdown",
   "id": "ab9ec8d2",
   "metadata": {},
   "source": [
    "<img src=\"https://numpy.org/doc/stable/_images/np_matrix_aggregation_row.png\">"
   ]
  },
  {
   "cell_type": "code",
   "execution_count": 40,
   "id": "bc2456ed",
   "metadata": {},
   "outputs": [],
   "source": [
    "a = np.array([[0.45053314, 0.17296777, 0.34376245, 0.5510652],\n",
    "              [0.54627315, 0.05093587, 0.40067661, 0.55645993],\n",
    "              [0.12697628, 0.82485143, 0.26590556, 0.56917101]])"
   ]
  },
  {
   "cell_type": "code",
   "execution_count": 41,
   "id": "ad272f2a",
   "metadata": {},
   "outputs": [
    {
     "data": {
      "text/plain": [
       "4.8595784"
      ]
     },
     "execution_count": 41,
     "metadata": {},
     "output_type": "execute_result"
    }
   ],
   "source": [
    "a.sum()"
   ]
  },
  {
   "cell_type": "code",
   "execution_count": 44,
   "id": "f8246276",
   "metadata": {},
   "outputs": [
    {
     "data": {
      "text/plain": [
       "0.82485143"
      ]
     },
     "execution_count": 44,
     "metadata": {},
     "output_type": "execute_result"
    }
   ],
   "source": [
    "a.max() #Trae el dato más grande de la matriz"
   ]
  },
  {
   "cell_type": "code",
   "execution_count": 47,
   "id": "6e6a3268",
   "metadata": {},
   "outputs": [
    {
     "data": {
      "text/plain": [
       "array([0.54627315, 0.82485143, 0.40067661, 0.56917101])"
      ]
     },
     "execution_count": 47,
     "metadata": {},
     "output_type": "execute_result"
    }
   ],
   "source": [
    "a.max(axis=0) #Encuentra el mayor de cada columna"
   ]
  },
  {
   "cell_type": "code",
   "execution_count": 48,
   "id": "9137bf77",
   "metadata": {},
   "outputs": [
    {
     "data": {
      "text/plain": [
       "array([0.5510652 , 0.55645993, 0.82485143])"
      ]
     },
     "execution_count": 48,
     "metadata": {},
     "output_type": "execute_result"
    }
   ],
   "source": [
    "a.max(axis=1) #Encuentra el mayor de cada fila"
   ]
  },
  {
   "cell_type": "code",
   "execution_count": 45,
   "id": "e1af304e",
   "metadata": {
    "scrolled": true
   },
   "outputs": [
    {
     "data": {
      "text/plain": [
       "0.05093587"
      ]
     },
     "execution_count": 45,
     "metadata": {},
     "output_type": "execute_result"
    }
   ],
   "source": [
    "a.min() #Trae el dato más pequeño de la matriz, al igual que que max podemos encontrar el min por fila y columna."
   ]
  },
  {
   "cell_type": "markdown",
   "id": "9ed2c04b",
   "metadata": {},
   "source": [
    "## Generar números aleatorios"
   ]
  },
  {
   "cell_type": "code",
   "execution_count": 82,
   "id": "a99e461a",
   "metadata": {},
   "outputs": [],
   "source": [
    "a_rand = np.random.random((3,2,3)) #Los números están en el rango [0,1)"
   ]
  },
  {
   "cell_type": "code",
   "execution_count": 83,
   "id": "b3c09e41",
   "metadata": {},
   "outputs": [
    {
     "data": {
      "text/plain": [
       "array([[[0.33831789, 0.50024697, 0.94628129],\n",
       "        [0.62803167, 0.7908523 , 0.07457066]],\n",
       "\n",
       "       [[0.60193675, 0.61083423, 0.32835821],\n",
       "        [0.99464995, 0.43230278, 0.24431742]],\n",
       "\n",
       "       [[0.83866818, 0.35581608, 0.81439501],\n",
       "        [0.44611245, 0.71511959, 0.50399673]]])"
      ]
     },
     "execution_count": 83,
     "metadata": {},
     "output_type": "execute_result"
    }
   ],
   "source": [
    "a_rand"
   ]
  },
  {
   "cell_type": "code",
   "execution_count": 84,
   "id": "a2d22e9f",
   "metadata": {},
   "outputs": [
    {
     "data": {
      "text/plain": [
       "0.2077438820341544"
      ]
     },
     "execution_count": 84,
     "metadata": {},
     "output_type": "execute_result"
    }
   ],
   "source": [
    "random_rand = np.random.rand() #Genera solo un número aleatorio en el rango [0,1)\n",
    "random_rand"
   ]
  },
  {
   "cell_type": "code",
   "execution_count": 85,
   "id": "ca57ecaf",
   "metadata": {
    "scrolled": true
   },
   "outputs": [
    {
     "data": {
      "text/plain": [
       "array([[0, 5, 6, 5],\n",
       "       [5, 9, 6, 1],\n",
       "       [4, 9, 8, 6],\n",
       "       [3, 6, 6, 3]])"
      ]
     },
     "execution_count": 85,
     "metadata": {},
     "output_type": "execute_result"
    }
   ],
   "source": [
    "random03 = np.random.randint(0,10,size=(4,4))\n",
    "random03"
   ]
  },
  {
   "cell_type": "markdown",
   "id": "082df40b",
   "metadata": {},
   "source": [
    "## Cómo obtener artículos únicos y recuentos\n",
    "Esta sección cubre np.unique(), funciona para vectores y matrices"
   ]
  },
  {
   "cell_type": "code",
   "execution_count": 93,
   "id": "2572dddc",
   "metadata": {},
   "outputs": [],
   "source": [
    "a = np.array([11, 11, 12, 13, 14, 15, 16, 17, 12, 13, 11, 14, 18, 19, 20])"
   ]
  },
  {
   "cell_type": "code",
   "execution_count": 94,
   "id": "53e8a207",
   "metadata": {},
   "outputs": [
    {
     "data": {
      "text/plain": [
       "array([11, 12, 13, 14, 15, 16, 17, 18, 19, 20])"
      ]
     },
     "execution_count": 94,
     "metadata": {},
     "output_type": "execute_result"
    }
   ],
   "source": [
    "val_unicos, conteo_repetidos = np.unique(a, return_counts = True) #Si solo queremos los valores únicos, quitamos el segundo parámetro\n",
    "val_unicos"
   ]
  },
  {
   "cell_type": "code",
   "execution_count": 95,
   "id": "c6a57016",
   "metadata": {},
   "outputs": [
    {
     "data": {
      "text/plain": [
       "array([3, 2, 2, 2, 1, 1, 1, 1, 1, 1], dtype=int64)"
      ]
     },
     "execution_count": 95,
     "metadata": {},
     "output_type": "execute_result"
    }
   ],
   "source": [
    "conteo_repetidos"
   ]
  },
  {
   "cell_type": "code",
   "execution_count": 96,
   "id": "1010176f",
   "metadata": {
    "scrolled": true
   },
   "outputs": [
    {
     "data": {
      "text/plain": [
       "[(11, 3),\n",
       " (12, 2),\n",
       " (13, 2),\n",
       " (14, 2),\n",
       " (15, 1),\n",
       " (16, 1),\n",
       " (17, 1),\n",
       " (18, 1),\n",
       " (19, 1),\n",
       " (20, 1)]"
      ]
     },
     "execution_count": 96,
     "metadata": {},
     "output_type": "execute_result"
    }
   ],
   "source": [
    "list(zip(val_unicos,conteo_repetidos))"
   ]
  },
  {
   "cell_type": "code",
   "execution_count": 114,
   "id": "9c74afd0",
   "metadata": {},
   "outputs": [
    {
     "data": {
      "text/plain": [
       "array([[ 1,  2,  3,  4],\n",
       "       [ 5,  6,  7,  8],\n",
       "       [ 9, 10, 11, 12],\n",
       "       [ 1,  2,  3,  4]])"
      ]
     },
     "execution_count": 114,
     "metadata": {},
     "output_type": "execute_result"
    }
   ],
   "source": [
    "a_2d = np.array([[1, 2, 3, 4], [5, 6, 7, 8], [9, 10, 11, 12], [1, 2, 3, 4]])\n",
    "a_2d"
   ]
  },
  {
   "cell_type": "code",
   "execution_count": 115,
   "id": "152753ab",
   "metadata": {},
   "outputs": [
    {
     "name": "stdout",
     "output_type": "stream",
     "text": [
      "[ 1  2  3  4  5  6  7  8  9 10 11 12]\n",
      "(12,)\n"
     ]
    }
   ],
   "source": [
    "a_2d_unicos = np.unique(a_2d)\n",
    "print(a_2d_unicos)\n",
    "print(a_2d_unicos.shape) #IMPORTANTE! Al sacar los repetidos, se convierte en un array"
   ]
  },
  {
   "cell_type": "code",
   "execution_count": 116,
   "id": "5f03ba24",
   "metadata": {
    "scrolled": false
   },
   "outputs": [
    {
     "data": {
      "text/plain": [
       "array([[ 1,  2,  3,  4],\n",
       "       [ 5,  6,  7,  8],\n",
       "       [ 9, 10, 11, 12]])"
      ]
     },
     "execution_count": 116,
     "metadata": {},
     "output_type": "execute_result"
    }
   ],
   "source": [
    "a_2d_unicos_columns = np.unique(a_2d,axis=0) #Se especifica que se encuentre los valores únicos por columna \n",
    "a_2d_unicos_columns"
   ]
  },
  {
   "cell_type": "code",
   "execution_count": 117,
   "id": "0a025938",
   "metadata": {},
   "outputs": [
    {
     "data": {
      "text/plain": [
       "array([[ 1,  2,  4,  4],\n",
       "       [ 5,  6,  8,  8],\n",
       "       [ 9, 10, 12, 12],\n",
       "       [ 1,  2,  4,  4]])"
      ]
     },
     "execution_count": 117,
     "metadata": {},
     "output_type": "execute_result"
    }
   ],
   "source": [
    "a_2d = np.array([[1, 2, 4, 4], [5, 6, 8, 8], [9, 10, 12, 12], [1, 2, 4, 4]])\n",
    "a_2d"
   ]
  },
  {
   "cell_type": "code",
   "execution_count": 122,
   "id": "5da47a96",
   "metadata": {},
   "outputs": [
    {
     "data": {
      "text/plain": [
       "array([[ 1,  2,  4],\n",
       "       [ 5,  6,  8],\n",
       "       [ 9, 10, 12],\n",
       "       [ 1,  2,  4]])"
      ]
     },
     "execution_count": 122,
     "metadata": {},
     "output_type": "execute_result"
    }
   ],
   "source": [
    "a_2d_unicos_rows = np.unique(a_2d,axis=1) #Se especifica que se encuentre los valores únicos por columna \n",
    "a_2d_unicos_rows"
   ]
  },
  {
   "cell_type": "markdown",
   "id": "8d64a42b",
   "metadata": {},
   "source": [
    "## Transponer y remodelar una matriz\n",
    "<img src=\"https://numpy.org/doc/stable/_images/np_transposing_reshaping.png\">"
   ]
  },
  {
   "cell_type": "code",
   "execution_count": 125,
   "id": "1954ca44",
   "metadata": {},
   "outputs": [
    {
     "data": {
      "text/plain": [
       "array([1, 2, 3, 4, 5, 6])"
      ]
     },
     "execution_count": 125,
     "metadata": {},
     "output_type": "execute_result"
    }
   ],
   "source": [
    "data = np.arange(1,7)\n",
    "data"
   ]
  },
  {
   "cell_type": "code",
   "execution_count": 127,
   "id": "011b5d02",
   "metadata": {},
   "outputs": [
    {
     "data": {
      "text/plain": [
       "(6,)"
      ]
     },
     "execution_count": 127,
     "metadata": {},
     "output_type": "execute_result"
    }
   ],
   "source": [
    "data.shape"
   ]
  },
  {
   "cell_type": "code",
   "execution_count": 133,
   "id": "5df30f54",
   "metadata": {},
   "outputs": [
    {
     "data": {
      "text/plain": [
       "array([[1, 2, 3],\n",
       "       [4, 5, 6]])"
      ]
     },
     "execution_count": 133,
     "metadata": {},
     "output_type": "execute_result"
    }
   ],
   "source": [
    "data.reshape(2,3)"
   ]
  },
  {
   "cell_type": "code",
   "execution_count": 132,
   "id": "fb1c5ce7",
   "metadata": {},
   "outputs": [
    {
     "data": {
      "text/plain": [
       "array([[1, 4],\n",
       "       [2, 5],\n",
       "       [3, 6]])"
      ]
     },
     "execution_count": 132,
     "metadata": {},
     "output_type": "execute_result"
    }
   ],
   "source": [
    "data.reshape(2,3).T"
   ]
  },
  {
   "cell_type": "markdown",
   "id": "65d5acb3",
   "metadata": {},
   "source": [
    "## Cómo invertir una matriz\n",
    "Esta sección cubre np.flip()"
   ]
  },
  {
   "cell_type": "code",
   "execution_count": null,
   "id": "c747bd29",
   "metadata": {},
   "outputs": [],
   "source": []
  }
 ],
 "metadata": {
  "kernelspec": {
   "display_name": "Python 3 (ipykernel)",
   "language": "python",
   "name": "python3"
  },
  "language_info": {
   "codemirror_mode": {
    "name": "ipython",
    "version": 3
   },
   "file_extension": ".py",
   "mimetype": "text/x-python",
   "name": "python",
   "nbconvert_exporter": "python",
   "pygments_lexer": "ipython3",
   "version": "3.11.4"
  }
 },
 "nbformat": 4,
 "nbformat_minor": 5
}
