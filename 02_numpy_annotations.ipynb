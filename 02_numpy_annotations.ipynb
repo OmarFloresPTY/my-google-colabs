{
  "cells": [
    {
      "cell_type": "markdown",
      "id": "db32f457",
      "metadata": {
        "id": "db32f457"
      },
      "source": [
        "# Operaciones básicas de matriz con Numpy🧮\n",
        "Esta sección cubre sumas, restas, multiplicaciones, divisiones y más."
      ]
    },
    {
      "cell_type": "code",
      "execution_count": 1,
      "id": "596dc5ec",
      "metadata": {
        "id": "596dc5ec"
      },
      "outputs": [],
      "source": [
        "import numpy as np"
      ]
    },
    {
      "cell_type": "markdown",
      "id": "cc1f62c0",
      "metadata": {
        "id": "cc1f62c0"
      },
      "source": [
        "<img src=\"https://numpy.org/doc/stable/_images/np_matrix_broadcasting.png\">"
      ]
    },
    {
      "cell_type": "code",
      "execution_count": null,
      "id": "5a04260c",
      "metadata": {
        "id": "5a04260c",
        "outputId": "d22a2a98-7b8b-4057-cd98-271af4b9a5cb"
      },
      "outputs": [
        {
          "data": {
            "text/plain": [
              "array([[ 1,  2,  3,  4],\n",
              "       [20, 21, 22, 23]])"
            ]
          },
          "execution_count": 9,
          "metadata": {},
          "output_type": "execute_result"
        }
      ],
      "source": [
        "a = np.array([np.arange(1,5),np.arange(20,24)])\n",
        "a"
      ]
    },
    {
      "cell_type": "code",
      "execution_count": null,
      "id": "87380e9a",
      "metadata": {
        "id": "87380e9a",
        "outputId": "7ebe5dde-620a-4e89-b41c-36c3cc33d485"
      },
      "outputs": [
        {
          "data": {
            "text/plain": [
              "array([[1, 1, 1, 1],\n",
              "       [1, 1, 1, 1]])"
            ]
          },
          "execution_count": 10,
          "metadata": {},
          "output_type": "execute_result"
        }
      ],
      "source": [
        "b = np.ones((2,4),dtype=\"int32\")\n",
        "b"
      ]
    },
    {
      "cell_type": "code",
      "execution_count": null,
      "id": "f16b730f",
      "metadata": {
        "id": "f16b730f",
        "outputId": "66004356-4b7a-4659-f327-bdfbafa2435e"
      },
      "outputs": [
        {
          "data": {
            "text/plain": [
              "array([[ 2,  3,  4,  5],\n",
              "       [21, 22, 23, 24]])"
            ]
          },
          "execution_count": 16,
          "metadata": {},
          "output_type": "execute_result"
        }
      ],
      "source": [
        "a + b #Suma de matrices"
      ]
    },
    {
      "cell_type": "code",
      "execution_count": null,
      "id": "dbb45885",
      "metadata": {
        "id": "dbb45885",
        "outputId": "2d6f4a80-542a-4e32-c3c7-f7ab615ca2a7"
      },
      "outputs": [
        {
          "data": {
            "text/plain": [
              "array([[ 0,  1,  2,  3],\n",
              "       [19, 20, 21, 22]])"
            ]
          },
          "execution_count": 17,
          "metadata": {},
          "output_type": "execute_result"
        }
      ],
      "source": [
        "a - b #Resta de matrices"
      ]
    },
    {
      "cell_type": "code",
      "execution_count": null,
      "id": "e7feffc4",
      "metadata": {
        "id": "e7feffc4",
        "outputId": "ebf34592-b8a7-4301-8480-7bc1efac918e"
      },
      "outputs": [
        {
          "data": {
            "text/plain": [
              "array([[ 1,  2,  3,  4],\n",
              "       [20, 21, 22, 23]])"
            ]
          },
          "execution_count": 18,
          "metadata": {},
          "output_type": "execute_result"
        }
      ],
      "source": [
        "a * b #Multiplicación de matrices"
      ]
    },
    {
      "cell_type": "code",
      "execution_count": null,
      "id": "e6a74781",
      "metadata": {
        "scrolled": true,
        "id": "e6a74781",
        "outputId": "0b3188a7-e3e8-4616-e66a-4d9739a8d908"
      },
      "outputs": [
        {
          "data": {
            "text/plain": [
              "array([[ 1.,  2.,  3.,  4.],\n",
              "       [20., 21., 22., 23.]])"
            ]
          },
          "execution_count": 19,
          "metadata": {},
          "output_type": "execute_result"
        }
      ],
      "source": [
        "a / b #División de matrices"
      ]
    },
    {
      "cell_type": "markdown",
      "id": "8fa19ade",
      "metadata": {
        "id": "8fa19ade"
      },
      "source": [
        "## Sumatoria de elementos"
      ]
    },
    {
      "cell_type": "code",
      "execution_count": null,
      "id": "6f825e11",
      "metadata": {
        "scrolled": true,
        "id": "6f825e11",
        "outputId": "1a0e1ed1-8a26-476e-8132-35837866d0ac"
      },
      "outputs": [
        {
          "data": {
            "text/plain": [
              "96"
            ]
          },
          "execution_count": 23,
          "metadata": {},
          "output_type": "execute_result"
        }
      ],
      "source": [
        "a.sum() #Default, suma todos los elementos de la matrices."
      ]
    },
    {
      "cell_type": "code",
      "execution_count": null,
      "id": "aaf254cf",
      "metadata": {
        "id": "aaf254cf",
        "outputId": "0ea7e536-da69-45e4-d7fb-f08d308777f8"
      },
      "outputs": [
        {
          "data": {
            "text/plain": [
              "array([21, 23, 25, 27])"
            ]
          },
          "execution_count": 24,
          "metadata": {},
          "output_type": "execute_result"
        }
      ],
      "source": [
        "a.sum(axis=0) #Suma solo las columnas"
      ]
    },
    {
      "cell_type": "code",
      "execution_count": null,
      "id": "e69d238a",
      "metadata": {
        "id": "e69d238a",
        "outputId": "b06e8ff7-5d61-40bf-f80f-a70aff0d5dfc"
      },
      "outputs": [
        {
          "data": {
            "text/plain": [
              "array([10, 86])"
            ]
          },
          "execution_count": 25,
          "metadata": {},
          "output_type": "execute_result"
        }
      ],
      "source": [
        "a.sum(axis=1) #Suma solo las filas"
      ]
    },
    {
      "cell_type": "markdown",
      "id": "73cccdbc",
      "metadata": {
        "id": "73cccdbc"
      },
      "source": [
        "## Producto Escalar"
      ]
    },
    {
      "cell_type": "code",
      "execution_count": null,
      "id": "73da3024",
      "metadata": {
        "id": "73da3024",
        "outputId": "65a4074d-2eed-4077-c007-5dad16a60a05"
      },
      "outputs": [
        {
          "data": {
            "text/plain": [
              "array([[ 1,  2,  3,  4],\n",
              "       [20, 21, 22, 23]])"
            ]
          },
          "execution_count": 26,
          "metadata": {},
          "output_type": "execute_result"
        }
      ],
      "source": [
        "a"
      ]
    },
    {
      "cell_type": "code",
      "execution_count": null,
      "id": "63a37b77",
      "metadata": {
        "id": "63a37b77",
        "outputId": "54e5a70e-c6ce-45ac-d1a0-89043fb4482f"
      },
      "outputs": [
        {
          "data": {
            "text/plain": [
              "array([[ 2,  4,  6,  8],\n",
              "       [40, 42, 44, 46]])"
            ]
          },
          "execution_count": 27,
          "metadata": {},
          "output_type": "execute_result"
        }
      ],
      "source": [
        "a * 2"
      ]
    },
    {
      "cell_type": "markdown",
      "id": "13064a36",
      "metadata": {
        "id": "13064a36"
      },
      "source": [
        "# Operaciones de matriz más útiles 🧑‍🔬🧠\n",
        "Esta sección cubre máximo, mínimo, suma, media, producto, desviación estándar y más"
      ]
    },
    {
      "cell_type": "markdown",
      "id": "2f097c57",
      "metadata": {
        "id": "2f097c57"
      },
      "source": [
        "<img src=\"https://numpy.org/doc/stable/_images/np_matrix_aggregation.png\">"
      ]
    },
    {
      "cell_type": "markdown",
      "id": "ab9ec8d2",
      "metadata": {
        "id": "ab9ec8d2"
      },
      "source": [
        "<img src=\"https://numpy.org/doc/stable/_images/np_matrix_aggregation_row.png\">"
      ]
    },
    {
      "cell_type": "code",
      "execution_count": null,
      "id": "bc2456ed",
      "metadata": {
        "id": "bc2456ed"
      },
      "outputs": [],
      "source": [
        "a = np.array([[0.45053314, 0.17296777, 0.34376245, 0.5510652],\n",
        "              [0.54627315, 0.05093587, 0.40067661, 0.55645993],\n",
        "              [0.12697628, 0.82485143, 0.26590556, 0.56917101]])"
      ]
    },
    {
      "cell_type": "code",
      "execution_count": null,
      "id": "ad272f2a",
      "metadata": {
        "id": "ad272f2a",
        "outputId": "11cfdaed-ec07-4047-c082-d11a82dba8f2"
      },
      "outputs": [
        {
          "data": {
            "text/plain": [
              "4.8595784"
            ]
          },
          "execution_count": 41,
          "metadata": {},
          "output_type": "execute_result"
        }
      ],
      "source": [
        "a.sum()"
      ]
    },
    {
      "cell_type": "code",
      "execution_count": null,
      "id": "f8246276",
      "metadata": {
        "id": "f8246276",
        "outputId": "5aca9d12-eb42-4374-ede6-54877280429f"
      },
      "outputs": [
        {
          "data": {
            "text/plain": [
              "0.82485143"
            ]
          },
          "execution_count": 44,
          "metadata": {},
          "output_type": "execute_result"
        }
      ],
      "source": [
        "a.max() #Trae el dato más grande de la matriz"
      ]
    },
    {
      "cell_type": "code",
      "execution_count": null,
      "id": "6e6a3268",
      "metadata": {
        "id": "6e6a3268",
        "outputId": "9998a52b-1302-4513-c23a-03b763380edc"
      },
      "outputs": [
        {
          "data": {
            "text/plain": [
              "array([0.54627315, 0.82485143, 0.40067661, 0.56917101])"
            ]
          },
          "execution_count": 47,
          "metadata": {},
          "output_type": "execute_result"
        }
      ],
      "source": [
        "a.max(axis=0) #Encuentra el mayor de cada columna"
      ]
    },
    {
      "cell_type": "code",
      "execution_count": null,
      "id": "9137bf77",
      "metadata": {
        "id": "9137bf77",
        "outputId": "7a38e372-dab1-430b-d28c-c93d85648788"
      },
      "outputs": [
        {
          "data": {
            "text/plain": [
              "array([0.5510652 , 0.55645993, 0.82485143])"
            ]
          },
          "execution_count": 48,
          "metadata": {},
          "output_type": "execute_result"
        }
      ],
      "source": [
        "a.max(axis=1) #Encuentra el mayor de cada fila"
      ]
    },
    {
      "cell_type": "code",
      "execution_count": null,
      "id": "e1af304e",
      "metadata": {
        "scrolled": true,
        "id": "e1af304e",
        "outputId": "5256b8ca-2e3c-44f8-a07f-5db40827b31d"
      },
      "outputs": [
        {
          "data": {
            "text/plain": [
              "0.05093587"
            ]
          },
          "execution_count": 45,
          "metadata": {},
          "output_type": "execute_result"
        }
      ],
      "source": [
        "a.min() #Trae el dato más pequeño de la matriz, al igual que que max podemos encontrar el min por fila y columna."
      ]
    },
    {
      "cell_type": "markdown",
      "id": "9ed2c04b",
      "metadata": {
        "id": "9ed2c04b"
      },
      "source": [
        "## Generar números aleatorios"
      ]
    },
    {
      "cell_type": "code",
      "execution_count": null,
      "id": "a99e461a",
      "metadata": {
        "id": "a99e461a"
      },
      "outputs": [],
      "source": [
        "a_rand = np.random.random((3,2,3)) #Los números están en el rango [0,1)"
      ]
    },
    {
      "cell_type": "code",
      "execution_count": null,
      "id": "b3c09e41",
      "metadata": {
        "id": "b3c09e41",
        "outputId": "09a363f2-91bf-4bc8-bc23-00b08f17d528"
      },
      "outputs": [
        {
          "data": {
            "text/plain": [
              "array([[[0.33831789, 0.50024697, 0.94628129],\n",
              "        [0.62803167, 0.7908523 , 0.07457066]],\n",
              "\n",
              "       [[0.60193675, 0.61083423, 0.32835821],\n",
              "        [0.99464995, 0.43230278, 0.24431742]],\n",
              "\n",
              "       [[0.83866818, 0.35581608, 0.81439501],\n",
              "        [0.44611245, 0.71511959, 0.50399673]]])"
            ]
          },
          "execution_count": 83,
          "metadata": {},
          "output_type": "execute_result"
        }
      ],
      "source": [
        "a_rand"
      ]
    },
    {
      "cell_type": "code",
      "execution_count": null,
      "id": "a2d22e9f",
      "metadata": {
        "id": "a2d22e9f",
        "outputId": "4959d616-ad7a-42d8-ed3d-18ccd70003d9"
      },
      "outputs": [
        {
          "data": {
            "text/plain": [
              "0.2077438820341544"
            ]
          },
          "execution_count": 84,
          "metadata": {},
          "output_type": "execute_result"
        }
      ],
      "source": [
        "random_rand = np.random.rand() #Genera solo un número aleatorio en el rango [0,1)\n",
        "random_rand"
      ]
    },
    {
      "cell_type": "code",
      "execution_count": null,
      "id": "ca57ecaf",
      "metadata": {
        "scrolled": true,
        "id": "ca57ecaf",
        "outputId": "6b142f74-fbd5-42bf-be96-d70ff9e5d706"
      },
      "outputs": [
        {
          "data": {
            "text/plain": [
              "array([[0, 5, 6, 5],\n",
              "       [5, 9, 6, 1],\n",
              "       [4, 9, 8, 6],\n",
              "       [3, 6, 6, 3]])"
            ]
          },
          "execution_count": 85,
          "metadata": {},
          "output_type": "execute_result"
        }
      ],
      "source": [
        "random03 = np.random.randint(0,10,size=(4,4))\n",
        "random03"
      ]
    },
    {
      "cell_type": "markdown",
      "id": "082df40b",
      "metadata": {
        "id": "082df40b"
      },
      "source": [
        "## Cómo obtener artículos únicos y recuentos\n",
        "Esta sección cubre np.unique(), funciona para vectores y matrices"
      ]
    },
    {
      "cell_type": "code",
      "execution_count": null,
      "id": "2572dddc",
      "metadata": {
        "id": "2572dddc"
      },
      "outputs": [],
      "source": [
        "a = np.array([11, 11, 12, 13, 14, 15, 16, 17, 12, 13, 11, 14, 18, 19, 20])"
      ]
    },
    {
      "cell_type": "code",
      "execution_count": null,
      "id": "53e8a207",
      "metadata": {
        "id": "53e8a207",
        "outputId": "0b012a35-3232-406e-b1b5-0fc071ab0222"
      },
      "outputs": [
        {
          "data": {
            "text/plain": [
              "array([11, 12, 13, 14, 15, 16, 17, 18, 19, 20])"
            ]
          },
          "execution_count": 94,
          "metadata": {},
          "output_type": "execute_result"
        }
      ],
      "source": [
        "val_unicos, conteo_repetidos = np.unique(a, return_counts = True) #Si solo queremos los valores únicos, quitamos el segundo parámetro\n",
        "val_unicos"
      ]
    },
    {
      "cell_type": "code",
      "execution_count": null,
      "id": "c6a57016",
      "metadata": {
        "id": "c6a57016",
        "outputId": "4f174d6c-c3f8-4a32-b8f4-8fe7df1a965a"
      },
      "outputs": [
        {
          "data": {
            "text/plain": [
              "array([3, 2, 2, 2, 1, 1, 1, 1, 1, 1], dtype=int64)"
            ]
          },
          "execution_count": 95,
          "metadata": {},
          "output_type": "execute_result"
        }
      ],
      "source": [
        "conteo_repetidos"
      ]
    },
    {
      "cell_type": "code",
      "execution_count": null,
      "id": "1010176f",
      "metadata": {
        "scrolled": true,
        "id": "1010176f",
        "outputId": "d110baae-780a-4e32-dc6b-7417c9d9e2dd"
      },
      "outputs": [
        {
          "data": {
            "text/plain": [
              "[(11, 3),\n",
              " (12, 2),\n",
              " (13, 2),\n",
              " (14, 2),\n",
              " (15, 1),\n",
              " (16, 1),\n",
              " (17, 1),\n",
              " (18, 1),\n",
              " (19, 1),\n",
              " (20, 1)]"
            ]
          },
          "execution_count": 96,
          "metadata": {},
          "output_type": "execute_result"
        }
      ],
      "source": [
        "list(zip(val_unicos,conteo_repetidos))"
      ]
    },
    {
      "cell_type": "code",
      "execution_count": null,
      "id": "9c74afd0",
      "metadata": {
        "id": "9c74afd0",
        "outputId": "c33a7548-4c94-4c84-fb97-a3c403057e9f"
      },
      "outputs": [
        {
          "data": {
            "text/plain": [
              "array([[ 1,  2,  3,  4],\n",
              "       [ 5,  6,  7,  8],\n",
              "       [ 9, 10, 11, 12],\n",
              "       [ 1,  2,  3,  4]])"
            ]
          },
          "execution_count": 114,
          "metadata": {},
          "output_type": "execute_result"
        }
      ],
      "source": [
        "a_2d = np.array([[1, 2, 3, 4], [5, 6, 7, 8], [9, 10, 11, 12], [1, 2, 3, 4]])\n",
        "a_2d"
      ]
    },
    {
      "cell_type": "code",
      "execution_count": null,
      "id": "152753ab",
      "metadata": {
        "id": "152753ab",
        "outputId": "5904b02e-d9b3-496f-c584-6ae370993530"
      },
      "outputs": [
        {
          "name": "stdout",
          "output_type": "stream",
          "text": [
            "[ 1  2  3  4  5  6  7  8  9 10 11 12]\n",
            "(12,)\n"
          ]
        }
      ],
      "source": [
        "a_2d_unicos = np.unique(a_2d)\n",
        "print(a_2d_unicos)\n",
        "print(a_2d_unicos.shape) #IMPORTANTE! Al sacar los repetidos, se convierte en un array"
      ]
    },
    {
      "cell_type": "code",
      "execution_count": null,
      "id": "5f03ba24",
      "metadata": {
        "scrolled": false,
        "id": "5f03ba24",
        "outputId": "3c047f01-96ba-4745-93d2-7ecdcb94f1c3"
      },
      "outputs": [
        {
          "data": {
            "text/plain": [
              "array([[ 1,  2,  3,  4],\n",
              "       [ 5,  6,  7,  8],\n",
              "       [ 9, 10, 11, 12]])"
            ]
          },
          "execution_count": 116,
          "metadata": {},
          "output_type": "execute_result"
        }
      ],
      "source": [
        "a_2d_unicos_columns = np.unique(a_2d,axis=0) #Se especifica que se encuentre los valores únicos por columna\n",
        "a_2d_unicos_columns"
      ]
    },
    {
      "cell_type": "code",
      "execution_count": null,
      "id": "0a025938",
      "metadata": {
        "id": "0a025938",
        "outputId": "0f1255ba-47be-46cc-80fa-8397c0ac7ce1"
      },
      "outputs": [
        {
          "data": {
            "text/plain": [
              "array([[ 1,  2,  4,  4],\n",
              "       [ 5,  6,  8,  8],\n",
              "       [ 9, 10, 12, 12],\n",
              "       [ 1,  2,  4,  4]])"
            ]
          },
          "execution_count": 117,
          "metadata": {},
          "output_type": "execute_result"
        }
      ],
      "source": [
        "a_2d = np.array([[1, 2, 4, 4], [5, 6, 8, 8], [9, 10, 12, 12], [1, 2, 4, 4]])\n",
        "a_2d"
      ]
    },
    {
      "cell_type": "code",
      "execution_count": null,
      "id": "5da47a96",
      "metadata": {
        "id": "5da47a96",
        "outputId": "6002c8d0-dd51-4dd1-9ac4-8d7dc986e4a8"
      },
      "outputs": [
        {
          "data": {
            "text/plain": [
              "array([[ 1,  2,  4],\n",
              "       [ 5,  6,  8],\n",
              "       [ 9, 10, 12],\n",
              "       [ 1,  2,  4]])"
            ]
          },
          "execution_count": 122,
          "metadata": {},
          "output_type": "execute_result"
        }
      ],
      "source": [
        "a_2d_unicos_rows = np.unique(a_2d,axis=1) #Se especifica que se encuentre los valores únicos por columna\n",
        "a_2d_unicos_rows"
      ]
    },
    {
      "cell_type": "markdown",
      "id": "8d64a42b",
      "metadata": {
        "id": "8d64a42b"
      },
      "source": [
        "## Transponer y remodelar una matriz\n",
        "<img src=\"https://numpy.org/doc/stable/_images/np_transposing_reshaping.png\">"
      ]
    },
    {
      "cell_type": "code",
      "execution_count": null,
      "id": "1954ca44",
      "metadata": {
        "id": "1954ca44",
        "outputId": "71752105-a807-4183-bec7-650bc209dc0b"
      },
      "outputs": [
        {
          "data": {
            "text/plain": [
              "array([1, 2, 3, 4, 5, 6])"
            ]
          },
          "execution_count": 125,
          "metadata": {},
          "output_type": "execute_result"
        }
      ],
      "source": [
        "data = np.arange(1,7)\n",
        "data"
      ]
    },
    {
      "cell_type": "code",
      "execution_count": null,
      "id": "011b5d02",
      "metadata": {
        "id": "011b5d02",
        "outputId": "4f6fd9ff-155f-4bb5-dc64-b25e38e56036"
      },
      "outputs": [
        {
          "data": {
            "text/plain": [
              "(6,)"
            ]
          },
          "execution_count": 127,
          "metadata": {},
          "output_type": "execute_result"
        }
      ],
      "source": [
        "data.shape"
      ]
    },
    {
      "cell_type": "code",
      "execution_count": null,
      "id": "5df30f54",
      "metadata": {
        "id": "5df30f54",
        "outputId": "5155268c-73ea-41f4-ce35-67d6d26715c5"
      },
      "outputs": [
        {
          "data": {
            "text/plain": [
              "array([[1, 2, 3],\n",
              "       [4, 5, 6]])"
            ]
          },
          "execution_count": 133,
          "metadata": {},
          "output_type": "execute_result"
        }
      ],
      "source": [
        "data.reshape(2,3)"
      ]
    },
    {
      "cell_type": "code",
      "execution_count": null,
      "id": "fb1c5ce7",
      "metadata": {
        "id": "fb1c5ce7",
        "outputId": "51620165-bd5e-4b4a-c323-7e698f00497f"
      },
      "outputs": [
        {
          "data": {
            "text/plain": [
              "array([[1, 4],\n",
              "       [2, 5],\n",
              "       [3, 6]])"
            ]
          },
          "execution_count": 132,
          "metadata": {},
          "output_type": "execute_result"
        }
      ],
      "source": [
        "data.reshape(2,3).T"
      ]
    },
    {
      "cell_type": "markdown",
      "id": "65d5acb3",
      "metadata": {
        "id": "65d5acb3"
      },
      "source": [
        "## Cómo invertir una matriz\n",
        "Esta sección cubre np.flip()"
      ]
    },
    {
      "cell_type": "code",
      "execution_count": 2,
      "id": "c747bd29",
      "metadata": {
        "id": "c747bd29",
        "outputId": "effe9f2b-3882-4604-a8c2-1930fce71b29",
        "colab": {
          "base_uri": "https://localhost:8080/"
        }
      },
      "outputs": [
        {
          "output_type": "execute_result",
          "data": {
            "text/plain": [
              "array([1, 2, 3, 4, 5, 6, 7, 8])"
            ]
          },
          "metadata": {},
          "execution_count": 2
        }
      ],
      "source": [
        "arr = np.array([1, 2, 3, 4, 5, 6, 7, 8])\n",
        "arr"
      ]
    },
    {
      "cell_type": "code",
      "source": [
        "arr_invertido = np.flip(arr)\n",
        "arr_invertido"
      ],
      "metadata": {
        "id": "oNMHL2zt4Kp8",
        "outputId": "15c6051d-1916-4176-bc24-d85c6bf2f878",
        "colab": {
          "base_uri": "https://localhost:8080/"
        }
      },
      "id": "oNMHL2zt4Kp8",
      "execution_count": 3,
      "outputs": [
        {
          "output_type": "execute_result",
          "data": {
            "text/plain": [
              "array([8, 7, 6, 5, 4, 3, 2, 1])"
            ]
          },
          "metadata": {},
          "execution_count": 3
        }
      ]
    },
    {
      "cell_type": "code",
      "source": [
        "arr_2d = np.array([[1, 2, 3, 4], [5, 6, 7, 8], [9, 10, 11, 12]])\n",
        "arr_2d"
      ],
      "metadata": {
        "id": "iG_wbo7d4bpk",
        "outputId": "d2fcbcd8-aa6d-4210-8f28-f60e5210d6d2",
        "colab": {
          "base_uri": "https://localhost:8080/"
        }
      },
      "id": "iG_wbo7d4bpk",
      "execution_count": 13,
      "outputs": [
        {
          "output_type": "execute_result",
          "data": {
            "text/plain": [
              "array([[ 1,  2,  3,  4],\n",
              "       [ 5,  6,  7,  8],\n",
              "       [ 9, 10, 11, 12]])"
            ]
          },
          "metadata": {},
          "execution_count": 13
        }
      ]
    },
    {
      "cell_type": "code",
      "source": [
        "arr_2d_invertido = np.flip(arr_2d)\n",
        "arr_2d_invertido #Invierto totalmente la matriz, tanto columnas como filas."
      ],
      "metadata": {
        "id": "PonwMkfb4fBn",
        "outputId": "8fc50ef8-01ab-45bc-a6b1-cf0cdaa4287d",
        "colab": {
          "base_uri": "https://localhost:8080/"
        }
      },
      "id": "PonwMkfb4fBn",
      "execution_count": 5,
      "outputs": [
        {
          "output_type": "execute_result",
          "data": {
            "text/plain": [
              "array([[12, 11, 10,  9],\n",
              "       [ 8,  7,  6,  5],\n",
              "       [ 4,  3,  2,  1]])"
            ]
          },
          "metadata": {},
          "execution_count": 5
        }
      ]
    },
    {
      "cell_type": "code",
      "source": [
        "arr_2d_invertido = np.flip(arr_2d,axis=0) #Solo se invierten las columnas\n",
        "arr_2d_invertido"
      ],
      "metadata": {
        "colab": {
          "base_uri": "https://localhost:8080/"
        },
        "id": "MUgMBV0Y7z6i",
        "outputId": "ee67bb82-acf0-4be4-98f3-d116dabacd2d"
      },
      "id": "MUgMBV0Y7z6i",
      "execution_count": 6,
      "outputs": [
        {
          "output_type": "execute_result",
          "data": {
            "text/plain": [
              "array([[ 9, 10, 11, 12],\n",
              "       [ 5,  6,  7,  8],\n",
              "       [ 1,  2,  3,  4]])"
            ]
          },
          "metadata": {},
          "execution_count": 6
        }
      ]
    },
    {
      "cell_type": "code",
      "source": [
        "arr_2d_invertido = np.flip(arr_2d,axis=1) #Solo se invierten las filas\n",
        "arr_2d_invertido"
      ],
      "metadata": {
        "colab": {
          "base_uri": "https://localhost:8080/"
        },
        "id": "CcNiAjpd8M4y",
        "outputId": "8bb4a95d-ad80-4fe3-e08d-b72a95a0fcf5"
      },
      "id": "CcNiAjpd8M4y",
      "execution_count": 8,
      "outputs": [
        {
          "output_type": "execute_result",
          "data": {
            "text/plain": [
              "array([[ 4,  3,  2,  1],\n",
              "       [ 8,  7,  6,  5],\n",
              "       [12, 11, 10,  9]])"
            ]
          },
          "metadata": {},
          "execution_count": 8
        }
      ]
    },
    {
      "cell_type": "code",
      "source": [
        "arr_2d[1] = np.flip(arr_2d[1]) #Invertir solo una fila\n",
        "arr_2d"
      ],
      "metadata": {
        "id": "zSDvz_uP9P0P",
        "outputId": "0ec1fbe3-7433-4af6-cfac-eaa81b188515",
        "colab": {
          "base_uri": "https://localhost:8080/"
        }
      },
      "id": "zSDvz_uP9P0P",
      "execution_count": 10,
      "outputs": [
        {
          "output_type": "execute_result",
          "data": {
            "text/plain": [
              "array([[ 1,  2,  3,  4],\n",
              "       [ 8,  7,  6,  5],\n",
              "       [ 9, 10, 11, 12]])"
            ]
          },
          "metadata": {},
          "execution_count": 10
        }
      ]
    },
    {
      "cell_type": "code",
      "source": [
        "arr_2d[:,1] = np.flip(arr_2d[:,1]) #Invertir solo una columna\n",
        "arr_2d"
      ],
      "metadata": {
        "id": "Re9P8ALO9kd1",
        "outputId": "163f1ba4-ee08-4155-eef0-53567f5636f5",
        "colab": {
          "base_uri": "https://localhost:8080/"
        }
      },
      "id": "Re9P8ALO9kd1",
      "execution_count": 15,
      "outputs": [
        {
          "output_type": "execute_result",
          "data": {
            "text/plain": [
              "array([[ 1, 10,  3,  4],\n",
              "       [ 8,  7,  6,  5],\n",
              "       [ 9,  2, 11, 12]])"
            ]
          },
          "metadata": {},
          "execution_count": 15
        }
      ]
    },
    {
      "cell_type": "markdown",
      "source": [
        "## Reformar y aplanar matrices multimensionales.\n",
        "Uso de flateen() y ravel(). La diferencia entre ambos es que ravel() los cambios afectarán a la matriz principal."
      ],
      "metadata": {
        "id": "mw8GJc2VC1Hp"
      },
      "id": "mw8GJc2VC1Hp"
    },
    {
      "cell_type": "code",
      "source": [
        "x = np.array([[1 , 2, 3, 4], [5, 6, 7, 8], [9, 10, 11, 12]])\n",
        "x"
      ],
      "metadata": {
        "id": "Crk2CG_jC6Dc",
        "outputId": "25847bbb-d580-48c1-8df8-d4a2255c0f58",
        "colab": {
          "base_uri": "https://localhost:8080/"
        }
      },
      "id": "Crk2CG_jC6Dc",
      "execution_count": 21,
      "outputs": [
        {
          "output_type": "execute_result",
          "data": {
            "text/plain": [
              "array([[ 1,  2,  3,  4],\n",
              "       [ 5,  6,  7,  8],\n",
              "       [ 9, 10, 11, 12]])"
            ]
          },
          "metadata": {},
          "execution_count": 21
        }
      ]
    },
    {
      "cell_type": "code",
      "source": [
        "x.size"
      ],
      "metadata": {
        "id": "gWLML8ZMC87R",
        "outputId": "2e114b5c-9160-4d91-88d1-7c3e8a26be30",
        "colab": {
          "base_uri": "https://localhost:8080/"
        }
      },
      "id": "gWLML8ZMC87R",
      "execution_count": 20,
      "outputs": [
        {
          "output_type": "execute_result",
          "data": {
            "text/plain": [
              "12"
            ]
          },
          "metadata": {},
          "execution_count": 20
        }
      ]
    },
    {
      "cell_type": "code",
      "source": [
        "x.flatten() #Aplana una matriz"
      ],
      "metadata": {
        "id": "-GEQCzLFDFOu",
        "outputId": "25ea1582-b512-4f80-9a4e-31a472e95eed",
        "colab": {
          "base_uri": "https://localhost:8080/"
        }
      },
      "id": "-GEQCzLFDFOu",
      "execution_count": 22,
      "outputs": [
        {
          "output_type": "execute_result",
          "data": {
            "text/plain": [
              "array([ 1,  2,  3,  4,  5,  6,  7,  8,  9, 10, 11, 12])"
            ]
          },
          "metadata": {},
          "execution_count": 22
        }
      ]
    },
    {
      "cell_type": "code",
      "source": [
        "x.ravel() #Aplana una matriz"
      ],
      "metadata": {
        "id": "NquhaIe1DmuT",
        "outputId": "8f572fc6-f874-4ef1-a90a-a574f9fa4f49",
        "colab": {
          "base_uri": "https://localhost:8080/"
        }
      },
      "id": "NquhaIe1DmuT",
      "execution_count": 23,
      "outputs": [
        {
          "output_type": "execute_result",
          "data": {
            "text/plain": [
              "array([ 1,  2,  3,  4,  5,  6,  7,  8,  9, 10, 11, 12])"
            ]
          },
          "metadata": {},
          "execution_count": 23
        }
      ]
    },
    {
      "cell_type": "code",
      "source": [
        "x_ref = x.flatten()\n",
        "x_ref[0] = 10000 #Referencia\n",
        "x_ref,x #No afectada la matriz principal"
      ],
      "metadata": {
        "id": "OmY5OI25Du98",
        "outputId": "ee1585fe-3880-4aaa-f05a-466fe817d017",
        "colab": {
          "base_uri": "https://localhost:8080/"
        }
      },
      "id": "OmY5OI25Du98",
      "execution_count": 30,
      "outputs": [
        {
          "output_type": "execute_result",
          "data": {
            "text/plain": [
              "(array([10000,     2,     3,     4,     5,     6,     7,     8,     9,\n",
              "           10,    11,    12]),\n",
              " array([[10000,     2,     3,     4],\n",
              "        [    5,     6,     7,     8],\n",
              "        [    9,    10,    11,    12]]))"
            ]
          },
          "metadata": {},
          "execution_count": 30
        }
      ]
    },
    {
      "cell_type": "code",
      "source": [
        "x_ref = x.ravel()\n",
        "x_ref[0] = 10000 #Referencia\n",
        "x_ref,x #Afectada la matriz principal"
      ],
      "metadata": {
        "id": "vrlj560pD1Kq",
        "outputId": "d7ca8a6d-5fca-42cb-9b05-ccf7b6c84e8e",
        "colab": {
          "base_uri": "https://localhost:8080/"
        }
      },
      "id": "vrlj560pD1Kq",
      "execution_count": 31,
      "outputs": [
        {
          "output_type": "execute_result",
          "data": {
            "text/plain": [
              "(array([10000,     2,     3,     4,     5,     6,     7,     8,     9,\n",
              "           10,    11,    12]),\n",
              " array([[10000,     2,     3,     4],\n",
              "        [    5,     6,     7,     8],\n",
              "        [    9,    10,    11,    12]]))"
            ]
          },
          "metadata": {},
          "execution_count": 31
        }
      ]
    }
  ],
  "metadata": {
    "kernelspec": {
      "display_name": "Python 3 (ipykernel)",
      "language": "python",
      "name": "python3"
    },
    "language_info": {
      "codemirror_mode": {
        "name": "ipython",
        "version": 3
      },
      "file_extension": ".py",
      "mimetype": "text/x-python",
      "name": "python",
      "nbconvert_exporter": "python",
      "pygments_lexer": "ipython3",
      "version": "3.11.4"
    },
    "colab": {
      "provenance": [],
      "toc_visible": true
    }
  },
  "nbformat": 4,
  "nbformat_minor": 5
}