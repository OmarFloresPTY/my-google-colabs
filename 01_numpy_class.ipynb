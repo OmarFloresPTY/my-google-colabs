{
 "cells": [
  {
   "cell_type": "code",
   "execution_count": 5,
   "id": "1a32ed42",
   "metadata": {},
   "outputs": [],
   "source": [
    "import numpy as np"
   ]
  },
  {
   "cell_type": "code",
   "execution_count": 6,
   "id": "97f7c543",
   "metadata": {},
   "outputs": [],
   "source": [
    "a = np.array([1,2,3,4]) #Array"
   ]
  },
  {
   "cell_type": "code",
   "execution_count": 7,
   "id": "03f1df40",
   "metadata": {},
   "outputs": [],
   "source": [
    "lista = [1,2,3,4]"
   ]
  },
  {
   "cell_type": "code",
   "execution_count": 8,
   "id": "3f7dc80c",
   "metadata": {},
   "outputs": [
    {
     "data": {
      "text/plain": [
       "array([1, 2, 3, 4])"
      ]
     },
     "execution_count": 8,
     "metadata": {},
     "output_type": "execute_result"
    }
   ],
   "source": [
    "a"
   ]
  },
  {
   "cell_type": "code",
   "execution_count": 9,
   "id": "d377ae49",
   "metadata": {
    "scrolled": false
   },
   "outputs": [],
   "source": [
    "b = np.array([[1,2,3,4],[1,2,3,4]])"
   ]
  },
  {
   "cell_type": "code",
   "execution_count": 10,
   "id": "74cabc27",
   "metadata": {},
   "outputs": [
    {
     "data": {
      "text/plain": [
       "array([[1, 2, 3, 4],\n",
       "       [1, 2, 3, 4]])"
      ]
     },
     "execution_count": 10,
     "metadata": {},
     "output_type": "execute_result"
    }
   ],
   "source": [
    "b"
   ]
  },
  {
   "cell_type": "code",
   "execution_count": 11,
   "id": "7ececbea",
   "metadata": {},
   "outputs": [
    {
     "data": {
      "text/plain": [
       "4"
      ]
     },
     "execution_count": 11,
     "metadata": {},
     "output_type": "execute_result"
    }
   ],
   "source": [
    "a[2]\n",
    "a[0]+a[2] #0 + 3"
   ]
  },
  {
   "cell_type": "code",
   "execution_count": 12,
   "id": "2f51b4b3",
   "metadata": {},
   "outputs": [
    {
     "data": {
      "text/plain": [
       "array([2, 3, 4])"
      ]
     },
     "execution_count": 12,
     "metadata": {},
     "output_type": "execute_result"
    }
   ],
   "source": [
    "b[1]\n",
    "b[1][2]\n",
    "b[1][1:]"
   ]
  },
  {
   "cell_type": "markdown",
   "id": "9b44c61f",
   "metadata": {},
   "source": [
    "# Cómo crear una matriz básica"
   ]
  },
  {
   "cell_type": "markdown",
   "id": "6c1b4cfe",
   "metadata": {},
   "source": [
    "<img src=\"https://numpy.org/doc/stable/_images/np_array.png\">"
   ]
  },
  {
   "cell_type": "code",
   "execution_count": 13,
   "id": "c2c1df24",
   "metadata": {},
   "outputs": [],
   "source": [
    "a = np.array([1,2,3])"
   ]
  },
  {
   "cell_type": "code",
   "execution_count": 18,
   "id": "31c85ca7",
   "metadata": {},
   "outputs": [
    {
     "data": {
      "text/plain": [
       "array([[[0., 0., 0.],\n",
       "        [0., 0., 0.]],\n",
       "\n",
       "       [[0., 0., 0.],\n",
       "        [0., 0., 0.]],\n",
       "\n",
       "       [[0., 0., 0.],\n",
       "        [0., 0., 0.]],\n",
       "\n",
       "       [[0., 0., 0.],\n",
       "        [0., 0., 0.]],\n",
       "\n",
       "       [[0., 0., 0.],\n",
       "        [0., 0., 0.]]])"
      ]
     },
     "execution_count": 18,
     "metadata": {},
     "output_type": "execute_result"
    }
   ],
   "source": [
    "#np.zeros(2) #Crear Array de ceros\n",
    "#np.zeros(5)\n",
    "#np.zeros((5,2)) #Crear matriz de ceros\n",
    "np.zeros((5,2,3)) #Crear tensor de ceros"
   ]
  },
  {
   "cell_type": "code",
   "execution_count": 23,
   "id": "8c2500bc",
   "metadata": {},
   "outputs": [
    {
     "data": {
      "text/plain": [
       "array([[[1., 1.],\n",
       "        [1., 1.]],\n",
       "\n",
       "       [[1., 1.],\n",
       "        [1., 1.]]])"
      ]
     },
     "execution_count": 23,
     "metadata": {},
     "output_type": "execute_result"
    }
   ],
   "source": [
    "#np.ones(2)#Crear Array de 1`s\n",
    "#np.ones((2,2)) #Crear Matriz de 1`s\n",
    "np.ones((2,2,2)) #Crear Tensor de 1`s"
   ]
  },
  {
   "cell_type": "code",
   "execution_count": 31,
   "id": "f05913a8",
   "metadata": {},
   "outputs": [
    {
     "data": {
      "text/plain": [
       "array([5. , 5.5, 6. , 6.5, 7. , 7.5, 8. , 8.5, 9. , 9.5])"
      ]
     },
     "execution_count": 31,
     "metadata": {},
     "output_type": "execute_result"
    }
   ],
   "source": [
    "#np.arange(4) #Solo crea arreglos UNIDEMSIONAL\n",
    "#np.arange(5,10) #Rango inicial y final\n",
    "np.arange(5,10,0.5) #Rango inicial, final y pasos."
   ]
  },
  {
   "cell_type": "code",
   "execution_count": 32,
   "id": "6f0b2c52",
   "metadata": {},
   "outputs": [],
   "source": [
    "arr = np.arange(5,20,5)"
   ]
  },
  {
   "cell_type": "code",
   "execution_count": 35,
   "id": "4f474e02",
   "metadata": {},
   "outputs": [
    {
     "data": {
      "text/plain": [
       "dtype('float32')"
      ]
     },
     "execution_count": 35,
     "metadata": {},
     "output_type": "execute_result"
    }
   ],
   "source": [
    "arr.dtype"
   ]
  },
  {
   "cell_type": "code",
   "execution_count": 34,
   "id": "3fa5457f",
   "metadata": {},
   "outputs": [],
   "source": [
    "arr = np.arange(5,20,5,dtype=\"float32\") #Convertir de int a float"
   ]
  },
  {
   "cell_type": "code",
   "execution_count": 36,
   "id": "21e8412e",
   "metadata": {},
   "outputs": [
    {
     "data": {
      "text/plain": [
       "array([ 5., 10., 15.], dtype=float32)"
      ]
     },
     "execution_count": 36,
     "metadata": {},
     "output_type": "execute_result"
    }
   ],
   "source": [
    "arr"
   ]
  },
  {
   "cell_type": "code",
   "execution_count": 41,
   "id": "0683b03f",
   "metadata": {},
   "outputs": [],
   "source": [
    "arr = np.array([1.33,14.233,123.44])"
   ]
  },
  {
   "cell_type": "code",
   "execution_count": 44,
   "id": "3afb3f20",
   "metadata": {},
   "outputs": [
    {
     "data": {
      "text/plain": [
       "dtype('float64')"
      ]
     },
     "execution_count": 44,
     "metadata": {},
     "output_type": "execute_result"
    }
   ],
   "source": [
    "arr.dtype"
   ]
  },
  {
   "cell_type": "code",
   "execution_count": 45,
   "id": "1cb2ddc8",
   "metadata": {},
   "outputs": [
    {
     "data": {
      "text/plain": [
       "array([  1.33 ,  14.233, 123.44 ])"
      ]
     },
     "execution_count": 45,
     "metadata": {},
     "output_type": "execute_result"
    }
   ],
   "source": [
    "arr"
   ]
  },
  {
   "cell_type": "code",
   "execution_count": 47,
   "id": "f4a0ffbb",
   "metadata": {},
   "outputs": [],
   "source": [
    "arr = np.array(arr,dtype=\"int32\") #Convertir de float a int"
   ]
  },
  {
   "cell_type": "code",
   "execution_count": 48,
   "id": "05bb047c",
   "metadata": {},
   "outputs": [
    {
     "data": {
      "text/plain": [
       "array([  1,  14, 123])"
      ]
     },
     "execution_count": 48,
     "metadata": {},
     "output_type": "execute_result"
    }
   ],
   "source": [
    "arr"
   ]
  },
  {
   "cell_type": "code",
   "execution_count": 49,
   "id": "d67a80ac",
   "metadata": {},
   "outputs": [],
   "source": [
    "string_array = np.array(['23.32','23.122','544.22'])"
   ]
  },
  {
   "cell_type": "code",
   "execution_count": 52,
   "id": "fd9fda22",
   "metadata": {},
   "outputs": [
    {
     "data": {
      "text/plain": [
       "array([ 23.32 ,  23.122, 544.22 ], dtype=float32)"
      ]
     },
     "execution_count": 52,
     "metadata": {},
     "output_type": "execute_result"
    }
   ],
   "source": [
    "string_array"
   ]
  },
  {
   "cell_type": "code",
   "execution_count": 51,
   "id": "38c49a7a",
   "metadata": {},
   "outputs": [],
   "source": [
    "string_array = np.array(string_array,dtype=\"float32\") #Convertir de string a float"
   ]
  },
  {
   "cell_type": "markdown",
   "id": "156bb295",
   "metadata": {},
   "source": [
    "## Linspace vs Arange (UNIDEMENSIONAL)"
   ]
  },
  {
   "cell_type": "code",
   "execution_count": 59,
   "id": "645eb0ef",
   "metadata": {},
   "outputs": [
    {
     "data": {
      "text/plain": [
       "array([ 0.        ,  0.52631579,  1.05263158,  1.57894737,  2.10526316,\n",
       "        2.63157895,  3.15789474,  3.68421053,  4.21052632,  4.73684211,\n",
       "        5.26315789,  5.78947368,  6.31578947,  6.84210526,  7.36842105,\n",
       "        7.89473684,  8.42105263,  8.94736842,  9.47368421, 10.        ])"
      ]
     },
     "execution_count": 59,
     "metadata": {},
     "output_type": "execute_result"
    }
   ],
   "source": [
    "np.linspace(0,10,num=20) #indica en CUANTOS ELEMENTOS queremos llegar al límite superior"
   ]
  },
  {
   "cell_type": "code",
   "execution_count": 56,
   "id": "8b610bae",
   "metadata": {
    "scrolled": false
   },
   "outputs": [
    {
     "data": {
      "text/plain": [
       "array([0. , 0.5, 1. , 1.5, 2. , 2.5, 3. , 3.5, 4. , 4.5, 5. , 5.5, 6. ,\n",
       "       6.5, 7. , 7.5, 8. , 8.5, 9. , 9.5])"
      ]
     },
     "execution_count": 56,
     "metadata": {},
     "output_type": "execute_result"
    }
   ],
   "source": [
    "np.arange(0,10,0.5) #indica de CUANTO EN CUANTO queremos llegar al límite superior."
   ]
  },
  {
   "cell_type": "markdown",
   "id": "4b321fba",
   "metadata": {},
   "source": [
    "## Adición, eliminación y clasificación de elementos"
   ]
  },
  {
   "cell_type": "code",
   "execution_count": 60,
   "id": "9a013b47",
   "metadata": {},
   "outputs": [],
   "source": [
    "arr = np.array([2,1,5,3,7,4,6,8])"
   ]
  },
  {
   "cell_type": "code",
   "execution_count": 61,
   "id": "e76f7083",
   "metadata": {},
   "outputs": [
    {
     "data": {
      "text/plain": [
       "array([2, 1, 5, 3, 7, 4, 6, 8])"
      ]
     },
     "execution_count": 61,
     "metadata": {},
     "output_type": "execute_result"
    }
   ],
   "source": [
    "arr"
   ]
  },
  {
   "cell_type": "code",
   "execution_count": 62,
   "id": "8b4e8c81",
   "metadata": {},
   "outputs": [
    {
     "data": {
      "text/plain": [
       "array([1, 2, 3, 4, 5, 6, 7, 8])"
      ]
     },
     "execution_count": 62,
     "metadata": {},
     "output_type": "execute_result"
    }
   ],
   "source": [
    "np.sort(arr) #Ordena el array de asc"
   ]
  },
  {
   "cell_type": "code",
   "execution_count": 66,
   "id": "2f7e8f89",
   "metadata": {},
   "outputs": [
    {
     "data": {
      "text/plain": [
       "array([1, 2, 3, 4, 5, 6, 7, 8])"
      ]
     },
     "execution_count": 66,
     "metadata": {},
     "output_type": "execute_result"
    }
   ],
   "source": [
    "np.sort(arr)"
   ]
  },
  {
   "cell_type": "code",
   "execution_count": 79,
   "id": "0ddde0cb",
   "metadata": {},
   "outputs": [],
   "source": [
    "matriz = np.array([[10,50,30],[30,40,20]])"
   ]
  },
  {
   "cell_type": "code",
   "execution_count": 84,
   "id": "35c6d564",
   "metadata": {},
   "outputs": [
    {
     "data": {
      "text/plain": [
       "array([[10, 40, 20],\n",
       "       [30, 50, 30]])"
      ]
     },
     "execution_count": 84,
     "metadata": {},
     "output_type": "execute_result"
    }
   ],
   "source": [
    "matriz"
   ]
  },
  {
   "cell_type": "code",
   "execution_count": 83,
   "id": "a7d26aed",
   "metadata": {},
   "outputs": [],
   "source": [
    "matriz = np.sort(matriz,axis=0) #Cuando se agrega el axis, nos permite ordenar por columnas."
   ]
  },
  {
   "cell_type": "code",
   "execution_count": 85,
   "id": "6753031d",
   "metadata": {},
   "outputs": [],
   "source": [
    "a = np.array([1,2,3,4])\n",
    "b = np.array([5,6,7,8])"
   ]
  },
  {
   "cell_type": "code",
   "execution_count": 86,
   "id": "13fb47b6",
   "metadata": {},
   "outputs": [
    {
     "data": {
      "text/plain": [
       "array([1, 2, 3, 4, 5, 6, 7, 8])"
      ]
     },
     "execution_count": 86,
     "metadata": {},
     "output_type": "execute_result"
    }
   ],
   "source": [
    "np.concatenate((a,b)) #Concatena arrays"
   ]
  },
  {
   "cell_type": "code",
   "execution_count": 118,
   "id": "00460b86",
   "metadata": {},
   "outputs": [],
   "source": [
    "matriz_a = np.array([[1,2,3],[4,5,9]])"
   ]
  },
  {
   "cell_type": "code",
   "execution_count": 119,
   "id": "966fefca",
   "metadata": {},
   "outputs": [],
   "source": [
    "matriz_b = np.array([[11,22,12],[44,55,44]])"
   ]
  },
  {
   "cell_type": "code",
   "execution_count": 122,
   "id": "493d021a",
   "metadata": {
    "scrolled": true
   },
   "outputs": [
    {
     "data": {
      "text/plain": [
       "array([[ 1,  2,  3, 11, 22, 12],\n",
       "       [ 4,  5,  9, 44, 55, 44]])"
      ]
     },
     "execution_count": 122,
     "metadata": {},
     "output_type": "execute_result"
    }
   ],
   "source": [
    "#np.concatenate((matriz_a,matriz_b)) #Por default se concatenan las columnas\n",
    "np.concatenate((matriz_a,matriz_b),axis=1) #Se concatenan las filas si se le especifica"
   ]
  },
  {
   "cell_type": "markdown",
   "id": "fe427c6a",
   "metadata": {},
   "source": [
    "## ¿Cómo sabes la forma y el tamaño de una matriz?"
   ]
  },
  {
   "cell_type": "code",
   "execution_count": 127,
   "id": "5878c361",
   "metadata": {},
   "outputs": [],
   "source": [
    "array_example = np.array([[[0, 1, 2, 3],\n",
    "                           [4, 5, 6, 7]],\n",
    "\n",
    "                          [[0, 1, 2, 3],\n",
    "                           [4, 5, 6, 7]],\n",
    "\n",
    "                          [[0 ,1 ,2, 3],\n",
    "                           [4, 5, 6, 7]]])"
   ]
  },
  {
   "cell_type": "code",
   "execution_count": 131,
   "id": "9c80bdeb",
   "metadata": {},
   "outputs": [
    {
     "data": {
      "text/plain": [
       "3"
      ]
     },
     "execution_count": 131,
     "metadata": {},
     "output_type": "execute_result"
    }
   ],
   "source": [
    "array_example.ndim #Sabemos la dimensión de la matriz"
   ]
  },
  {
   "cell_type": "code",
   "execution_count": 132,
   "id": "ce0cacf4",
   "metadata": {},
   "outputs": [
    {
     "data": {
      "text/plain": [
       "24"
      ]
     },
     "execution_count": 132,
     "metadata": {},
     "output_type": "execute_result"
    }
   ],
   "source": [
    "array_example.size #Sabemos cuantos elementos tiene la matriz"
   ]
  },
  {
   "cell_type": "code",
   "execution_count": 133,
   "id": "ecff7e97",
   "metadata": {},
   "outputs": [
    {
     "data": {
      "text/plain": [
       "(3, 2, 4)"
      ]
     },
     "execution_count": 133,
     "metadata": {},
     "output_type": "execute_result"
    }
   ],
   "source": [
    "array_example.shape #Sabemo la forma de la matriz"
   ]
  },
  {
   "cell_type": "markdown",
   "id": "5934567f",
   "metadata": {},
   "source": [
    "## ¿Puedes remodelar una matriz?"
   ]
  },
  {
   "cell_type": "code",
   "execution_count": 140,
   "id": "0d37398f",
   "metadata": {},
   "outputs": [],
   "source": [
    "matriz = np.array([np.arange(1,10),np.arange(21,30)])"
   ]
  },
  {
   "cell_type": "code",
   "execution_count": 141,
   "id": "e429d990",
   "metadata": {},
   "outputs": [
    {
     "data": {
      "text/plain": [
       "array([[ 1,  2,  3,  4,  5,  6,  7,  8,  9],\n",
       "       [21, 22, 23, 24, 25, 26, 27, 28, 29]])"
      ]
     },
     "execution_count": 141,
     "metadata": {},
     "output_type": "execute_result"
    }
   ],
   "source": [
    "matriz"
   ]
  },
  {
   "cell_type": "code",
   "execution_count": 143,
   "id": "fb6b283f",
   "metadata": {},
   "outputs": [
    {
     "data": {
      "text/plain": [
       "(2, 9)"
      ]
     },
     "execution_count": 143,
     "metadata": {},
     "output_type": "execute_result"
    }
   ],
   "source": [
    "matriz.shape"
   ]
  },
  {
   "cell_type": "code",
   "execution_count": 145,
   "id": "d7378ac2",
   "metadata": {},
   "outputs": [
    {
     "data": {
      "text/plain": [
       "(9, 2)"
      ]
     },
     "execution_count": 145,
     "metadata": {},
     "output_type": "execute_result"
    }
   ],
   "source": [
    "matriz.T.shape #Matriz Transpuesta"
   ]
  },
  {
   "cell_type": "code",
   "execution_count": 152,
   "id": "4d32c3e8",
   "metadata": {},
   "outputs": [
    {
     "data": {
      "text/plain": [
       "(6, 3)"
      ]
     },
     "execution_count": 152,
     "metadata": {},
     "output_type": "execute_result"
    }
   ],
   "source": [
    "matriz.reshape(6,3).shape"
   ]
  },
  {
   "cell_type": "code",
   "execution_count": 149,
   "id": "e681a3ce",
   "metadata": {},
   "outputs": [
    {
     "data": {
      "text/plain": [
       "array([[ 1,  2,  3],\n",
       "       [ 4,  5,  6],\n",
       "       [ 7,  8,  9],\n",
       "       [21, 22, 23],\n",
       "       [24, 25, 26],\n",
       "       [27, 28, 29]])"
      ]
     },
     "execution_count": 149,
     "metadata": {},
     "output_type": "execute_result"
    }
   ],
   "source": [
    "matriz.reshape(6,3) #Remodela la matriz."
   ]
  },
  {
   "cell_type": "code",
   "execution_count": 150,
   "id": "7bc09f25",
   "metadata": {},
   "outputs": [
    {
     "data": {
      "text/plain": [
       "array([[ 1,  2,  3,  4,  5,  6],\n",
       "       [ 7,  8,  9, 21, 22, 23],\n",
       "       [24, 25, 26, 27, 28, 29]])"
      ]
     },
     "execution_count": 150,
     "metadata": {},
     "output_type": "execute_result"
    }
   ],
   "source": [
    "matriz.reshape(3,6)"
   ]
  },
  {
   "cell_type": "markdown",
   "id": "29f05345",
   "metadata": {},
   "source": [
    "## Cómo convertir una matriz 1D en una matriz 2D"
   ]
  },
  {
   "cell_type": "code",
   "execution_count": 154,
   "id": "c36ff67b",
   "metadata": {},
   "outputs": [
    {
     "data": {
      "text/plain": [
       "(6,)"
      ]
     },
     "execution_count": 154,
     "metadata": {},
     "output_type": "execute_result"
    }
   ],
   "source": [
    "a = np.array([1,2,3,4,5,6])\n",
    "a.shape"
   ]
  },
  {
   "cell_type": "code",
   "execution_count": 155,
   "id": "df25f64d",
   "metadata": {},
   "outputs": [],
   "source": [
    "a2 = a[np.newaxis,:] #Le agrega solo una dimensión a nivel de fila."
   ]
  },
  {
   "cell_type": "code",
   "execution_count": 158,
   "id": "653989d9",
   "metadata": {},
   "outputs": [],
   "source": [
    "a2 = a[:,np.newaxis] #Le agrega solo una dimensión a nivel de columna."
   ]
  },
  {
   "cell_type": "code",
   "execution_count": 159,
   "id": "2143bbb9",
   "metadata": {},
   "outputs": [
    {
     "data": {
      "text/plain": [
       "(6, 1)"
      ]
     },
     "execution_count": 159,
     "metadata": {},
     "output_type": "execute_result"
    }
   ],
   "source": [
    "a2.shape"
   ]
  },
  {
   "cell_type": "code",
   "execution_count": 160,
   "id": "147a78b7",
   "metadata": {},
   "outputs": [
    {
     "data": {
      "text/plain": [
       "array([[1],\n",
       "       [2],\n",
       "       [3],\n",
       "       [4],\n",
       "       [5],\n",
       "       [6]])"
      ]
     },
     "execution_count": 160,
     "metadata": {},
     "output_type": "execute_result"
    }
   ],
   "source": [
    "a2"
   ]
  },
  {
   "cell_type": "code",
   "execution_count": 161,
   "id": "fb9a4470",
   "metadata": {},
   "outputs": [],
   "source": [
    "a = np.array([1,2,3,4,5,6])"
   ]
  },
  {
   "cell_type": "code",
   "execution_count": 162,
   "id": "1628c0e8",
   "metadata": {},
   "outputs": [
    {
     "data": {
      "text/plain": [
       "(6,)"
      ]
     },
     "execution_count": 162,
     "metadata": {},
     "output_type": "execute_result"
    }
   ],
   "source": [
    "a.shape"
   ]
  },
  {
   "cell_type": "code",
   "execution_count": 163,
   "id": "79571bcf",
   "metadata": {},
   "outputs": [
    {
     "data": {
      "text/plain": [
       "array([[1],\n",
       "       [2],\n",
       "       [3],\n",
       "       [4],\n",
       "       [5],\n",
       "       [6]])"
      ]
     },
     "execution_count": 163,
     "metadata": {},
     "output_type": "execute_result"
    }
   ],
   "source": [
    "b = np.expand_dims(a, axis=1)\n",
    "b"
   ]
  },
  {
   "cell_type": "code",
   "execution_count": 173,
   "id": "29e77d7d",
   "metadata": {},
   "outputs": [
    {
     "data": {
      "text/plain": [
       "array([[[1]],\n",
       "\n",
       "       [[2]],\n",
       "\n",
       "       [[3]],\n",
       "\n",
       "       [[4]],\n",
       "\n",
       "       [[5]],\n",
       "\n",
       "       [[6]]])"
      ]
     },
     "execution_count": 173,
     "metadata": {},
     "output_type": "execute_result"
    }
   ],
   "source": [
    "z = np.expand_dims(b,axis=1)\n",
    "z"
   ]
  },
  {
   "cell_type": "code",
   "execution_count": 174,
   "id": "04afd0a3",
   "metadata": {},
   "outputs": [
    {
     "data": {
      "text/plain": [
       "(6, 1, 1)"
      ]
     },
     "execution_count": 174,
     "metadata": {},
     "output_type": "execute_result"
    }
   ],
   "source": [
    "z.shape"
   ]
  },
  {
   "cell_type": "code",
   "execution_count": 164,
   "id": "6c0e26dc",
   "metadata": {},
   "outputs": [
    {
     "data": {
      "text/plain": [
       "array([[1, 2, 3, 4, 5, 6]])"
      ]
     },
     "execution_count": 164,
     "metadata": {},
     "output_type": "execute_result"
    }
   ],
   "source": [
    "c = np.expand_dims(a,axis=0)#Muy similar al np.newaxis\n",
    "c"
   ]
  },
  {
   "cell_type": "markdown",
   "id": "6599347f",
   "metadata": {},
   "source": [
    "### Operadores Lógicos con Numpy"
   ]
  },
  {
   "cell_type": "code",
   "execution_count": 182,
   "id": "7dffa385",
   "metadata": {},
   "outputs": [],
   "source": [
    "lista = [1,2,3,4,5,6]"
   ]
  },
  {
   "cell_type": "code",
   "execution_count": 183,
   "id": "22a00c4e",
   "metadata": {
    "scrolled": true
   },
   "outputs": [
    {
     "ename": "TypeError",
     "evalue": "'>' not supported between instances of 'list' and 'int'",
     "output_type": "error",
     "traceback": [
      "\u001b[1;31m---------------------------------------------------------------------------\u001b[0m",
      "\u001b[1;31mTypeError\u001b[0m                                 Traceback (most recent call last)",
      "Cell \u001b[1;32mIn[183], line 1\u001b[0m\n\u001b[1;32m----> 1\u001b[0m lista[\u001b[43mlista\u001b[49m\u001b[43m \u001b[49m\u001b[38;5;241;43m>\u001b[39;49m\u001b[43m \u001b[49m\u001b[38;5;241;43m4\u001b[39;49m]\n",
      "\u001b[1;31mTypeError\u001b[0m: '>' not supported between instances of 'list' and 'int'"
     ]
    }
   ],
   "source": [
    "lista[lista > 4] #En listas no es posible, experimento interesante."
   ]
  },
  {
   "cell_type": "code",
   "execution_count": 184,
   "id": "bdcfa064",
   "metadata": {},
   "outputs": [],
   "source": [
    "arr = np.array(lista)"
   ]
  },
  {
   "cell_type": "code",
   "execution_count": 185,
   "id": "4d33fc56",
   "metadata": {},
   "outputs": [
    {
     "data": {
      "text/plain": [
       "array([5, 6])"
      ]
     },
     "execution_count": 185,
     "metadata": {},
     "output_type": "execute_result"
    }
   ],
   "source": [
    "arr[arr>4]"
   ]
  },
  {
   "cell_type": "code",
   "execution_count": 206,
   "id": "21875119",
   "metadata": {},
   "outputs": [],
   "source": [
    "a = np.array([[1 , 2, 3, 4], [5, 6, 7, 8], [9, 10, 11, 12]])"
   ]
  },
  {
   "cell_type": "code",
   "execution_count": 208,
   "id": "ca981cef",
   "metadata": {},
   "outputs": [
    {
     "data": {
      "text/plain": [
       "array([[ 1,  2,  3,  4],\n",
       "       [ 5,  6,  7,  8],\n",
       "       [ 9, 10, 11, 12]])"
      ]
     },
     "execution_count": 208,
     "metadata": {},
     "output_type": "execute_result"
    }
   ],
   "source": [
    "a"
   ]
  },
  {
   "cell_type": "markdown",
   "id": "94912ffc",
   "metadata": {},
   "source": [
    "Filtrar: De esta forma podemos filtar datos que cumplan con esa condición"
   ]
  },
  {
   "cell_type": "code",
   "execution_count": 195,
   "id": "64e5d964",
   "metadata": {
    "scrolled": true
   },
   "outputs": [
    {
     "data": {
      "text/plain": [
       "array([ 8, 10, 12])"
      ]
     },
     "execution_count": 195,
     "metadata": {},
     "output_type": "execute_result"
    }
   ],
   "source": [
    "#a[a%2==0] #Numeros pares\n",
    "a[(a>6) & (a%2==0)] #Numeros pares y que sean mayores que 6.   & para and y | para or"
   ]
  },
  {
   "cell_type": "code",
   "execution_count": 210,
   "id": "d31ec1a5",
   "metadata": {},
   "outputs": [
    {
     "data": {
      "text/plain": [
       "(array([0, 0, 0], dtype=int64), array([0, 1, 2], dtype=int64))"
      ]
     },
     "execution_count": 210,
     "metadata": {},
     "output_type": "execute_result"
    }
   ],
   "source": [
    "#El resultado son los indices de los elementos que cumplen con esa condición\n",
    "np.nonzero(a<4) #La primera matriz representa los índices de las filas y la segunda representa los índices de las columnas que cumplen con esa condición"
   ]
  },
  {
   "cell_type": "code",
   "execution_count": 214,
   "id": "4ed5b9cb",
   "metadata": {},
   "outputs": [],
   "source": [
    "b = np.nonzero(a<4)"
   ]
  },
  {
   "cell_type": "code",
   "execution_count": 215,
   "id": "32d7a3c0",
   "metadata": {},
   "outputs": [],
   "source": [
    "lista_coordenadas = list(zip(b[0],b[1])) #Una forma de unir las coordenadas"
   ]
  },
  {
   "cell_type": "code",
   "execution_count": 216,
   "id": "ce19c4c6",
   "metadata": {},
   "outputs": [
    {
     "data": {
      "text/plain": [
       "[(0, 0), (0, 1), (0, 2)]"
      ]
     },
     "execution_count": 216,
     "metadata": {},
     "output_type": "execute_result"
    }
   ],
   "source": [
    "lista_coordenadas"
   ]
  },
  {
   "cell_type": "markdown",
   "id": "0156a1e5",
   "metadata": {},
   "source": [
    "Comprobar: De esta forma podemos comprobar que elemento cumple con esa condición"
   ]
  },
  {
   "cell_type": "code",
   "execution_count": 202,
   "id": "44c6b656",
   "metadata": {},
   "outputs": [
    {
     "data": {
      "text/plain": [
       "array([[ 1,  2,  3,  4],\n",
       "       [ 5,  6,  7,  8],\n",
       "       [ 9, 10, 11, 12]])"
      ]
     },
     "execution_count": 202,
     "metadata": {},
     "output_type": "execute_result"
    }
   ],
   "source": [
    "a"
   ]
  },
  {
   "cell_type": "code",
   "execution_count": 196,
   "id": "eacb1340",
   "metadata": {},
   "outputs": [
    {
     "data": {
      "text/plain": [
       "array([[False,  True, False,  True],\n",
       "       [False,  True, False,  True],\n",
       "       [False,  True, False,  True]])"
      ]
     },
     "execution_count": 196,
     "metadata": {},
     "output_type": "execute_result"
    }
   ],
   "source": [
    "a % 2 == 0 "
   ]
  },
  {
   "cell_type": "code",
   "execution_count": 201,
   "id": "d727ebe7",
   "metadata": {},
   "outputs": [
    {
     "data": {
      "text/plain": [
       "array([[False, False, False, False],\n",
       "       [False,  True, False,  True],\n",
       "       [False,  True, False,  True]])"
      ]
     },
     "execution_count": 201,
     "metadata": {},
     "output_type": "execute_result"
    }
   ],
   "source": [
    "(a % 2 == 0) & (a >= 6)"
   ]
  },
  {
   "cell_type": "markdown",
   "id": "cf55bf07",
   "metadata": {},
   "source": [
    "¡IMPORTANTE!"
   ]
  },
  {
   "cell_type": "code",
   "execution_count": 252,
   "id": "e4735de9",
   "metadata": {},
   "outputs": [],
   "source": [
    "a = np.array([[1, 2, 3, 4], [5, 6, 7, 8], [9, 10, 11, 12]])"
   ]
  },
  {
   "cell_type": "code",
   "execution_count": 246,
   "id": "1ab6c777",
   "metadata": {},
   "outputs": [
    {
     "data": {
      "text/plain": [
       "array([1, 2, 3, 4])"
      ]
     },
     "execution_count": 246,
     "metadata": {},
     "output_type": "execute_result"
    }
   ],
   "source": [
    "b1 = a[0][:]\n",
    "b1"
   ]
  },
  {
   "cell_type": "code",
   "execution_count": 247,
   "id": "a2d45b25",
   "metadata": {},
   "outputs": [],
   "source": [
    "b1[3] = 99"
   ]
  },
  {
   "cell_type": "code",
   "execution_count": 248,
   "id": "7deee5e4",
   "metadata": {},
   "outputs": [
    {
     "data": {
      "text/plain": [
       "array([ 1,  2,  3, 99])"
      ]
     },
     "execution_count": 248,
     "metadata": {},
     "output_type": "execute_result"
    }
   ],
   "source": [
    "a[0] #Vemos como se modificó el elemento original y esto lo hicimos por medio de la variable b1"
   ]
  },
  {
   "cell_type": "code",
   "execution_count": 257,
   "id": "182d5643",
   "metadata": {},
   "outputs": [],
   "source": [
    "b1 = a[0][:].copy() #De esta forma podemos realizar una copia sin modificar la parte original"
   ]
  },
  {
   "cell_type": "code",
   "execution_count": 254,
   "id": "be706d57",
   "metadata": {},
   "outputs": [
    {
     "data": {
      "text/plain": [
       "array([1, 2, 3, 4])"
      ]
     },
     "execution_count": 254,
     "metadata": {},
     "output_type": "execute_result"
    }
   ],
   "source": [
    "b1"
   ]
  }
 ],
 "metadata": {
  "kernelspec": {
   "display_name": "Python 3 (ipykernel)",
   "language": "python",
   "name": "python3"
  },
  "language_info": {
   "codemirror_mode": {
    "name": "ipython",
    "version": 3
   },
   "file_extension": ".py",
   "mimetype": "text/x-python",
   "name": "python",
   "nbconvert_exporter": "python",
   "pygments_lexer": "ipython3",
   "version": "3.11.4"
  }
 },
 "nbformat": 4,
 "nbformat_minor": 5
}
