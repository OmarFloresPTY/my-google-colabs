{
  "nbformat": 4,
  "nbformat_minor": 0,
  "metadata": {
    "colab": {
      "provenance": [],
      "toc_visible": true,
      "authorship_tag": "ABX9TyNK4e0Mrr3DhMZfzD0S9EHQ",
      "include_colab_link": true
    },
    "kernelspec": {
      "name": "python3",
      "display_name": "Python 3"
    },
    "language_info": {
      "name": "python"
    }
  },
  "cells": [
    {
      "cell_type": "markdown",
      "metadata": {
        "id": "view-in-github",
        "colab_type": "text"
      },
      "source": [
        "<a href=\"https://colab.research.google.com/github/OmarFloresPTY/my-google-colabs/blob/master/expresiones_regulares.ipynb\" target=\"_parent\"><img src=\"https://colab.research.google.com/assets/colab-badge.svg\" alt=\"Open In Colab\"/></a>"
      ]
    },
    {
      "cell_type": "markdown",
      "source": [
        "# Expresiones Regulares - Módulo Re"
      ],
      "metadata": {
        "id": "-R_YLee7IQ5A"
      }
    },
    {
      "cell_type": "code",
      "execution_count": null,
      "metadata": {
        "id": "1cYhkk_2pYDv"
      },
      "outputs": [],
      "source": [
        "import re"
      ]
    },
    {
      "cell_type": "markdown",
      "source": [
        "## Método Search()"
      ],
      "metadata": {
        "id": "WogwOwe4ppMY"
      }
    },
    {
      "cell_type": "markdown",
      "source": [
        "Este método permite buscar si el patrón se encuentra en alguna parte de la cadena. Una ventaja de usar este método es que nos permite buscar en cadenas muy largas un patrón."
      ],
      "metadata": {
        "id": "7gcfvtO2YBdM"
      }
    },
    {
      "cell_type": "code",
      "source": [
        "cadena = \"Vamos a aprender expresiones regulares en Python. Python es un lenguaje de sintaxis sencilla\"\n",
        "textoBuscar =\"Python\""
      ],
      "metadata": {
        "id": "lPP4wVs_suei"
      },
      "execution_count": null,
      "outputs": []
    },
    {
      "cell_type": "code",
      "source": [
        "textoEncontrado = re.search(textoBuscar,cadena)"
      ],
      "metadata": {
        "id": "dUncKjPEYSKm"
      },
      "execution_count": null,
      "outputs": []
    },
    {
      "cell_type": "code",
      "source": [
        "print(re.search(textoBuscar,cadena))"
      ],
      "metadata": {
        "colab": {
          "base_uri": "https://localhost:8080/"
        },
        "id": "COf73Xsrpcec",
        "outputId": "a67e37d7-5f45-40a9-9615-a3d8d6c8a91c"
      },
      "execution_count": null,
      "outputs": [
        {
          "output_type": "stream",
          "name": "stdout",
          "text": [
            "<re.Match object; span=(42, 48), match='Python'>\n"
          ]
        }
      ]
    },
    {
      "cell_type": "code",
      "source": [
        "if re.search(textoBuscar,cadena) is not None:\n",
        "  print(\"He encontrado el texto\")\n",
        "else:\n",
        "  print(\"No he encontrado el texto\")"
      ],
      "metadata": {
        "colab": {
          "base_uri": "https://localhost:8080/"
        },
        "id": "9P_uElzOqDn9",
        "outputId": "ea2b8ef1-a59c-4c55-ef93-9aff35392bc4"
      },
      "execution_count": null,
      "outputs": [
        {
          "output_type": "stream",
          "name": "stdout",
          "text": [
            "He encontrado el texto\n"
          ]
        }
      ]
    },
    {
      "cell_type": "code",
      "source": [
        "print(textoEncontrado.start()) #Nos muestra el número de caracter donde empezar a buscar el textoEncontrado\n",
        "print(textoEncontrado.end())#Nos muestra el número de caracter donde termina de buscar el textoEncontrado\n",
        "print(textoEncontrado.span())#Nos genera una tupla con el inicio y el final donde empezó a buscar el texto"
      ],
      "metadata": {
        "colab": {
          "base_uri": "https://localhost:8080/"
        },
        "id": "JmbVVjJtsIgF",
        "outputId": "765ca91c-1b30-47cb-c2c9-168422d51819"
      },
      "execution_count": null,
      "outputs": [
        {
          "output_type": "stream",
          "name": "stdout",
          "text": [
            "42\n",
            "48\n",
            "(42, 48)\n"
          ]
        }
      ]
    },
    {
      "cell_type": "code",
      "source": [
        "print(re.findall(textoBuscar,cadena)) #Nos genera una lista con las coincidencias"
      ],
      "metadata": {
        "colab": {
          "base_uri": "https://localhost:8080/"
        },
        "id": "m1pDxNQEt2Rk",
        "outputId": "348b6322-ce1d-453b-c42b-d246d8cafc79"
      },
      "execution_count": null,
      "outputs": [
        {
          "output_type": "stream",
          "name": "stdout",
          "text": [
            "['Python', 'Python']\n"
          ]
        }
      ]
    },
    {
      "cell_type": "markdown",
      "source": [
        "## Metacaracteres"
      ],
      "metadata": {
        "id": "jT7t6lY7ILWv"
      }
    },
    {
      "cell_type": "markdown",
      "source": [
        "\n",
        "\n",
        "---\n",
        "\n",
        "\n",
        "Los metacaracteres nos permiten realizar consultas e indicar cantidades en nuestras expresiones regulares:\n",
        "\n",
        "\n",
        "*   ^ : Indica que la búsqueda se realizará al inicio de la cadena.\n",
        "*   $ : Indica que la búsqueda se realizará al final de la cadena.\n",
        "\n",
        "\n",
        "*   +: Significa que lo que tengamos a la izquierda de este signo puede aparecer UNA ó MÁS VECES.\n",
        "*   *: Significa que lo que tengamos a la izquierda de este signo puede aparecer CERO ó MÁS VECES.\n",
        "* ?: Indica opcionalidad, es decir, lo que tengamos a la izquierda puede o no aparecer (puede aparecer 0 ó 1 veces)\n",
        "* {}: Indica el número de veces exacto que puede aparecer el carácter de la izquierda, o bien un rango de veces que pueda aparecer. {rango-inferior,rango-superior}\n",
        "\n",
        "\n",
        "\n",
        "---\n",
        "\n",
        "\n",
        "\n"
      ],
      "metadata": {
        "id": "JEzqZJfhDxUh"
      }
    },
    {
      "cell_type": "code",
      "source": [
        "lista_nombres = ['Ana Gómez','María Martín','Sandra López','Santiago Martín','Luz Solimar']"
      ],
      "metadata": {
        "id": "1xBjO70RIN0C"
      },
      "execution_count": null,
      "outputs": []
    },
    {
      "cell_type": "code",
      "source": [
        "for nombre in lista_nombres:\n",
        "  if re.findall('^San.',nombre): #Buscar nombre que comienza con San.\n",
        "    print(nombre)\n",
        "  if re.findall('mar$',nombre): #Buscar nombre que termine con mar.\n",
        "    print(nombre)\n",
        "  if re.findall('Martín$',nombre): #Buscar nombre que termine con Martín.\n",
        "    print(nombre)"
      ],
      "metadata": {
        "colab": {
          "base_uri": "https://localhost:8080/"
        },
        "id": "dl1YD4TcJBRm",
        "outputId": "4d44c49c-f238-4399-d76a-16ecada079e6"
      },
      "execution_count": null,
      "outputs": [
        {
          "output_type": "stream",
          "name": "stdout",
          "text": [
            "María Martín\n",
            "Sandra López\n",
            "Santiago Martín\n",
            "Santiago Martín\n",
            "Luz Solimar\n"
          ]
        }
      ]
    },
    {
      "cell_type": "code",
      "source": [
        "dominios = [\n",
        "    \"htpp://www.google.com\",\n",
        "    \"htpp://www.facebook.com\",\n",
        "    \"ftp://www.amazon.es\",\n",
        "    \"htpp://www.twitter.com\",\n",
        "    \"htpp://www.instagram.com\",\n",
        "    \"ftp://www.linkedin.com\",\n",
        "    \"htpp://www.youtube.es\",\n",
        "    \"ftp://www.reddit.com\",\n",
        "    \"ftp://www.wikipedia.org\",\n",
        "    \"ftp://www.stackoverflow.com\"\n",
        "]\n"
      ],
      "metadata": {
        "id": "9av_lROzOFLV"
      },
      "execution_count": null,
      "outputs": []
    },
    {
      "cell_type": "code",
      "source": [
        "for dominio in dominios:\n",
        "  if re.findall('^htpp://.+es',dominio):\n",
        "    print(dominio)"
      ],
      "metadata": {
        "colab": {
          "base_uri": "https://localhost:8080/"
        },
        "id": "9I5HorYZOxNQ",
        "outputId": "990bf5fb-e040-401d-aedc-5e6874a1bd2b"
      },
      "execution_count": null,
      "outputs": [
        {
          "output_type": "stream",
          "name": "stdout",
          "text": [
            "htpp://www.youtube.es\n"
          ]
        }
      ]
    },
    {
      "cell_type": "code",
      "source": [
        "lista_familia = ['Madre','Padre','Hijo','Hija','Abuelo','Abuela']"
      ],
      "metadata": {
        "id": "6No3X2PWeRfY"
      },
      "execution_count": null,
      "outputs": []
    },
    {
      "cell_type": "code",
      "source": [
        "for familiar in lista_familia:\n",
        "  if re.findall('Hij[oa]',familiar):\n",
        "    print(familiar)"
      ],
      "metadata": {
        "colab": {
          "base_uri": "https://localhost:8080/"
        },
        "id": "SwkQFKKJe6ZD",
        "outputId": "467ea342-658c-4b25-d28c-7d198d95192a"
      },
      "execution_count": null,
      "outputs": [
        {
          "output_type": "stream",
          "name": "stdout",
          "text": [
            "Hijo\n",
            "Hija\n"
          ]
        }
      ]
    },
    {
      "cell_type": "markdown",
      "source": [
        "## Rangos"
      ],
      "metadata": {
        "id": "5m2_g-spfmCN"
      }
    },
    {
      "cell_type": "code",
      "source": [
        "lista_nombres = ['Dante','Gerardo','Elmer','Louis','Omar','Encarnación','Alexandra']"
      ],
      "metadata": {
        "id": "MZ_o1qrffp3s"
      },
      "execution_count": null,
      "outputs": []
    },
    {
      "cell_type": "code",
      "source": [
        "for nombre in lista_nombres:\n",
        "  if re.findall('^[L-O]',nombre):#Imprime nombre que empieza en un rango de O-L\n",
        "    print(nombre)\n",
        "  if re.findall('[a-e]$',nombre): #Imprime nombre que termina en una letra en un rango de a-e\n",
        "    print(nombre)"
      ],
      "metadata": {
        "colab": {
          "base_uri": "https://localhost:8080/"
        },
        "id": "OOgbd-iXtnNE",
        "outputId": "7ccc2ba3-47dc-4315-aa08-cdd4bb3f6126"
      },
      "execution_count": null,
      "outputs": [
        {
          "output_type": "stream",
          "name": "stdout",
          "text": [
            "Dante\n",
            "Louis\n",
            "Omar\n",
            "Alexandra\n"
          ]
        }
      ]
    },
    {
      "cell_type": "code",
      "source": [
        "lista = ['Ma1','Se1','Ma2','Ba1','Ma3','Va1','Va2','Ma4','MaA','Ma5','MaB','Ma:C','Ma:D','Ma:E']"
      ],
      "metadata": {
        "id": "tar3vSGivWL0"
      },
      "execution_count": null,
      "outputs": []
    },
    {
      "cell_type": "code",
      "source": [
        "for elemento in lista:\n",
        "  if re.findall('Ma[2-5]',elemento):\n",
        "    print(elemento)"
      ],
      "metadata": {
        "colab": {
          "base_uri": "https://localhost:8080/"
        },
        "id": "PfPkqQ92vic6",
        "outputId": "66caf0de-d346-485e-d00a-252a6f31066c"
      },
      "execution_count": null,
      "outputs": [
        {
          "output_type": "stream",
          "name": "stdout",
          "text": [
            "Ma2\n",
            "Ma3\n",
            "Ma4\n",
            "Ma5\n"
          ]
        }
      ]
    },
    {
      "cell_type": "code",
      "source": [
        "for elemento in lista:\n",
        "  if re.findall('Ma[2-5A-B]',elemento):\n",
        "    print(elemento)"
      ],
      "metadata": {
        "colab": {
          "base_uri": "https://localhost:8080/"
        },
        "outputId": "c451c3fd-4be7-4c93-af17-3242e06724d9",
        "id": "5eS5q_LvzOrp"
      },
      "execution_count": null,
      "outputs": [
        {
          "output_type": "stream",
          "name": "stdout",
          "text": [
            "Ma2\n",
            "Ma3\n",
            "Ma4\n",
            "MaA\n",
            "Ma5\n",
            "MaB\n"
          ]
        }
      ]
    },
    {
      "cell_type": "code",
      "source": [
        "for elemento in lista:\n",
        "  if re.findall('Ma[.:]',elemento):\n",
        "    print(elemento)"
      ],
      "metadata": {
        "colab": {
          "base_uri": "https://localhost:8080/"
        },
        "id": "-03eRShA3Ftb",
        "outputId": "823038ac-5229-4e8f-9b12-6d907e663a96"
      },
      "execution_count": null,
      "outputs": [
        {
          "output_type": "stream",
          "name": "stdout",
          "text": [
            "Ma:C\n",
            "Ma:D\n",
            "Ma:E\n"
          ]
        }
      ]
    },
    {
      "cell_type": "markdown",
      "source": [
        "## Función Match()"
      ],
      "metadata": {
        "id": "qiH3FRmRTjuG"
      }
    },
    {
      "cell_type": "markdown",
      "source": [
        "La función Match() busca patrones siempre al comienzo de una cadena de strings."
      ],
      "metadata": {
        "id": "Q68flL3kU9bp"
      }
    },
    {
      "cell_type": "code",
      "source": [
        "nombre1 = \"Leo Messi\"\n",
        "nombre2 = \"leo Messi\"\n",
        "nombre3 = \"Cristiano Ronaldo\"\n",
        "nombre4 = \"Alexia Putella\""
      ],
      "metadata": {
        "id": "z-L8BECcTmpL"
      },
      "execution_count": null,
      "outputs": []
    },
    {
      "cell_type": "code",
      "source": [
        "if re.match(\"Leo\",nombre1):\n",
        "  print(\"Encontrado\")\n",
        "else:\n",
        "  print(\"NO Encontrado\")"
      ],
      "metadata": {
        "colab": {
          "base_uri": "https://localhost:8080/"
        },
        "id": "YimcV-lHU6vp",
        "outputId": "4aeb0477-7cef-489f-fd6b-8f43a2e7c0ed"
      },
      "execution_count": null,
      "outputs": [
        {
          "output_type": "stream",
          "name": "stdout",
          "text": [
            "Encontrado\n"
          ]
        }
      ]
    },
    {
      "cell_type": "code",
      "source": [
        "if re.match(\"Leo\",nombre2,re.IGNORECASE): #El IGNORECASE ignora si el patron de busqueda es \"MAY\" o \"min\".\n",
        "  print(\"Encontrado\")\n",
        "else:\n",
        "  print(\"NO Encontrado\")"
      ],
      "metadata": {
        "colab": {
          "base_uri": "https://localhost:8080/"
        },
        "id": "ZwUIPuVjV3OG",
        "outputId": "258329c1-5d07-43d4-bea5-8481ff3a0417"
      },
      "execution_count": null,
      "outputs": [
        {
          "output_type": "stream",
          "name": "stdout",
          "text": [
            "Encontrado\n"
          ]
        }
      ]
    },
    {
      "cell_type": "code",
      "source": [
        "if re.match(\".eo\",nombre1):\n",
        "  print(\"Encontrado\")\n",
        "else:\n",
        "  print(\"NO Encontrado\")"
      ],
      "metadata": {
        "colab": {
          "base_uri": "https://localhost:8080/"
        },
        "id": "pBaFM_TzWZYc",
        "outputId": "97c4e28d-9464-4731-8371-80aaf16be4f9"
      },
      "execution_count": null,
      "outputs": [
        {
          "output_type": "stream",
          "name": "stdout",
          "text": [
            "Encontrado\n"
          ]
        }
      ]
    },
    {
      "cell_type": "markdown",
      "source": [
        "### Secuencias Disponibles"
      ],
      "metadata": {
        "id": "MhFkARvPSFjp"
      }
    },
    {
      "cell_type": "markdown",
      "source": [
        "* “\\d”: un dígito. Equivale a [0-9]\n",
        "* “\\D”: cualquier carácter que no sea un dígito. Equivale a [^0-9]\n",
        "* “\\w”: cualquier caracter alfanumérico. Equivale a [a-zA-Z0-9_]\n",
        "* “\\W”: cualquier carácter no alfanumérico. Equivale a [^a-zA-Z0-9_]\n",
        "* “\\s”: cualquier carácter en blanco. Equivale a [\\t\\n\\r\\f\\v]\n",
        "* “\\S”: cualquier carácter que no sea un espacio en blanco. Equivale a [^ \\t\\n\\r\\f\\v]"
      ],
      "metadata": {
        "id": "7yl7UAO2SLQL"
      }
    },
    {
      "cell_type": "code",
      "source": [
        "cadena1= \"Jara López\"\n",
        "cadena2= \"1234413213\"\n",
        "cadena3= \"a12331\""
      ],
      "metadata": {
        "id": "Ec3kxpbUWwi-"
      },
      "execution_count": null,
      "outputs": []
    },
    {
      "cell_type": "code",
      "source": [
        "if re.match(\"\\d\",cadena2):\n",
        "  print(\"Encontrado el número\")\n",
        "else:\n",
        "  print(\"NO Encontrado\")"
      ],
      "metadata": {
        "colab": {
          "base_uri": "https://localhost:8080/"
        },
        "id": "TGE7Ki3qXEMo",
        "outputId": "cfbd7ba2-86e7-405c-8534-f950f21680e0"
      },
      "execution_count": null,
      "outputs": [
        {
          "output_type": "stream",
          "name": "stdout",
          "text": [
            "Encontrado el número\n"
          ]
        }
      ]
    },
    {
      "cell_type": "markdown",
      "source": [
        "## Ejemplos Prácticos"
      ],
      "metadata": {
        "id": "ysQCQ3xQY-Ye"
      }
    },
    {
      "cell_type": "markdown",
      "source": [
        "1. Válidar el formato de un correo."
      ],
      "metadata": {
        "id": "Y3eBLo22ZBC8"
      }
    },
    {
      "cell_type": "code",
      "source": [
        "correos = [\"oafo2699@gmail.com\",\"martinJr@outlook.com\",\"21jm\",\"mariodeLuke12@gmail.es\"]"
      ],
      "metadata": {
        "id": "bXLpzUDsZF_8"
      },
      "execution_count": null,
      "outputs": []
    },
    {
      "cell_type": "code",
      "source": [
        "for correo in correos:\n",
        "  if re.match(\"[a-z0-9]+@(gmail|outlook|hotmail)(.com|.es)\",correo,re.IGNORECASE):\n",
        "    print(\"El formato es válido: \",correo)\n",
        "  else: \n",
        "    print(\"El formato NO es válido: \",correo)"
      ],
      "metadata": {
        "colab": {
          "base_uri": "https://localhost:8080/"
        },
        "id": "vnj1uUPcZdaj",
        "outputId": "b9b07b42-b66e-4fec-897a-595c97236647"
      },
      "execution_count": null,
      "outputs": [
        {
          "output_type": "stream",
          "name": "stdout",
          "text": [
            "El formato es válido:  oafo2699@gmail.com\n",
            "El formato es válido:  martinJr@outlook.com\n",
            "El formato NO es válido:  21jm\n",
            "El formato es válido:  mariodeLuke12@gmail.es\n"
          ]
        }
      ]
    },
    {
      "cell_type": "markdown",
      "source": [
        "2. Validar el DNI de una persona."
      ],
      "metadata": {
        "id": "LYEUTWQzQgoR"
      }
    },
    {
      "cell_type": "code",
      "source": [
        "DNI = '13-122-1233'"
      ],
      "metadata": {
        "id": "Q4C8ZV6RRKf-"
      },
      "execution_count": null,
      "outputs": []
    },
    {
      "cell_type": "code",
      "source": [
        "if re.match(\"[0-9]{1,2}-[0-9]{1,5}-[0-9]{1,5}\",DNI):\n",
        "  print(\"El formato es correcto\")\n",
        "else: \n",
        "  print(\"El formato no es correcto\")"
      ],
      "metadata": {
        "colab": {
          "base_uri": "https://localhost:8080/"
        },
        "id": "4-9z2SzmQlSX",
        "outputId": "9a39b84e-4fd9-482c-d299-44645be123a6"
      },
      "execution_count": null,
      "outputs": [
        {
          "output_type": "stream",
          "name": "stdout",
          "text": [
            "El formato no es correcto\n"
          ]
        }
      ]
    },
    {
      "cell_type": "markdown",
      "source": [
        "3. Encontrar el Valor Sub Total de una Factura."
      ],
      "metadata": {
        "id": "is6_NVkLGi09"
      }
    },
    {
      "cell_type": "code",
      "source": [
        "factura = \"\"\"\n",
        "** FACTURA FERRETERIA HMNOS. MARIO. **\n",
        "Descripción | Cantidad | Precio\n",
        "Bloques       2           8.99\n",
        "Cementos      4           7.34\n",
        "Tejas         6           4.23\n",
        "Palas         3           6.77\n",
        "\n",
        "Sub Total: 93.03\n",
        "Metodo de pago: Tarjeta VISA\n",
        "Fecha: 24/05/2023\n",
        "\"\"\""
      ],
      "metadata": {
        "id": "r3tM0qkRGpEL"
      },
      "execution_count": null,
      "outputs": []
    },
    {
      "cell_type": "code",
      "source": [
        "print(factura)"
      ],
      "metadata": {
        "id": "ZfIKAcPHHqUn"
      },
      "execution_count": null,
      "outputs": []
    },
    {
      "cell_type": "code",
      "source": [
        "if re.search(\"Sub Total: [0-9]+.[0-9]{2}\",factura,re.IGNORECASE):\n",
        "  print(\"Encontramos el Sub Total\")\n",
        "else: \n",
        "  print(\"La factura no tiene Sub Total\")"
      ],
      "metadata": {
        "colab": {
          "base_uri": "https://localhost:8080/"
        },
        "id": "82dDK1n8HxcQ",
        "outputId": "ac5267e3-5896-43f9-c072-695837208a48"
      },
      "execution_count": null,
      "outputs": [
        {
          "output_type": "stream",
          "name": "stdout",
          "text": [
            "Encontramos el Sub Total\n"
          ]
        }
      ]
    },
    {
      "cell_type": "code",
      "source": [
        "sub_total = re.findall(\"Sub Total: [0-9]+.[0-9]{2}\",factura,re.IGNORECASE)\n",
        "print(sub_total)"
      ],
      "metadata": {
        "colab": {
          "base_uri": "https://localhost:8080/"
        },
        "id": "k2jWtZoeIzYY",
        "outputId": "f9acbce4-06b7-4540-d16f-eb1579b464f0"
      },
      "execution_count": null,
      "outputs": [
        {
          "output_type": "stream",
          "name": "stdout",
          "text": [
            "['Sub Total: 93.03']\n"
          ]
        }
      ]
    },
    {
      "cell_type": "markdown",
      "source": [
        "### Otros usos de las Expresiones Regulares"
      ],
      "metadata": {
        "id": "Y3U-33Ed3JYT"
      }
    },
    {
      "cell_type": "markdown",
      "source": [
        "El método split() divide la cadena utilizando el patrón dado."
      ],
      "metadata": {
        "id": "ewvAGTx12Y2b"
      }
    },
    {
      "cell_type": "code",
      "source": [
        "split1 = re.split(\"Sub Total: [0-9]+.[0-9]{2}\",factura)\n",
        "print(*split1)"
      ],
      "metadata": {
        "colab": {
          "base_uri": "https://localhost:8080/"
        },
        "id": "666I-1YZ1ozm",
        "outputId": "fb6d4803-5da2-43b5-8548-a139c613cc54"
      },
      "execution_count": null,
      "outputs": [
        {
          "output_type": "stream",
          "name": "stdout",
          "text": [
            "\n",
            "** FACTURA FERRETERIA HMNOS. MARIO. **\n",
            "Descripción | Cantidad | Precio\n",
            "Bloques       2           8.99\n",
            "Cementos      4           7.34\n",
            "Tejas         6           4.23\n",
            "Palas         3           6.77\n",
            "\n",
            " \n",
            "Metodo de pago: Tarjeta VISA\n",
            "Fecha: 24/05/2023\n",
            "\n"
          ]
        }
      ]
    },
    {
      "cell_type": "markdown",
      "source": [
        "La función sub() toma como parámetro un patrón a sustituir, una cadena que usar como reemplazo cada vez que encontremos el patrón, la cadena sobre la que realizar las sustituciones, y un entreo opcional indicando el número máximo de sustituciones."
      ],
      "metadata": {
        "id": "U9DZVqT93VxY"
      }
    },
    {
      "cell_type": "code",
      "source": [
        "sub1 = re.sub(\"Sub Total: [0-9]+.[0-9]{2}\",\"Sub Total: 93.03 $\",factura)\n",
        "print(sub1) #Factura actual modificada.\n",
        "#print(factura) #Factura anterior."
      ],
      "metadata": {
        "colab": {
          "base_uri": "https://localhost:8080/"
        },
        "id": "VTiTobT441fX",
        "outputId": "7e618efa-e632-4fc6-c90c-a264c5ef735c"
      },
      "execution_count": null,
      "outputs": [
        {
          "output_type": "stream",
          "name": "stdout",
          "text": [
            "\n",
            "** FACTURA FERRETERIA HMNOS. MARIO. **\n",
            "Descripción | Cantidad | Precio\n",
            "Bloques       2           8.99\n",
            "Cementos      4           7.34\n",
            "Tejas         6           4.23\n",
            "Palas         3           6.77\n",
            "\n",
            "Sub Total: 93.03 $\n",
            "Metodo de pago: Tarjeta VISA\n",
            "Fecha: 24/05/2023\n",
            "\n"
          ]
        }
      ]
    }
  ]
}
